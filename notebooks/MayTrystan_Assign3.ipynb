{
 "cells": [
  {
   "cell_type": "markdown",
   "source": [
    "# Module 4 - Assignment 3 - Creating AI Enabled Systems\n",
    "\n",
    "Trystan May\n",
    "\n",
    "Started: Sept. 24, 2022"
   ],
   "metadata": {
    "collapsed": false,
    "pycharm": {
     "name": "#%% md\n"
    }
   }
  },
  {
   "cell_type": "code",
   "execution_count": 1,
   "outputs": [],
   "source": [
    "import pandas as pd\n",
    "import typing as tp\n",
    "import nltk\n",
    "import os"
   ],
   "metadata": {
    "collapsed": false,
    "pycharm": {
     "name": "#%%\n"
    }
   }
  },
  {
   "cell_type": "code",
   "execution_count": 2,
   "outputs": [
    {
     "data": {
      "text/plain": "True"
     },
     "execution_count": 2,
     "metadata": {},
     "output_type": "execute_result"
    }
   ],
   "source": [
    "path_to_data: str = os.path.join('..', 'data', 'Assign3', 'Musical_instruments_reviews.csv')\n",
    "\n",
    "os.path.exists(path_to_data)"
   ],
   "metadata": {
    "collapsed": false,
    "pycharm": {
     "name": "#%%\n"
    }
   }
  },
  {
   "cell_type": "code",
   "execution_count": 3,
   "outputs": [
    {
     "data": {
      "text/plain": "           reviewerID        asin  \\\n0      A2IBPI20UZIR0U  1384719342   \n1      A14VAT5EAX3D9S  1384719342   \n2      A195EZSQDW3E21  1384719342   \n3      A2C00NNG1ZQQG2  1384719342   \n4       A94QU4C90B1AX  1384719342   \n...               ...         ...   \n10256  A14B2YH83ZXMPP  B00JBIVXGC   \n10257   A1RPTVW5VEOSI  B00JBIVXGC   \n10258   AWCJ12KBO5VII  B00JBIVXGC   \n10259  A2Z7S8B5U4PAKJ  B00JBIVXGC   \n10260  A2WA8TDCTGUADI  B00JBIVXGC   \n\n                                           reviewerName   helpful  \\\n0      cassandra tu \"Yeah, well, that's just like, u...    [0, 0]   \n1                                                  Jake  [13, 14]   \n2                         Rick Bennette \"Rick Bennette\"    [1, 1]   \n3                             RustyBill \"Sunday Rocker\"    [0, 0]   \n4                                         SEAN MASLANKA    [0, 0]   \n...                                                 ...       ...   \n10256                                   Lonnie M. Adams    [0, 0]   \n10257                                Michael J. Edelman    [0, 0]   \n10258                                  Michael L. Knapp    [0, 0]   \n10259                           Rick Langdon \"Scriptor\"    [0, 0]   \n10260                                   TheTerrorBeyond    [0, 0]   \n\n                                              reviewText  overall  \\\n0      Not much to write about here, but it does exac...      5.0   \n1      The product does exactly as it should and is q...      5.0   \n2      The primary job of this device is to block the...      5.0   \n3      Nice windscreen protects my MXL mic and preven...      5.0   \n4      This pop filter is great. It looks and perform...      5.0   \n...                                                  ...      ...   \n10256            Great, just as expected.  Thank to all.      5.0   \n10257  I've been thinking about trying the Nanoweb st...      5.0   \n10258  I have tried coated strings in the past ( incl...      4.0   \n10259  Well, MADE by Elixir and DEVELOPED with Taylor...      4.0   \n10260  These strings are really quite good, but I wou...      4.0   \n\n                                                 summary  unixReviewTime  \\\n0                                                   good      1393545600   \n1                                                   Jake      1363392000   \n2                                   It Does The Job Well      1377648000   \n3                          GOOD WINDSCREEN FOR THE MONEY      1392336000   \n4                  No more pops when I record my vocals.      1392940800   \n...                                                  ...             ...   \n10256                                         Five Stars      1405814400   \n10257  Long life, and for some players, a good econom...      1404259200   \n10258                                   Good for coated.      1405987200   \n10259                                        Taylor Made      1404172800   \n10260  These strings are really quite good, but I wou...      1405468800   \n\n        reviewTime  \n0      02 28, 2014  \n1      03 16, 2013  \n2      08 28, 2013  \n3      02 14, 2014  \n4      02 21, 2014  \n...            ...  \n10256  07 20, 2014  \n10257   07 2, 2014  \n10258  07 22, 2014  \n10259   07 1, 2014  \n10260  07 16, 2014  \n\n[10261 rows x 9 columns]",
      "text/html": "<div>\n<style scoped>\n    .dataframe tbody tr th:only-of-type {\n        vertical-align: middle;\n    }\n\n    .dataframe tbody tr th {\n        vertical-align: top;\n    }\n\n    .dataframe thead th {\n        text-align: right;\n    }\n</style>\n<table border=\"1\" class=\"dataframe\">\n  <thead>\n    <tr style=\"text-align: right;\">\n      <th></th>\n      <th>reviewerID</th>\n      <th>asin</th>\n      <th>reviewerName</th>\n      <th>helpful</th>\n      <th>reviewText</th>\n      <th>overall</th>\n      <th>summary</th>\n      <th>unixReviewTime</th>\n      <th>reviewTime</th>\n    </tr>\n  </thead>\n  <tbody>\n    <tr>\n      <th>0</th>\n      <td>A2IBPI20UZIR0U</td>\n      <td>1384719342</td>\n      <td>cassandra tu \"Yeah, well, that's just like, u...</td>\n      <td>[0, 0]</td>\n      <td>Not much to write about here, but it does exac...</td>\n      <td>5.0</td>\n      <td>good</td>\n      <td>1393545600</td>\n      <td>02 28, 2014</td>\n    </tr>\n    <tr>\n      <th>1</th>\n      <td>A14VAT5EAX3D9S</td>\n      <td>1384719342</td>\n      <td>Jake</td>\n      <td>[13, 14]</td>\n      <td>The product does exactly as it should and is q...</td>\n      <td>5.0</td>\n      <td>Jake</td>\n      <td>1363392000</td>\n      <td>03 16, 2013</td>\n    </tr>\n    <tr>\n      <th>2</th>\n      <td>A195EZSQDW3E21</td>\n      <td>1384719342</td>\n      <td>Rick Bennette \"Rick Bennette\"</td>\n      <td>[1, 1]</td>\n      <td>The primary job of this device is to block the...</td>\n      <td>5.0</td>\n      <td>It Does The Job Well</td>\n      <td>1377648000</td>\n      <td>08 28, 2013</td>\n    </tr>\n    <tr>\n      <th>3</th>\n      <td>A2C00NNG1ZQQG2</td>\n      <td>1384719342</td>\n      <td>RustyBill \"Sunday Rocker\"</td>\n      <td>[0, 0]</td>\n      <td>Nice windscreen protects my MXL mic and preven...</td>\n      <td>5.0</td>\n      <td>GOOD WINDSCREEN FOR THE MONEY</td>\n      <td>1392336000</td>\n      <td>02 14, 2014</td>\n    </tr>\n    <tr>\n      <th>4</th>\n      <td>A94QU4C90B1AX</td>\n      <td>1384719342</td>\n      <td>SEAN MASLANKA</td>\n      <td>[0, 0]</td>\n      <td>This pop filter is great. It looks and perform...</td>\n      <td>5.0</td>\n      <td>No more pops when I record my vocals.</td>\n      <td>1392940800</td>\n      <td>02 21, 2014</td>\n    </tr>\n    <tr>\n      <th>...</th>\n      <td>...</td>\n      <td>...</td>\n      <td>...</td>\n      <td>...</td>\n      <td>...</td>\n      <td>...</td>\n      <td>...</td>\n      <td>...</td>\n      <td>...</td>\n    </tr>\n    <tr>\n      <th>10256</th>\n      <td>A14B2YH83ZXMPP</td>\n      <td>B00JBIVXGC</td>\n      <td>Lonnie M. Adams</td>\n      <td>[0, 0]</td>\n      <td>Great, just as expected.  Thank to all.</td>\n      <td>5.0</td>\n      <td>Five Stars</td>\n      <td>1405814400</td>\n      <td>07 20, 2014</td>\n    </tr>\n    <tr>\n      <th>10257</th>\n      <td>A1RPTVW5VEOSI</td>\n      <td>B00JBIVXGC</td>\n      <td>Michael J. Edelman</td>\n      <td>[0, 0]</td>\n      <td>I've been thinking about trying the Nanoweb st...</td>\n      <td>5.0</td>\n      <td>Long life, and for some players, a good econom...</td>\n      <td>1404259200</td>\n      <td>07 2, 2014</td>\n    </tr>\n    <tr>\n      <th>10258</th>\n      <td>AWCJ12KBO5VII</td>\n      <td>B00JBIVXGC</td>\n      <td>Michael L. Knapp</td>\n      <td>[0, 0]</td>\n      <td>I have tried coated strings in the past ( incl...</td>\n      <td>4.0</td>\n      <td>Good for coated.</td>\n      <td>1405987200</td>\n      <td>07 22, 2014</td>\n    </tr>\n    <tr>\n      <th>10259</th>\n      <td>A2Z7S8B5U4PAKJ</td>\n      <td>B00JBIVXGC</td>\n      <td>Rick Langdon \"Scriptor\"</td>\n      <td>[0, 0]</td>\n      <td>Well, MADE by Elixir and DEVELOPED with Taylor...</td>\n      <td>4.0</td>\n      <td>Taylor Made</td>\n      <td>1404172800</td>\n      <td>07 1, 2014</td>\n    </tr>\n    <tr>\n      <th>10260</th>\n      <td>A2WA8TDCTGUADI</td>\n      <td>B00JBIVXGC</td>\n      <td>TheTerrorBeyond</td>\n      <td>[0, 0]</td>\n      <td>These strings are really quite good, but I wou...</td>\n      <td>4.0</td>\n      <td>These strings are really quite good, but I wou...</td>\n      <td>1405468800</td>\n      <td>07 16, 2014</td>\n    </tr>\n  </tbody>\n</table>\n<p>10261 rows × 9 columns</p>\n</div>"
     },
     "execution_count": 3,
     "metadata": {},
     "output_type": "execute_result"
    }
   ],
   "source": [
    "df: pd.DataFrame = pd.read_csv(path_to_data)\n",
    "df"
   ],
   "metadata": {
    "collapsed": false,
    "pycharm": {
     "name": "#%%\n"
    }
   }
  },
  {
   "cell_type": "code",
   "execution_count": 4,
   "outputs": [
    {
     "data": {
      "text/plain": "0                                                   [good]\n1                                                   [Jake]\n2                               [It, Does, The, Job, Well]\n3                      [GOOD, WINDSCREEN, FOR, THE, MONEY]\n4         [No, more, pops, when, I, record, my, vocals, .]\n                               ...                        \n10256                                        [Five, Stars]\n10257    [Long, life, ,, and, for, some, players, ,, a,...\n10258                               [Good, for, coated, .]\n10259                                       [Taylor, Made]\n10260    [These, strings, are, really, quite, good, ,, ...\nName: tokenized, Length: 10261, dtype: object"
     },
     "execution_count": 4,
     "metadata": {},
     "output_type": "execute_result"
    }
   ],
   "source": [
    "df['tokenized'] = df['summary'].apply(lambda s: nltk.word_tokenize(s))\n",
    "df['tokenized']"
   ],
   "metadata": {
    "collapsed": false,
    "pycharm": {
     "name": "#%%\n"
    }
   }
  },
  {
   "cell_type": "code",
   "execution_count": 5,
   "outputs": [
    {
     "data": {
      "text/plain": "                                                 summary  \\\n0                                                   good   \n1                                                   Jake   \n2                                   It Does The Job Well   \n3                          GOOD WINDSCREEN FOR THE MONEY   \n4                  No more pops when I record my vocals.   \n...                                                  ...   \n10256                                         Five Stars   \n10257  Long life, and for some players, a good econom...   \n10258                                   Good for coated.   \n10259                                        Taylor Made   \n10260  These strings are really quite good, but I wou...   \n\n                                                 stemmed  \n0                                                   good  \n1                                                   jake  \n2                                    it does the job wel  \n3                          good windscreen for the money  \n4                  no more pops when i record my vocals.  \n...                                                  ...  \n10256                                          five star  \n10257  long life, and for some players, a good econom...  \n10258                                   good for coated.  \n10259                                         taylor mad  \n10260  these strings are really quite good, but i wou...  \n\n[10261 rows x 2 columns]",
      "text/html": "<div>\n<style scoped>\n    .dataframe tbody tr th:only-of-type {\n        vertical-align: middle;\n    }\n\n    .dataframe tbody tr th {\n        vertical-align: top;\n    }\n\n    .dataframe thead th {\n        text-align: right;\n    }\n</style>\n<table border=\"1\" class=\"dataframe\">\n  <thead>\n    <tr style=\"text-align: right;\">\n      <th></th>\n      <th>summary</th>\n      <th>stemmed</th>\n    </tr>\n  </thead>\n  <tbody>\n    <tr>\n      <th>0</th>\n      <td>good</td>\n      <td>good</td>\n    </tr>\n    <tr>\n      <th>1</th>\n      <td>Jake</td>\n      <td>jake</td>\n    </tr>\n    <tr>\n      <th>2</th>\n      <td>It Does The Job Well</td>\n      <td>it does the job wel</td>\n    </tr>\n    <tr>\n      <th>3</th>\n      <td>GOOD WINDSCREEN FOR THE MONEY</td>\n      <td>good windscreen for the money</td>\n    </tr>\n    <tr>\n      <th>4</th>\n      <td>No more pops when I record my vocals.</td>\n      <td>no more pops when i record my vocals.</td>\n    </tr>\n    <tr>\n      <th>...</th>\n      <td>...</td>\n      <td>...</td>\n    </tr>\n    <tr>\n      <th>10256</th>\n      <td>Five Stars</td>\n      <td>five star</td>\n    </tr>\n    <tr>\n      <th>10257</th>\n      <td>Long life, and for some players, a good econom...</td>\n      <td>long life, and for some players, a good econom...</td>\n    </tr>\n    <tr>\n      <th>10258</th>\n      <td>Good for coated.</td>\n      <td>good for coated.</td>\n    </tr>\n    <tr>\n      <th>10259</th>\n      <td>Taylor Made</td>\n      <td>taylor mad</td>\n    </tr>\n    <tr>\n      <th>10260</th>\n      <td>These strings are really quite good, but I wou...</td>\n      <td>these strings are really quite good, but i wou...</td>\n    </tr>\n  </tbody>\n</table>\n<p>10261 rows × 2 columns</p>\n</div>"
     },
     "execution_count": 5,
     "metadata": {},
     "output_type": "execute_result"
    }
   ],
   "source": [
    "from nltk.stem import PorterStemmer\n",
    "\n",
    "stemmer = PorterStemmer()\n",
    "\n",
    "df['stemmed'] = df['summary'].apply(lambda s: stemmer.stem(s))\n",
    "\n",
    "df[['summary', 'stemmed']]"
   ],
   "metadata": {
    "collapsed": false,
    "pycharm": {
     "name": "#%%\n"
    }
   }
  },
  {
   "cell_type": "markdown",
   "source": [
    "That honestly seems like it randomly stems things that don't need it. Like 'vocals.' and 'cable'. I can see that it didn't stem it because of the period in vocals and -able *is* a common ending of words cable becoming c makes sense but still"
   ],
   "metadata": {
    "collapsed": false,
    "pycharm": {
     "name": "#%% md\n"
    }
   }
  },
  {
   "cell_type": "code",
   "execution_count": 6,
   "outputs": [
    {
     "name": "stderr",
     "output_type": "stream",
     "text": [
      "[nltk_data] Downloading package wordnet to\n",
      "[nltk_data]     /home/duke_trystan/nltk_data...\n",
      "[nltk_data]   Package wordnet is already up-to-date!\n",
      "[nltk_data] Downloading package omw-1.4 to\n",
      "[nltk_data]     /home/duke_trystan/nltk_data...\n",
      "[nltk_data]   Package omw-1.4 is already up-to-date!\n",
      "[nltk_data] Downloading package averaged_perceptron_tagger to\n",
      "[nltk_data]     /home/duke_trystan/nltk_data...\n",
      "[nltk_data]   Package averaged_perceptron_tagger is already up-to-\n",
      "[nltk_data]       date!\n"
     ]
    },
    {
     "data": {
      "text/plain": "                                                 summary  \\\n0                                                   good   \n1                                                   Jake   \n2                                   It Does The Job Well   \n3                          GOOD WINDSCREEN FOR THE MONEY   \n4                  No more pops when I record my vocals.   \n...                                                  ...   \n10256                                         Five Stars   \n10257  Long life, and for some players, a good econom...   \n10258                                   Good for coated.   \n10259                                        Taylor Made   \n10260  These strings are really quite good, but I wou...   \n\n                                                 stemmed  \\\n0                                                   good   \n1                                                   jake   \n2                                    it does the job wel   \n3                          good windscreen for the money   \n4                  no more pops when i record my vocals.   \n...                                                  ...   \n10256                                          five star   \n10257  long life, and for some players, a good econom...   \n10258                                   good for coated.   \n10259                                         taylor mad   \n10260  these strings are really quite good, but i wou...   \n\n                                              lemmatized  \n0                                                   good  \n1                                                   jake  \n2                                     it do the job well  \n3                          good windscreen for the money  \n4                   no more pop when i record my vocal .  \n...                                                  ...  \n10256                                          five star  \n10257  long life , and for some player , a good econo...  \n10258                                    good for coat .  \n10259                                        taylor make  \n10260  these string be really quite good , but i woul...  \n\n[10261 rows x 3 columns]",
      "text/html": "<div>\n<style scoped>\n    .dataframe tbody tr th:only-of-type {\n        vertical-align: middle;\n    }\n\n    .dataframe tbody tr th {\n        vertical-align: top;\n    }\n\n    .dataframe thead th {\n        text-align: right;\n    }\n</style>\n<table border=\"1\" class=\"dataframe\">\n  <thead>\n    <tr style=\"text-align: right;\">\n      <th></th>\n      <th>summary</th>\n      <th>stemmed</th>\n      <th>lemmatized</th>\n    </tr>\n  </thead>\n  <tbody>\n    <tr>\n      <th>0</th>\n      <td>good</td>\n      <td>good</td>\n      <td>good</td>\n    </tr>\n    <tr>\n      <th>1</th>\n      <td>Jake</td>\n      <td>jake</td>\n      <td>jake</td>\n    </tr>\n    <tr>\n      <th>2</th>\n      <td>It Does The Job Well</td>\n      <td>it does the job wel</td>\n      <td>it do the job well</td>\n    </tr>\n    <tr>\n      <th>3</th>\n      <td>GOOD WINDSCREEN FOR THE MONEY</td>\n      <td>good windscreen for the money</td>\n      <td>good windscreen for the money</td>\n    </tr>\n    <tr>\n      <th>4</th>\n      <td>No more pops when I record my vocals.</td>\n      <td>no more pops when i record my vocals.</td>\n      <td>no more pop when i record my vocal .</td>\n    </tr>\n    <tr>\n      <th>...</th>\n      <td>...</td>\n      <td>...</td>\n      <td>...</td>\n    </tr>\n    <tr>\n      <th>10256</th>\n      <td>Five Stars</td>\n      <td>five star</td>\n      <td>five star</td>\n    </tr>\n    <tr>\n      <th>10257</th>\n      <td>Long life, and for some players, a good econom...</td>\n      <td>long life, and for some players, a good econom...</td>\n      <td>long life , and for some player , a good econo...</td>\n    </tr>\n    <tr>\n      <th>10258</th>\n      <td>Good for coated.</td>\n      <td>good for coated.</td>\n      <td>good for coat .</td>\n    </tr>\n    <tr>\n      <th>10259</th>\n      <td>Taylor Made</td>\n      <td>taylor mad</td>\n      <td>taylor make</td>\n    </tr>\n    <tr>\n      <th>10260</th>\n      <td>These strings are really quite good, but I wou...</td>\n      <td>these strings are really quite good, but i wou...</td>\n      <td>these string be really quite good , but i woul...</td>\n    </tr>\n  </tbody>\n</table>\n<p>10261 rows × 3 columns</p>\n</div>"
     },
     "execution_count": 6,
     "metadata": {},
     "output_type": "execute_result"
    }
   ],
   "source": [
    "from nltk.stem import WordNetLemmatizer\n",
    "from nltk.corpus import wordnet as wn\n",
    "\n",
    "# Got the idea for this code here - https://gaurav5430.medium.com/using-nltk-for-lemmatizing-sentences-c1bfff963258\n",
    "\n",
    "nltk.download('wordnet')\n",
    "nltk.download('omw-1.4')\n",
    "nltk.download('averaged_perceptron_tagger')\n",
    "\n",
    "lemmatizer = WordNetLemmatizer()\n",
    "\n",
    "def convert_to_wordnet_pos(nltk_pos: str) -> tp.Optional[str]:\n",
    "    if nltk_pos.startswith('J'):\n",
    "        return wn.ADJ\n",
    "    elif nltk_pos.startswith('V'):\n",
    "        return wn.VERB\n",
    "    elif nltk_pos.startswith('N'):\n",
    "        return wn.NOUN\n",
    "    elif nltk_pos.startswith('R'):\n",
    "        return wn.ADV\n",
    "    else:\n",
    "        return None\n",
    "\n",
    "\n",
    "def lemmatize_sentence(sentence: str) -> str:\n",
    "    tokenized: tp.List[str] = nltk.wordpunct_tokenize(sentence.lower())\n",
    "    nltk_poses: tp.List[tp.Tuple[str, str]] = nltk.pos_tag(tokenized)\n",
    "    wordnet_poses: tp.List[tp.Tuple[str, str]] = [(token, convert_to_wordnet_pos(nltk_pos)) for token, nltk_pos in nltk_poses]\n",
    "\n",
    "    lemmatized_sentence: tp.List[str] = [lemmatizer.lemmatize(token, pos=wn_pos) if wn_pos is not None else token for token, wn_pos in wordnet_poses]\n",
    "\n",
    "    return ' '.join(lemmatized_sentence)\n",
    "\n",
    "\n",
    "df['lemmatized'] = df['summary'].apply(lambda s: lemmatize_sentence(s))\n",
    "\n",
    "df[['summary', 'stemmed', 'lemmatized']]"
   ],
   "metadata": {
    "collapsed": false,
    "pycharm": {
     "name": "#%%\n"
    }
   }
  },
  {
   "cell_type": "code",
   "execution_count": 7,
   "outputs": [
    {
     "name": "stdout",
     "output_type": "stream",
     "text": [
      "Row #00:\n",
      "\tSummary: good\n",
      "\tTokenized: [\"good\"]\n",
      "\tStemmed: good\n",
      "\tLemmatized: good\n",
      "Row #01:\n",
      "\tSummary: Jake\n",
      "\tTokenized: [\"Jake\"]\n",
      "\tStemmed: jake\n",
      "\tLemmatized: jake\n",
      "Row #02:\n",
      "\tSummary: It Does The Job Well\n",
      "\tTokenized: [\"It\", \"Does\", \"The\", \"Job\", \"Well\"]\n",
      "\tStemmed: it does the job wel\n",
      "\tLemmatized: it do the job well\n",
      "Row #03:\n",
      "\tSummary: GOOD WINDSCREEN FOR THE MONEY\n",
      "\tTokenized: [\"GOOD\", \"WINDSCREEN\", \"FOR\", \"THE\", \"MONEY\"]\n",
      "\tStemmed: good windscreen for the money\n",
      "\tLemmatized: good windscreen for the money\n",
      "Row #04:\n",
      "\tSummary: No more pops when I record my vocals.\n",
      "\tTokenized: [\"No\", \"more\", \"pops\", \"when\", \"I\", \"record\", \"my\", \"vocals\", \".\"]\n",
      "\tStemmed: no more pops when i record my vocals.\n",
      "\tLemmatized: no more pop when i record my vocal .\n"
     ]
    }
   ],
   "source": [
    "for i, (summary, lemmatized, stemmed, tokenized) in df[['summary', 'lemmatized', 'stemmed', 'tokenized']].head().iterrows():\n",
    "    print(f'Row #{i:02d}:')\n",
    "    print(f'\\tSummary: {summary}')\n",
    "    tokenized_str: str = '\", \"'.join(tokenized)\n",
    "    print(f'\\tTokenized: [\"{tokenized_str}\"]')\n",
    "    print(f'\\tStemmed: {stemmed}')\n",
    "    print(f'\\tLemmatized: {lemmatized}')\n"
   ],
   "metadata": {
    "collapsed": false,
    "pycharm": {
     "name": "#%%\n"
    }
   }
  },
  {
   "cell_type": "code",
   "execution_count": 7,
   "outputs": [],
   "source": [],
   "metadata": {
    "collapsed": false,
    "pycharm": {
     "name": "#%%\n"
    }
   }
  }
 ],
 "metadata": {
  "kernelspec": {
   "display_name": "Python 3",
   "language": "python",
   "name": "python3"
  },
  "language_info": {
   "codemirror_mode": {
    "name": "ipython",
    "version": 2
   },
   "file_extension": ".py",
   "mimetype": "text/x-python",
   "name": "python",
   "nbconvert_exporter": "python",
   "pygments_lexer": "ipython2",
   "version": "2.7.6"
  }
 },
 "nbformat": 4,
 "nbformat_minor": 0
}
{
 "cells": [
  {
   "cell_type": "code",
   "execution_count": 2,
   "outputs": [],
   "source": [
    "import numpy as np\n",
    "import pickle\n",
    "import os\n",
    "import pandas as pd\n",
    "from sklearn.naive_bayes import GaussianNB"
   ],
   "metadata": {
    "collapsed": false,
    "pycharm": {
     "name": "#%%\n"
    }
   }
  },
  {
   "cell_type": "code",
   "execution_count": 18,
   "outputs": [
    {
     "data": {
      "text/plain": "     movement_id  subject_id  episode_num  \\\n0              4           6            3   \n1              5           7            8   \n2              3           1            7   \n3              3           2            8   \n4              1           2            4   \n..           ...         ...          ...   \n995            3           8            4   \n996            5           2            9   \n997            1           6            5   \n998           10           4            6   \n999            2           2            5   \n\n                                             positions  \\\n0    [[-3.02874, 75.90507, -270.5936, 0.0, 27.79706...   \n1    [[-1.38662, 84.46687, -232.60986, 0.0, 28.7417...   \n2    [[-12.26233, 81.59789, -248.86124, -2e-05, 27....   \n3    [[-32.37641, 83.38937, -259.35818, 0.0, 30.475...   \n4    [[-5.75375, 91.87819, -256.75516, 0.0, 31.3124...   \n..                                                 ...   \n995  [[17.04467, 71.51766, -242.50504, -1e-05, 30.1...   \n996  [[-8.55602, 86.74068, -246.46729, 0.0, 32.6057...   \n997  [[-6.20921, 86.80801, -217.42557, 0.0, 27.6363...   \n998  [[-1.20263, 89.59221, -245.85535, -1e-05, 31.5...   \n999  [[-11.48286, 93.07993, -253.60973, 0.0, 32.119...   \n\n                                                angles  \\\n0    [[0.14469, 0.65008, -0.55925, 2.28859, 1.14512...   \n1    [[1.29924, -0.9601, -1.45577, 1.84614, 0.07701...   \n2    [[4.66077, 56.68494, 0.06777, 1.09106, 3.04529...   \n3    [[6.7506, 30.05265, -0.95628, 1.56654, 5.7209,...   \n4    [[18.99975, 1.46816, -1.66474, 2.46127, -1.360...   \n..                                                 ...   \n995  [[2.46397, -30.05998, 0.82837, 1.3109, -6.5417...   \n996  [[14.07636, 0.746, -0.30391, 2.17672, -2.15947...   \n997  [[2.47181, -3.54129, -2.92796, 2.75055, -0.980...   \n998  [[-0.09863, -4.69102, -0.63648, 1.78622, -0.85...   \n999  [[1.59296, 3.33095, 2.81337, 1.76453, -2.27061...   \n\n                                        positions_path  \\\n0    ../data/SemesterProject/Segmented Movements/Ki...   \n1    ../data/SemesterProject/Segmented Movements/Ki...   \n2    ../data/SemesterProject/Segmented Movements/Ki...   \n3    ../data/SemesterProject/Segmented Movements/Ki...   \n4    ../data/SemesterProject/Segmented Movements/Ki...   \n..                                                 ...   \n995  ../data/SemesterProject/Segmented Movements/Ki...   \n996  ../data/SemesterProject/Segmented Movements/Ki...   \n997  ../data/SemesterProject/Segmented Movements/Ki...   \n998  ../data/SemesterProject/Segmented Movements/Ki...   \n999  ../data/SemesterProject/Segmented Movements/Ki...   \n\n                                           angles_path  \\\n0    ../data/SemesterProject/Segmented Movements/Ki...   \n1    ../data/SemesterProject/Segmented Movements/Ki...   \n2    ../data/SemesterProject/Segmented Movements/Ki...   \n3    ../data/SemesterProject/Segmented Movements/Ki...   \n4    ../data/SemesterProject/Segmented Movements/Ki...   \n..                                                 ...   \n995  ../data/SemesterProject/Segmented Movements/Ki...   \n996  ../data/SemesterProject/Segmented Movements/Ki...   \n997  ../data/SemesterProject/Segmented Movements/Ki...   \n998  ../data/SemesterProject/Segmented Movements/Ki...   \n999  ../data/SemesterProject/Segmented Movements/Ki...   \n\n                                              skeleton  \\\n0    [[[-3.02874, -3.0521766666666665, -3.233198000...   \n1    [[[-1.38662, -1.3767133333333332, -1.343484, -...   \n2    [[[-12.26233, -12.32828, -12.324802, -12.30633...   \n3    [[[-32.37641, -32.4872, -32.529323999999995, -...   \n4    [[[-5.75375, -5.718733333333334, -5.70244, -5....   \n..                                                 ...   \n995  [[[17.04467, 17.053053333333335, 17.0540700000...   \n996  [[[-8.55602, -8.558116666666667, -8.550202, -8...   \n997  [[[-6.20921, -6.245676666666665, -6.262276, -6...   \n998  [[[-1.20263, -1.2766499999999998, -1.333304, -...   \n999  [[[-11.48286, -11.422663333333333, -11.378308,...   \n\n                  movement_name  \\\n0                    side_lunge   \n1                  sit_to_stand   \n2                  inline_lunge   \n3                  inline_lunge   \n4                    deep_squat   \n..                          ...   \n995                inline_lunge   \n996                sit_to_stand   \n997                  deep_squat   \n998  standing_shoulder_scaption   \n999                 hurdle_step   \n\n                                     reshaped_skeleton  \\\n0    [[[-3.02874, -3.0521766666666665, -3.233198000...   \n1    [[[-1.38662, -1.3767133333333332, -1.343484], ...   \n2    [[[-12.26233, -12.32828, -12.324802], [-12.306...   \n3    [[[-32.37641, -32.4872, -32.529323999999995], ...   \n4    [[[-5.75375, -5.718733333333334, -5.70244], [-...   \n..                                                 ...   \n995  [[[17.04467, 17.053053333333335, 17.0540700000...   \n996  [[[-8.55602, -8.558116666666667, -8.550202], [...   \n997  [[[-6.20921, -6.245676666666665, -6.262276], [...   \n998  [[[-1.20263, -1.2766499999999998, -1.333304], ...   \n999  [[[-11.48286, -11.422663333333333, -11.378308]...   \n\n                                             movements  \n0    [4, 4, 4, 4, 4, 4, 4, 4, 4, 4, 4, 4, 4, 4, 4, ...  \n1    [5, 5, 5, 5, 5, 5, 5, 5, 5, 5, 5, 5, 5, 5, 5, ...  \n2    [3, 3, 3, 3, 3, 3, 3, 3, 3, 3, 3, 3, 3, 3, 3, ...  \n3    [3, 3, 3, 3, 3, 3, 3, 3, 3, 3, 3, 3, 3, 3, 3, ...  \n4    [1, 1, 1, 1, 1, 1, 1, 1, 1, 1, 1, 1, 1, 1, 1, ...  \n..                                                 ...  \n995  [3, 3, 3, 3, 3, 3, 3, 3, 3, 3, 3, 3, 3, 3, 3, ...  \n996  [5, 5, 5, 5, 5, 5, 5, 5, 5, 5, 5, 5, 5, 5, 5, ...  \n997  [1, 1, 1, 1, 1, 1, 1, 1, 1, 1, 1, 1, 1, 1, 1, ...  \n998  [10, 10, 10, 10, 10, 10, 10, 10, 10, 10, 10, 1...  \n999  [2, 2, 2, 2, 2, 2, 2, 2, 2, 2, 2, 2, 2, 2, 2, ...  \n\n[1000 rows x 11 columns]",
      "text/html": "<div>\n<style scoped>\n    .dataframe tbody tr th:only-of-type {\n        vertical-align: middle;\n    }\n\n    .dataframe tbody tr th {\n        vertical-align: top;\n    }\n\n    .dataframe thead th {\n        text-align: right;\n    }\n</style>\n<table border=\"1\" class=\"dataframe\">\n  <thead>\n    <tr style=\"text-align: right;\">\n      <th></th>\n      <th>movement_id</th>\n      <th>subject_id</th>\n      <th>episode_num</th>\n      <th>positions</th>\n      <th>angles</th>\n      <th>positions_path</th>\n      <th>angles_path</th>\n      <th>skeleton</th>\n      <th>movement_name</th>\n      <th>reshaped_skeleton</th>\n      <th>movements</th>\n    </tr>\n  </thead>\n  <tbody>\n    <tr>\n      <th>0</th>\n      <td>4</td>\n      <td>6</td>\n      <td>3</td>\n      <td>[[-3.02874, 75.90507, -270.5936, 0.0, 27.79706...</td>\n      <td>[[0.14469, 0.65008, -0.55925, 2.28859, 1.14512...</td>\n      <td>../data/SemesterProject/Segmented Movements/Ki...</td>\n      <td>../data/SemesterProject/Segmented Movements/Ki...</td>\n      <td>[[[-3.02874, -3.0521766666666665, -3.233198000...</td>\n      <td>side_lunge</td>\n      <td>[[[-3.02874, -3.0521766666666665, -3.233198000...</td>\n      <td>[4, 4, 4, 4, 4, 4, 4, 4, 4, 4, 4, 4, 4, 4, 4, ...</td>\n    </tr>\n    <tr>\n      <th>1</th>\n      <td>5</td>\n      <td>7</td>\n      <td>8</td>\n      <td>[[-1.38662, 84.46687, -232.60986, 0.0, 28.7417...</td>\n      <td>[[1.29924, -0.9601, -1.45577, 1.84614, 0.07701...</td>\n      <td>../data/SemesterProject/Segmented Movements/Ki...</td>\n      <td>../data/SemesterProject/Segmented Movements/Ki...</td>\n      <td>[[[-1.38662, -1.3767133333333332, -1.343484, -...</td>\n      <td>sit_to_stand</td>\n      <td>[[[-1.38662, -1.3767133333333332, -1.343484], ...</td>\n      <td>[5, 5, 5, 5, 5, 5, 5, 5, 5, 5, 5, 5, 5, 5, 5, ...</td>\n    </tr>\n    <tr>\n      <th>2</th>\n      <td>3</td>\n      <td>1</td>\n      <td>7</td>\n      <td>[[-12.26233, 81.59789, -248.86124, -2e-05, 27....</td>\n      <td>[[4.66077, 56.68494, 0.06777, 1.09106, 3.04529...</td>\n      <td>../data/SemesterProject/Segmented Movements/Ki...</td>\n      <td>../data/SemesterProject/Segmented Movements/Ki...</td>\n      <td>[[[-12.26233, -12.32828, -12.324802, -12.30633...</td>\n      <td>inline_lunge</td>\n      <td>[[[-12.26233, -12.32828, -12.324802], [-12.306...</td>\n      <td>[3, 3, 3, 3, 3, 3, 3, 3, 3, 3, 3, 3, 3, 3, 3, ...</td>\n    </tr>\n    <tr>\n      <th>3</th>\n      <td>3</td>\n      <td>2</td>\n      <td>8</td>\n      <td>[[-32.37641, 83.38937, -259.35818, 0.0, 30.475...</td>\n      <td>[[6.7506, 30.05265, -0.95628, 1.56654, 5.7209,...</td>\n      <td>../data/SemesterProject/Segmented Movements/Ki...</td>\n      <td>../data/SemesterProject/Segmented Movements/Ki...</td>\n      <td>[[[-32.37641, -32.4872, -32.529323999999995, -...</td>\n      <td>inline_lunge</td>\n      <td>[[[-32.37641, -32.4872, -32.529323999999995], ...</td>\n      <td>[3, 3, 3, 3, 3, 3, 3, 3, 3, 3, 3, 3, 3, 3, 3, ...</td>\n    </tr>\n    <tr>\n      <th>4</th>\n      <td>1</td>\n      <td>2</td>\n      <td>4</td>\n      <td>[[-5.75375, 91.87819, -256.75516, 0.0, 31.3124...</td>\n      <td>[[18.99975, 1.46816, -1.66474, 2.46127, -1.360...</td>\n      <td>../data/SemesterProject/Segmented Movements/Ki...</td>\n      <td>../data/SemesterProject/Segmented Movements/Ki...</td>\n      <td>[[[-5.75375, -5.718733333333334, -5.70244, -5....</td>\n      <td>deep_squat</td>\n      <td>[[[-5.75375, -5.718733333333334, -5.70244], [-...</td>\n      <td>[1, 1, 1, 1, 1, 1, 1, 1, 1, 1, 1, 1, 1, 1, 1, ...</td>\n    </tr>\n    <tr>\n      <th>...</th>\n      <td>...</td>\n      <td>...</td>\n      <td>...</td>\n      <td>...</td>\n      <td>...</td>\n      <td>...</td>\n      <td>...</td>\n      <td>...</td>\n      <td>...</td>\n      <td>...</td>\n      <td>...</td>\n    </tr>\n    <tr>\n      <th>995</th>\n      <td>3</td>\n      <td>8</td>\n      <td>4</td>\n      <td>[[17.04467, 71.51766, -242.50504, -1e-05, 30.1...</td>\n      <td>[[2.46397, -30.05998, 0.82837, 1.3109, -6.5417...</td>\n      <td>../data/SemesterProject/Segmented Movements/Ki...</td>\n      <td>../data/SemesterProject/Segmented Movements/Ki...</td>\n      <td>[[[17.04467, 17.053053333333335, 17.0540700000...</td>\n      <td>inline_lunge</td>\n      <td>[[[17.04467, 17.053053333333335, 17.0540700000...</td>\n      <td>[3, 3, 3, 3, 3, 3, 3, 3, 3, 3, 3, 3, 3, 3, 3, ...</td>\n    </tr>\n    <tr>\n      <th>996</th>\n      <td>5</td>\n      <td>2</td>\n      <td>9</td>\n      <td>[[-8.55602, 86.74068, -246.46729, 0.0, 32.6057...</td>\n      <td>[[14.07636, 0.746, -0.30391, 2.17672, -2.15947...</td>\n      <td>../data/SemesterProject/Segmented Movements/Ki...</td>\n      <td>../data/SemesterProject/Segmented Movements/Ki...</td>\n      <td>[[[-8.55602, -8.558116666666667, -8.550202, -8...</td>\n      <td>sit_to_stand</td>\n      <td>[[[-8.55602, -8.558116666666667, -8.550202], [...</td>\n      <td>[5, 5, 5, 5, 5, 5, 5, 5, 5, 5, 5, 5, 5, 5, 5, ...</td>\n    </tr>\n    <tr>\n      <th>997</th>\n      <td>1</td>\n      <td>6</td>\n      <td>5</td>\n      <td>[[-6.20921, 86.80801, -217.42557, 0.0, 27.6363...</td>\n      <td>[[2.47181, -3.54129, -2.92796, 2.75055, -0.980...</td>\n      <td>../data/SemesterProject/Segmented Movements/Ki...</td>\n      <td>../data/SemesterProject/Segmented Movements/Ki...</td>\n      <td>[[[-6.20921, -6.245676666666665, -6.262276, -6...</td>\n      <td>deep_squat</td>\n      <td>[[[-6.20921, -6.245676666666665, -6.262276], [...</td>\n      <td>[1, 1, 1, 1, 1, 1, 1, 1, 1, 1, 1, 1, 1, 1, 1, ...</td>\n    </tr>\n    <tr>\n      <th>998</th>\n      <td>10</td>\n      <td>4</td>\n      <td>6</td>\n      <td>[[-1.20263, 89.59221, -245.85535, -1e-05, 31.5...</td>\n      <td>[[-0.09863, -4.69102, -0.63648, 1.78622, -0.85...</td>\n      <td>../data/SemesterProject/Segmented Movements/Ki...</td>\n      <td>../data/SemesterProject/Segmented Movements/Ki...</td>\n      <td>[[[-1.20263, -1.2766499999999998, -1.333304, -...</td>\n      <td>standing_shoulder_scaption</td>\n      <td>[[[-1.20263, -1.2766499999999998, -1.333304], ...</td>\n      <td>[10, 10, 10, 10, 10, 10, 10, 10, 10, 10, 10, 1...</td>\n    </tr>\n    <tr>\n      <th>999</th>\n      <td>2</td>\n      <td>2</td>\n      <td>5</td>\n      <td>[[-11.48286, 93.07993, -253.60973, 0.0, 32.119...</td>\n      <td>[[1.59296, 3.33095, 2.81337, 1.76453, -2.27061...</td>\n      <td>../data/SemesterProject/Segmented Movements/Ki...</td>\n      <td>../data/SemesterProject/Segmented Movements/Ki...</td>\n      <td>[[[-11.48286, -11.422663333333333, -11.378308,...</td>\n      <td>hurdle_step</td>\n      <td>[[[-11.48286, -11.422663333333333, -11.378308]...</td>\n      <td>[2, 2, 2, 2, 2, 2, 2, 2, 2, 2, 2, 2, 2, 2, 2, ...</td>\n    </tr>\n  </tbody>\n</table>\n<p>1000 rows × 11 columns</p>\n</div>"
     },
     "execution_count": 18,
     "metadata": {},
     "output_type": "execute_result"
    }
   ],
   "source": [
    "with open(os.path.join('..', 'data', 'SemesterProject', 'processed_data.pkl'), 'rb') as f:\n",
    "    df: pd.DataFrame = pd.read_pickle(f)\n",
    "\n",
    "df['movements'] = df[['movement_id', 'skeleton']].apply(lambda r: np.repeat(r['movement_id'], r['skeleton'].shape[-1]), axis=1)\n",
    "\n",
    "df"
   ],
   "metadata": {
    "collapsed": false,
    "pycharm": {
     "name": "#%%\n"
    }
   }
  },
  {
   "cell_type": "code",
   "execution_count": 4,
   "outputs": [],
   "source": [
    "naive_bayes: GaussianNB = GaussianNB()"
   ],
   "metadata": {
    "collapsed": false,
    "pycharm": {
     "name": "#%%\n"
    }
   }
  },
  {
   "cell_type": "code",
   "execution_count": 10,
   "outputs": [
    {
     "data": {
      "text/plain": "((68, 66), (68,))"
     },
     "execution_count": 10,
     "metadata": {},
     "output_type": "execute_result"
    }
   ],
   "source": [
    "X: np.ndarray = df['skeleton'].iloc[0].reshape((-1, 66))\n",
    "y: np.ndarray = np.repeat(df['movement_id'].iloc[0], X.shape[0])\n",
    "X.shape, y.shape"
   ],
   "metadata": {
    "collapsed": false,
    "pycharm": {
     "name": "#%%\n"
    }
   }
  },
  {
   "cell_type": "code",
   "execution_count": 11,
   "outputs": [
    {
     "data": {
      "text/plain": "GaussianNB()",
      "text/html": "<style>#sk-container-id-1 {color: black;background-color: white;}#sk-container-id-1 pre{padding: 0;}#sk-container-id-1 div.sk-toggleable {background-color: white;}#sk-container-id-1 label.sk-toggleable__label {cursor: pointer;display: block;width: 100%;margin-bottom: 0;padding: 0.3em;box-sizing: border-box;text-align: center;}#sk-container-id-1 label.sk-toggleable__label-arrow:before {content: \"▸\";float: left;margin-right: 0.25em;color: #696969;}#sk-container-id-1 label.sk-toggleable__label-arrow:hover:before {color: black;}#sk-container-id-1 div.sk-estimator:hover label.sk-toggleable__label-arrow:before {color: black;}#sk-container-id-1 div.sk-toggleable__content {max-height: 0;max-width: 0;overflow: hidden;text-align: left;background-color: #f0f8ff;}#sk-container-id-1 div.sk-toggleable__content pre {margin: 0.2em;color: black;border-radius: 0.25em;background-color: #f0f8ff;}#sk-container-id-1 input.sk-toggleable__control:checked~div.sk-toggleable__content {max-height: 200px;max-width: 100%;overflow: auto;}#sk-container-id-1 input.sk-toggleable__control:checked~label.sk-toggleable__label-arrow:before {content: \"▾\";}#sk-container-id-1 div.sk-estimator input.sk-toggleable__control:checked~label.sk-toggleable__label {background-color: #d4ebff;}#sk-container-id-1 div.sk-label input.sk-toggleable__control:checked~label.sk-toggleable__label {background-color: #d4ebff;}#sk-container-id-1 input.sk-hidden--visually {border: 0;clip: rect(1px 1px 1px 1px);clip: rect(1px, 1px, 1px, 1px);height: 1px;margin: -1px;overflow: hidden;padding: 0;position: absolute;width: 1px;}#sk-container-id-1 div.sk-estimator {font-family: monospace;background-color: #f0f8ff;border: 1px dotted black;border-radius: 0.25em;box-sizing: border-box;margin-bottom: 0.5em;}#sk-container-id-1 div.sk-estimator:hover {background-color: #d4ebff;}#sk-container-id-1 div.sk-parallel-item::after {content: \"\";width: 100%;border-bottom: 1px solid gray;flex-grow: 1;}#sk-container-id-1 div.sk-label:hover label.sk-toggleable__label {background-color: #d4ebff;}#sk-container-id-1 div.sk-serial::before {content: \"\";position: absolute;border-left: 1px solid gray;box-sizing: border-box;top: 0;bottom: 0;left: 50%;z-index: 0;}#sk-container-id-1 div.sk-serial {display: flex;flex-direction: column;align-items: center;background-color: white;padding-right: 0.2em;padding-left: 0.2em;position: relative;}#sk-container-id-1 div.sk-item {position: relative;z-index: 1;}#sk-container-id-1 div.sk-parallel {display: flex;align-items: stretch;justify-content: center;background-color: white;position: relative;}#sk-container-id-1 div.sk-item::before, #sk-container-id-1 div.sk-parallel-item::before {content: \"\";position: absolute;border-left: 1px solid gray;box-sizing: border-box;top: 0;bottom: 0;left: 50%;z-index: -1;}#sk-container-id-1 div.sk-parallel-item {display: flex;flex-direction: column;z-index: 1;position: relative;background-color: white;}#sk-container-id-1 div.sk-parallel-item:first-child::after {align-self: flex-end;width: 50%;}#sk-container-id-1 div.sk-parallel-item:last-child::after {align-self: flex-start;width: 50%;}#sk-container-id-1 div.sk-parallel-item:only-child::after {width: 0;}#sk-container-id-1 div.sk-dashed-wrapped {border: 1px dashed gray;margin: 0 0.4em 0.5em 0.4em;box-sizing: border-box;padding-bottom: 0.4em;background-color: white;}#sk-container-id-1 div.sk-label label {font-family: monospace;font-weight: bold;display: inline-block;line-height: 1.2em;}#sk-container-id-1 div.sk-label-container {text-align: center;}#sk-container-id-1 div.sk-container {/* jupyter's `normalize.less` sets `[hidden] { display: none; }` but bootstrap.min.css set `[hidden] { display: none !important; }` so we also need the `!important` here to be able to override the default hidden behavior on the sphinx rendered scikit-learn.org. See: https://github.com/scikit-learn/scikit-learn/issues/21755 */display: inline-block !important;position: relative;}#sk-container-id-1 div.sk-text-repr-fallback {display: none;}</style><div id=\"sk-container-id-1\" class=\"sk-top-container\"><div class=\"sk-text-repr-fallback\"><pre>GaussianNB()</pre><b>In a Jupyter environment, please rerun this cell to show the HTML representation or trust the notebook. <br />On GitHub, the HTML representation is unable to render, please try loading this page with nbviewer.org.</b></div><div class=\"sk-container\" hidden><div class=\"sk-item\"><div class=\"sk-estimator sk-toggleable\"><input class=\"sk-toggleable__control sk-hidden--visually\" id=\"sk-estimator-id-1\" type=\"checkbox\" checked><label for=\"sk-estimator-id-1\" class=\"sk-toggleable__label sk-toggleable__label-arrow\">GaussianNB</label><div class=\"sk-toggleable__content\"><pre>GaussianNB()</pre></div></div></div></div></div>"
     },
     "execution_count": 11,
     "metadata": {},
     "output_type": "execute_result"
    }
   ],
   "source": [
    "naive_bayes.fit(X, y)"
   ],
   "metadata": {
    "collapsed": false,
    "pycharm": {
     "name": "#%%\n"
    }
   }
  },
  {
   "cell_type": "code",
   "execution_count": 12,
   "outputs": [
    {
     "data": {
      "text/plain": "68"
     },
     "execution_count": 12,
     "metadata": {},
     "output_type": "execute_result"
    }
   ],
   "source": [
    "y_pred: np.ndarray = naive_bayes.predict(X)\n",
    "\n",
    "(y == y_pred).sum()"
   ],
   "metadata": {
    "collapsed": false,
    "pycharm": {
     "name": "#%%\n"
    }
   }
  },
  {
   "cell_type": "code",
   "execution_count": 15,
   "outputs": [
    {
     "data": {
      "text/plain": "0"
     },
     "execution_count": 15,
     "metadata": {},
     "output_type": "execute_result"
    }
   ],
   "source": [
    "X_test: np.ndarray = df['skeleton'].iloc[5].reshape((-1, 66))\n",
    "y_test: np.ndarray = np.repeat(df['movement_id'].iloc[5], X_test.shape[0])\n",
    "\n",
    "y_pred_test: np.ndarray = naive_bayes.predict(X_test)\n",
    "\n",
    "(y_pred_test == y_test).sum()"
   ],
   "metadata": {
    "collapsed": false,
    "pycharm": {
     "name": "#%%\n"
    }
   }
  },
  {
   "cell_type": "code",
   "execution_count": 20,
   "outputs": [
    {
     "data": {
      "text/plain": "(22, 3, 68)"
     },
     "execution_count": 20,
     "metadata": {},
     "output_type": "execute_result"
    }
   ],
   "source": [
    "df['skeleton'].iloc[0].shape"
   ],
   "metadata": {
    "collapsed": false,
    "pycharm": {
     "name": "#%%\n"
    }
   }
  },
  {
   "cell_type": "code",
   "execution_count": 23,
   "outputs": [
    {
     "data": {
      "text/plain": "((74625, 66), (74625,))"
     },
     "execution_count": 23,
     "metadata": {},
     "output_type": "execute_result"
    }
   ],
   "source": [
    "X: np.ndarray = np.concatenate(df['skeleton'].values, axis=2).reshape((-1, 66))\n",
    "y: np.ndarray = np.concatenate(df['movements'])\n",
    "\n",
    "X.shape, y.shape"
   ],
   "metadata": {
    "collapsed": false,
    "pycharm": {
     "name": "#%%\n"
    }
   }
  },
  {
   "cell_type": "code",
   "execution_count": 24,
   "outputs": [],
   "source": [
    "from sklearn.model_selection import train_test_split\n",
    "from sklearn.metrics import f1_score, accuracy_score"
   ],
   "metadata": {
    "collapsed": false,
    "pycharm": {
     "name": "#%%\n"
    }
   }
  },
  {
   "cell_type": "code",
   "execution_count": 29,
   "outputs": [
    {
     "data": {
      "text/plain": "((59700, 66), (14925,), (59700,))"
     },
     "execution_count": 29,
     "metadata": {},
     "output_type": "execute_result"
    }
   ],
   "source": [
    "# I realize this is a bad way of doing it but ye.\n",
    "X_train, X_test, y_train, y_test = train_test_split(X, y, train_size=.8, shuffle=True, random_state=13)\n",
    "\n",
    "X_train.shape, y_test.shape, y_train.shape"
   ],
   "metadata": {
    "collapsed": false,
    "pycharm": {
     "name": "#%%\n"
    }
   }
  },
  {
   "cell_type": "code",
   "execution_count": 30,
   "outputs": [],
   "source": [
    "from sklearn.svm import SVC"
   ],
   "metadata": {
    "collapsed": false,
    "pycharm": {
     "name": "#%%\n"
    }
   }
  },
  {
   "cell_type": "code",
   "execution_count": 31,
   "outputs": [
    {
     "ename": "ValueError",
     "evalue": "Target is multiclass but average='binary'. Please choose another average setting, one of [None, 'micro', 'macro', 'weighted'].",
     "output_type": "error",
     "traceback": [
      "\u001B[0;31m---------------------------------------------------------------------------\u001B[0m",
      "\u001B[0;31mValueError\u001B[0m                                Traceback (most recent call last)",
      "Input \u001B[0;32mIn [31]\u001B[0m, in \u001B[0;36m<cell line: 6>\u001B[0;34m()\u001B[0m\n\u001B[1;32m      3\u001B[0m model\u001B[38;5;241m.\u001B[39mfit(X_train, y_train)\n\u001B[1;32m      4\u001B[0m y_pred: np\u001B[38;5;241m.\u001B[39mndarray \u001B[38;5;241m=\u001B[39m model\u001B[38;5;241m.\u001B[39mpredict(X_test)\n\u001B[0;32m----> 6\u001B[0m \u001B[43mf1_score\u001B[49m\u001B[43m(\u001B[49m\u001B[43my_pred\u001B[49m\u001B[43m,\u001B[49m\u001B[43m \u001B[49m\u001B[43my_test\u001B[49m\u001B[43m)\u001B[49m, accuracy_score(y_pred, y_test)\n",
      "File \u001B[0;32m~/miniconda3/envs/EnablingAISystems/lib/python3.10/site-packages/sklearn/metrics/_classification.py:1132\u001B[0m, in \u001B[0;36mf1_score\u001B[0;34m(y_true, y_pred, labels, pos_label, average, sample_weight, zero_division)\u001B[0m\n\u001B[1;32m    997\u001B[0m \u001B[38;5;28;01mdef\u001B[39;00m \u001B[38;5;21mf1_score\u001B[39m(\n\u001B[1;32m    998\u001B[0m     y_true,\n\u001B[1;32m    999\u001B[0m     y_pred,\n\u001B[0;32m   (...)\u001B[0m\n\u001B[1;32m   1005\u001B[0m     zero_division\u001B[38;5;241m=\u001B[39m\u001B[38;5;124m\"\u001B[39m\u001B[38;5;124mwarn\u001B[39m\u001B[38;5;124m\"\u001B[39m,\n\u001B[1;32m   1006\u001B[0m ):\n\u001B[1;32m   1007\u001B[0m     \u001B[38;5;124;03m\"\"\"Compute the F1 score, also known as balanced F-score or F-measure.\u001B[39;00m\n\u001B[1;32m   1008\u001B[0m \n\u001B[1;32m   1009\u001B[0m \u001B[38;5;124;03m    The F1 score can be interpreted as a harmonic mean of the precision and\u001B[39;00m\n\u001B[0;32m   (...)\u001B[0m\n\u001B[1;32m   1130\u001B[0m \u001B[38;5;124;03m    array([0.66666667, 1.        , 0.66666667])\u001B[39;00m\n\u001B[1;32m   1131\u001B[0m \u001B[38;5;124;03m    \"\"\"\u001B[39;00m\n\u001B[0;32m-> 1132\u001B[0m     \u001B[38;5;28;01mreturn\u001B[39;00m \u001B[43mfbeta_score\u001B[49m\u001B[43m(\u001B[49m\n\u001B[1;32m   1133\u001B[0m \u001B[43m        \u001B[49m\u001B[43my_true\u001B[49m\u001B[43m,\u001B[49m\n\u001B[1;32m   1134\u001B[0m \u001B[43m        \u001B[49m\u001B[43my_pred\u001B[49m\u001B[43m,\u001B[49m\n\u001B[1;32m   1135\u001B[0m \u001B[43m        \u001B[49m\u001B[43mbeta\u001B[49m\u001B[38;5;241;43m=\u001B[39;49m\u001B[38;5;241;43m1\u001B[39;49m\u001B[43m,\u001B[49m\n\u001B[1;32m   1136\u001B[0m \u001B[43m        \u001B[49m\u001B[43mlabels\u001B[49m\u001B[38;5;241;43m=\u001B[39;49m\u001B[43mlabels\u001B[49m\u001B[43m,\u001B[49m\n\u001B[1;32m   1137\u001B[0m \u001B[43m        \u001B[49m\u001B[43mpos_label\u001B[49m\u001B[38;5;241;43m=\u001B[39;49m\u001B[43mpos_label\u001B[49m\u001B[43m,\u001B[49m\n\u001B[1;32m   1138\u001B[0m \u001B[43m        \u001B[49m\u001B[43maverage\u001B[49m\u001B[38;5;241;43m=\u001B[39;49m\u001B[43maverage\u001B[49m\u001B[43m,\u001B[49m\n\u001B[1;32m   1139\u001B[0m \u001B[43m        \u001B[49m\u001B[43msample_weight\u001B[49m\u001B[38;5;241;43m=\u001B[39;49m\u001B[43msample_weight\u001B[49m\u001B[43m,\u001B[49m\n\u001B[1;32m   1140\u001B[0m \u001B[43m        \u001B[49m\u001B[43mzero_division\u001B[49m\u001B[38;5;241;43m=\u001B[39;49m\u001B[43mzero_division\u001B[49m\u001B[43m,\u001B[49m\n\u001B[1;32m   1141\u001B[0m \u001B[43m    \u001B[49m\u001B[43m)\u001B[49m\n",
      "File \u001B[0;32m~/miniconda3/envs/EnablingAISystems/lib/python3.10/site-packages/sklearn/metrics/_classification.py:1270\u001B[0m, in \u001B[0;36mfbeta_score\u001B[0;34m(y_true, y_pred, beta, labels, pos_label, average, sample_weight, zero_division)\u001B[0m\n\u001B[1;32m   1144\u001B[0m \u001B[38;5;28;01mdef\u001B[39;00m \u001B[38;5;21mfbeta_score\u001B[39m(\n\u001B[1;32m   1145\u001B[0m     y_true,\n\u001B[1;32m   1146\u001B[0m     y_pred,\n\u001B[0;32m   (...)\u001B[0m\n\u001B[1;32m   1153\u001B[0m     zero_division\u001B[38;5;241m=\u001B[39m\u001B[38;5;124m\"\u001B[39m\u001B[38;5;124mwarn\u001B[39m\u001B[38;5;124m\"\u001B[39m,\n\u001B[1;32m   1154\u001B[0m ):\n\u001B[1;32m   1155\u001B[0m     \u001B[38;5;124;03m\"\"\"Compute the F-beta score.\u001B[39;00m\n\u001B[1;32m   1156\u001B[0m \n\u001B[1;32m   1157\u001B[0m \u001B[38;5;124;03m    The F-beta score is the weighted harmonic mean of precision and recall,\u001B[39;00m\n\u001B[0;32m   (...)\u001B[0m\n\u001B[1;32m   1267\u001B[0m \u001B[38;5;124;03m    array([0.71..., 0.        , 0.        ])\u001B[39;00m\n\u001B[1;32m   1268\u001B[0m \u001B[38;5;124;03m    \"\"\"\u001B[39;00m\n\u001B[0;32m-> 1270\u001B[0m     _, _, f, _ \u001B[38;5;241m=\u001B[39m \u001B[43mprecision_recall_fscore_support\u001B[49m\u001B[43m(\u001B[49m\n\u001B[1;32m   1271\u001B[0m \u001B[43m        \u001B[49m\u001B[43my_true\u001B[49m\u001B[43m,\u001B[49m\n\u001B[1;32m   1272\u001B[0m \u001B[43m        \u001B[49m\u001B[43my_pred\u001B[49m\u001B[43m,\u001B[49m\n\u001B[1;32m   1273\u001B[0m \u001B[43m        \u001B[49m\u001B[43mbeta\u001B[49m\u001B[38;5;241;43m=\u001B[39;49m\u001B[43mbeta\u001B[49m\u001B[43m,\u001B[49m\n\u001B[1;32m   1274\u001B[0m \u001B[43m        \u001B[49m\u001B[43mlabels\u001B[49m\u001B[38;5;241;43m=\u001B[39;49m\u001B[43mlabels\u001B[49m\u001B[43m,\u001B[49m\n\u001B[1;32m   1275\u001B[0m \u001B[43m        \u001B[49m\u001B[43mpos_label\u001B[49m\u001B[38;5;241;43m=\u001B[39;49m\u001B[43mpos_label\u001B[49m\u001B[43m,\u001B[49m\n\u001B[1;32m   1276\u001B[0m \u001B[43m        \u001B[49m\u001B[43maverage\u001B[49m\u001B[38;5;241;43m=\u001B[39;49m\u001B[43maverage\u001B[49m\u001B[43m,\u001B[49m\n\u001B[1;32m   1277\u001B[0m \u001B[43m        \u001B[49m\u001B[43mwarn_for\u001B[49m\u001B[38;5;241;43m=\u001B[39;49m\u001B[43m(\u001B[49m\u001B[38;5;124;43m\"\u001B[39;49m\u001B[38;5;124;43mf-score\u001B[39;49m\u001B[38;5;124;43m\"\u001B[39;49m\u001B[43m,\u001B[49m\u001B[43m)\u001B[49m\u001B[43m,\u001B[49m\n\u001B[1;32m   1278\u001B[0m \u001B[43m        \u001B[49m\u001B[43msample_weight\u001B[49m\u001B[38;5;241;43m=\u001B[39;49m\u001B[43msample_weight\u001B[49m\u001B[43m,\u001B[49m\n\u001B[1;32m   1279\u001B[0m \u001B[43m        \u001B[49m\u001B[43mzero_division\u001B[49m\u001B[38;5;241;43m=\u001B[39;49m\u001B[43mzero_division\u001B[49m\u001B[43m,\u001B[49m\n\u001B[1;32m   1280\u001B[0m \u001B[43m    \u001B[49m\u001B[43m)\u001B[49m\n\u001B[1;32m   1281\u001B[0m     \u001B[38;5;28;01mreturn\u001B[39;00m f\n",
      "File \u001B[0;32m~/miniconda3/envs/EnablingAISystems/lib/python3.10/site-packages/sklearn/metrics/_classification.py:1556\u001B[0m, in \u001B[0;36mprecision_recall_fscore_support\u001B[0;34m(y_true, y_pred, beta, labels, pos_label, average, warn_for, sample_weight, zero_division)\u001B[0m\n\u001B[1;32m   1554\u001B[0m \u001B[38;5;28;01mif\u001B[39;00m beta \u001B[38;5;241m<\u001B[39m \u001B[38;5;241m0\u001B[39m:\n\u001B[1;32m   1555\u001B[0m     \u001B[38;5;28;01mraise\u001B[39;00m \u001B[38;5;167;01mValueError\u001B[39;00m(\u001B[38;5;124m\"\u001B[39m\u001B[38;5;124mbeta should be >=0 in the F-beta score\u001B[39m\u001B[38;5;124m\"\u001B[39m)\n\u001B[0;32m-> 1556\u001B[0m labels \u001B[38;5;241m=\u001B[39m \u001B[43m_check_set_wise_labels\u001B[49m\u001B[43m(\u001B[49m\u001B[43my_true\u001B[49m\u001B[43m,\u001B[49m\u001B[43m \u001B[49m\u001B[43my_pred\u001B[49m\u001B[43m,\u001B[49m\u001B[43m \u001B[49m\u001B[43maverage\u001B[49m\u001B[43m,\u001B[49m\u001B[43m \u001B[49m\u001B[43mlabels\u001B[49m\u001B[43m,\u001B[49m\u001B[43m \u001B[49m\u001B[43mpos_label\u001B[49m\u001B[43m)\u001B[49m\n\u001B[1;32m   1558\u001B[0m \u001B[38;5;66;03m# Calculate tp_sum, pred_sum, true_sum ###\u001B[39;00m\n\u001B[1;32m   1559\u001B[0m samplewise \u001B[38;5;241m=\u001B[39m average \u001B[38;5;241m==\u001B[39m \u001B[38;5;124m\"\u001B[39m\u001B[38;5;124msamples\u001B[39m\u001B[38;5;124m\"\u001B[39m\n",
      "File \u001B[0;32m~/miniconda3/envs/EnablingAISystems/lib/python3.10/site-packages/sklearn/metrics/_classification.py:1374\u001B[0m, in \u001B[0;36m_check_set_wise_labels\u001B[0;34m(y_true, y_pred, average, labels, pos_label)\u001B[0m\n\u001B[1;32m   1372\u001B[0m         \u001B[38;5;28;01mif\u001B[39;00m y_type \u001B[38;5;241m==\u001B[39m \u001B[38;5;124m\"\u001B[39m\u001B[38;5;124mmulticlass\u001B[39m\u001B[38;5;124m\"\u001B[39m:\n\u001B[1;32m   1373\u001B[0m             average_options\u001B[38;5;241m.\u001B[39mremove(\u001B[38;5;124m\"\u001B[39m\u001B[38;5;124msamples\u001B[39m\u001B[38;5;124m\"\u001B[39m)\n\u001B[0;32m-> 1374\u001B[0m         \u001B[38;5;28;01mraise\u001B[39;00m \u001B[38;5;167;01mValueError\u001B[39;00m(\n\u001B[1;32m   1375\u001B[0m             \u001B[38;5;124m\"\u001B[39m\u001B[38;5;124mTarget is \u001B[39m\u001B[38;5;132;01m%s\u001B[39;00m\u001B[38;5;124m but average=\u001B[39m\u001B[38;5;124m'\u001B[39m\u001B[38;5;124mbinary\u001B[39m\u001B[38;5;124m'\u001B[39m\u001B[38;5;124m. Please \u001B[39m\u001B[38;5;124m\"\u001B[39m\n\u001B[1;32m   1376\u001B[0m             \u001B[38;5;124m\"\u001B[39m\u001B[38;5;124mchoose another average setting, one of \u001B[39m\u001B[38;5;132;01m%r\u001B[39;00m\u001B[38;5;124m.\u001B[39m\u001B[38;5;124m\"\u001B[39m \u001B[38;5;241m%\u001B[39m (y_type, average_options)\n\u001B[1;32m   1377\u001B[0m         )\n\u001B[1;32m   1378\u001B[0m \u001B[38;5;28;01melif\u001B[39;00m pos_label \u001B[38;5;129;01mnot\u001B[39;00m \u001B[38;5;129;01min\u001B[39;00m (\u001B[38;5;28;01mNone\u001B[39;00m, \u001B[38;5;241m1\u001B[39m):\n\u001B[1;32m   1379\u001B[0m     warnings\u001B[38;5;241m.\u001B[39mwarn(\n\u001B[1;32m   1380\u001B[0m         \u001B[38;5;124m\"\u001B[39m\u001B[38;5;124mNote that pos_label (set to \u001B[39m\u001B[38;5;132;01m%r\u001B[39;00m\u001B[38;5;124m) is ignored when \u001B[39m\u001B[38;5;124m\"\u001B[39m\n\u001B[1;32m   1381\u001B[0m         \u001B[38;5;124m\"\u001B[39m\u001B[38;5;124maverage != \u001B[39m\u001B[38;5;124m'\u001B[39m\u001B[38;5;124mbinary\u001B[39m\u001B[38;5;124m'\u001B[39m\u001B[38;5;124m (got \u001B[39m\u001B[38;5;132;01m%r\u001B[39;00m\u001B[38;5;124m). You may use \u001B[39m\u001B[38;5;124m\"\u001B[39m\n\u001B[0;32m   (...)\u001B[0m\n\u001B[1;32m   1384\u001B[0m         \u001B[38;5;167;01mUserWarning\u001B[39;00m,\n\u001B[1;32m   1385\u001B[0m     )\n",
      "\u001B[0;31mValueError\u001B[0m: Target is multiclass but average='binary'. Please choose another average setting, one of [None, 'micro', 'macro', 'weighted']."
     ]
    }
   ],
   "source": [
    "model: SVC = SVC(kernel='poly', random_state=13)\n",
    "\n",
    "model.fit(X_train, y_train)\n",
    "y_pred: np.ndarray = model.predict(X_test)\n",
    "\n"
   ],
   "metadata": {
    "collapsed": false,
    "pycharm": {
     "name": "#%%\n"
    }
   }
  },
  {
   "cell_type": "markdown",
   "source": [
    "Realistically I'm gonna have this be a Neural Network with some LSTMs and some Conv Nets but for Proof of Concept, this is what I'll be doing for now."
   ],
   "metadata": {
    "collapsed": false,
    "pycharm": {
     "name": "#%% md\n"
    }
   }
  },
  {
   "cell_type": "code",
   "execution_count": 33,
   "outputs": [
    {
     "data": {
      "text/plain": "(0.19191918710221506, 0.12241206030150754)"
     },
     "execution_count": 33,
     "metadata": {},
     "output_type": "execute_result"
    }
   ],
   "source": [
    "f1_score(y_pred, y_test, average='weighted'), accuracy_score(y_pred, y_test)"
   ],
   "metadata": {
    "collapsed": false,
    "pycharm": {
     "name": "#%%\n"
    }
   }
  },
  {
   "cell_type": "code",
   "execution_count": null,
   "outputs": [],
   "source": [],
   "metadata": {
    "collapsed": false,
    "pycharm": {
     "name": "#%%\n"
    }
   }
  }
 ],
 "metadata": {
  "kernelspec": {
   "display_name": "Python 3",
   "language": "python",
   "name": "python3"
  },
  "language_info": {
   "codemirror_mode": {
    "name": "ipython",
    "version": 2
   },
   "file_extension": ".py",
   "mimetype": "text/x-python",
   "name": "python",
   "nbconvert_exporter": "python",
   "pygments_lexer": "ipython2",
   "version": "2.7.6"
  }
 },
 "nbformat": 4,
 "nbformat_minor": 0
}
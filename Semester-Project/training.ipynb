{
 "cells": [
  {
   "cell_type": "code",
   "execution_count": 1,
   "outputs": [],
   "source": [
    "import numpy as np\n",
    "import pickle\n",
    "import os\n",
    "import pandas as pd\n",
    "from sklearn.naive_bayes import GaussianNB"
   ],
   "metadata": {
    "collapsed": false,
    "pycharm": {
     "name": "#%%\n"
    }
   }
  },
  {
   "cell_type": "code",
   "execution_count": 2,
   "outputs": [
    {
     "data": {
      "text/plain": "     movement_id  subject_id  episode_num  \\\n0              4           6            3   \n1              5           7            8   \n2              3           1            7   \n3              3           2            8   \n4              1           2            4   \n..           ...         ...          ...   \n995            3           8            4   \n996            5           2            9   \n997            1           6            5   \n998           10           4            6   \n999            2           2            5   \n\n                                             positions  \\\n0    [[-3.02874, 75.90507, -270.5936, 0.0, 27.79706...   \n1    [[-1.38662, 84.46687, -232.60986, 0.0, 28.7417...   \n2    [[-12.26233, 81.59789, -248.86124, -2e-05, 27....   \n3    [[-32.37641, 83.38937, -259.35818, 0.0, 30.475...   \n4    [[-5.75375, 91.87819, -256.75516, 0.0, 31.3124...   \n..                                                 ...   \n995  [[17.04467, 71.51766, -242.50504, -1e-05, 30.1...   \n996  [[-8.55602, 86.74068, -246.46729, 0.0, 32.6057...   \n997  [[-6.20921, 86.80801, -217.42557, 0.0, 27.6363...   \n998  [[-1.20263, 89.59221, -245.85535, -1e-05, 31.5...   \n999  [[-11.48286, 93.07993, -253.60973, 0.0, 32.119...   \n\n                                                angles  \\\n0    [[0.14469, 0.65008, -0.55925, 2.28859, 1.14512...   \n1    [[1.29924, -0.9601, -1.45577, 1.84614, 0.07701...   \n2    [[4.66077, 56.68494, 0.06777, 1.09106, 3.04529...   \n3    [[6.7506, 30.05265, -0.95628, 1.56654, 5.7209,...   \n4    [[18.99975, 1.46816, -1.66474, 2.46127, -1.360...   \n..                                                 ...   \n995  [[2.46397, -30.05998, 0.82837, 1.3109, -6.5417...   \n996  [[14.07636, 0.746, -0.30391, 2.17672, -2.15947...   \n997  [[2.47181, -3.54129, -2.92796, 2.75055, -0.980...   \n998  [[-0.09863, -4.69102, -0.63648, 1.78622, -0.85...   \n999  [[1.59296, 3.33095, 2.81337, 1.76453, -2.27061...   \n\n                                        positions_path  \\\n0    ../data/SemesterProject/Segmented Movements/Ki...   \n1    ../data/SemesterProject/Segmented Movements/Ki...   \n2    ../data/SemesterProject/Segmented Movements/Ki...   \n3    ../data/SemesterProject/Segmented Movements/Ki...   \n4    ../data/SemesterProject/Segmented Movements/Ki...   \n..                                                 ...   \n995  ../data/SemesterProject/Segmented Movements/Ki...   \n996  ../data/SemesterProject/Segmented Movements/Ki...   \n997  ../data/SemesterProject/Segmented Movements/Ki...   \n998  ../data/SemesterProject/Segmented Movements/Ki...   \n999  ../data/SemesterProject/Segmented Movements/Ki...   \n\n                                           angles_path  \\\n0    ../data/SemesterProject/Segmented Movements/Ki...   \n1    ../data/SemesterProject/Segmented Movements/Ki...   \n2    ../data/SemesterProject/Segmented Movements/Ki...   \n3    ../data/SemesterProject/Segmented Movements/Ki...   \n4    ../data/SemesterProject/Segmented Movements/Ki...   \n..                                                 ...   \n995  ../data/SemesterProject/Segmented Movements/Ki...   \n996  ../data/SemesterProject/Segmented Movements/Ki...   \n997  ../data/SemesterProject/Segmented Movements/Ki...   \n998  ../data/SemesterProject/Segmented Movements/Ki...   \n999  ../data/SemesterProject/Segmented Movements/Ki...   \n\n                                              skeleton  \\\n0    [[[-3.02874, -3.0521766666666665, -3.233198000...   \n1    [[[-1.38662, -1.3767133333333332, -1.343484, -...   \n2    [[[-12.26233, -12.32828, -12.324802, -12.30633...   \n3    [[[-32.37641, -32.4872, -32.529323999999995, -...   \n4    [[[-5.75375, -5.718733333333334, -5.70244, -5....   \n..                                                 ...   \n995  [[[17.04467, 17.053053333333335, 17.0540700000...   \n996  [[[-8.55602, -8.558116666666667, -8.550202, -8...   \n997  [[[-6.20921, -6.245676666666665, -6.262276, -6...   \n998  [[[-1.20263, -1.2766499999999998, -1.333304, -...   \n999  [[[-11.48286, -11.422663333333333, -11.378308,...   \n\n                  movement_name  \\\n0                    side_lunge   \n1                  sit_to_stand   \n2                  inline_lunge   \n3                  inline_lunge   \n4                    deep_squat   \n..                          ...   \n995                inline_lunge   \n996                sit_to_stand   \n997                  deep_squat   \n998  standing_shoulder_scaption   \n999                 hurdle_step   \n\n                                       filled_skeleton  \\\n0    [[[-3.02874, -3.02874, -3.0521766666666665, -3...   \n1    [[[-1.38662, -1.3767133333333332, -1.343484, -...   \n2    [[[-12.26233, -12.32828, -12.324802, -12.30633...   \n3    [[[-32.37641, -32.37641, -32.4872, -32.4872, -...   \n4    [[[-5.75375, -5.75375, -5.718733333333334, -5....   \n..                                                 ...   \n995  [[[17.04467, 17.04467, 17.053053333333335, 17....   \n996  [[[-8.55602, -8.55602, -8.558116666666667, -8....   \n997  [[[-6.20921, -6.245676666666665, -6.262276, -6...   \n998  [[[-1.20263, -1.20263, -1.2766499999999998, -1...   \n999  [[[-11.48286, -11.48286, -11.422663333333333, ...   \n\n                                     reshaped_skeleton  \\\n0    [[[-3.02874, -3.02874, -3.0521766666666665], [...   \n1    [[[-1.38662, -1.3767133333333332, -1.343484], ...   \n2    [[[-12.26233, -12.32828, -12.324802], [-12.306...   \n3    [[[-32.37641, -32.37641, -32.4872], [-32.4872,...   \n4    [[[-5.75375, -5.75375, -5.718733333333334], [-...   \n..                                                 ...   \n995  [[[17.04467, 17.04467, 17.053053333333335], [1...   \n996  [[[-8.55602, -8.55602, -8.558116666666667], [-...   \n997  [[[-6.20921, -6.245676666666665, -6.262276], [...   \n998  [[[-1.20263, -1.20263, -1.2766499999999998], [...   \n999  [[[-11.48286, -11.48286, -11.422663333333333],...   \n\n                                             movements  \n0    [4, 4, 4, 4, 4, 4, 4, 4, 4, 4, 4, 4, 4, 4, 4, ...  \n1    [5, 5, 5, 5, 5, 5, 5, 5, 5, 5, 5, 5, 5, 5, 5, ...  \n2    [3, 3, 3, 3, 3, 3, 3, 3, 3, 3, 3, 3, 3, 3, 3, ...  \n3    [3, 3, 3, 3, 3, 3, 3, 3, 3, 3, 3, 3, 3, 3, 3, ...  \n4    [1, 1, 1, 1, 1, 1, 1, 1, 1, 1, 1, 1, 1, 1, 1, ...  \n..                                                 ...  \n995  [3, 3, 3, 3, 3, 3, 3, 3, 3, 3, 3, 3, 3, 3, 3, ...  \n996  [5, 5, 5, 5, 5, 5, 5, 5, 5, 5, 5, 5, 5, 5, 5, ...  \n997  [1, 1, 1, 1, 1, 1, 1, 1, 1, 1, 1, 1, 1, 1, 1, ...  \n998  [10, 10, 10, 10, 10, 10, 10, 10, 10, 10, 10, 1...  \n999  [2, 2, 2, 2, 2, 2, 2, 2, 2, 2, 2, 2, 2, 2, 2, ...  \n\n[1000 rows x 12 columns]",
      "text/html": "<div>\n<style scoped>\n    .dataframe tbody tr th:only-of-type {\n        vertical-align: middle;\n    }\n\n    .dataframe tbody tr th {\n        vertical-align: top;\n    }\n\n    .dataframe thead th {\n        text-align: right;\n    }\n</style>\n<table border=\"1\" class=\"dataframe\">\n  <thead>\n    <tr style=\"text-align: right;\">\n      <th></th>\n      <th>movement_id</th>\n      <th>subject_id</th>\n      <th>episode_num</th>\n      <th>positions</th>\n      <th>angles</th>\n      <th>positions_path</th>\n      <th>angles_path</th>\n      <th>skeleton</th>\n      <th>movement_name</th>\n      <th>filled_skeleton</th>\n      <th>reshaped_skeleton</th>\n      <th>movements</th>\n    </tr>\n  </thead>\n  <tbody>\n    <tr>\n      <th>0</th>\n      <td>4</td>\n      <td>6</td>\n      <td>3</td>\n      <td>[[-3.02874, 75.90507, -270.5936, 0.0, 27.79706...</td>\n      <td>[[0.14469, 0.65008, -0.55925, 2.28859, 1.14512...</td>\n      <td>../data/SemesterProject/Segmented Movements/Ki...</td>\n      <td>../data/SemesterProject/Segmented Movements/Ki...</td>\n      <td>[[[-3.02874, -3.0521766666666665, -3.233198000...</td>\n      <td>side_lunge</td>\n      <td>[[[-3.02874, -3.02874, -3.0521766666666665, -3...</td>\n      <td>[[[-3.02874, -3.02874, -3.0521766666666665], [...</td>\n      <td>[4, 4, 4, 4, 4, 4, 4, 4, 4, 4, 4, 4, 4, 4, 4, ...</td>\n    </tr>\n    <tr>\n      <th>1</th>\n      <td>5</td>\n      <td>7</td>\n      <td>8</td>\n      <td>[[-1.38662, 84.46687, -232.60986, 0.0, 28.7417...</td>\n      <td>[[1.29924, -0.9601, -1.45577, 1.84614, 0.07701...</td>\n      <td>../data/SemesterProject/Segmented Movements/Ki...</td>\n      <td>../data/SemesterProject/Segmented Movements/Ki...</td>\n      <td>[[[-1.38662, -1.3767133333333332, -1.343484, -...</td>\n      <td>sit_to_stand</td>\n      <td>[[[-1.38662, -1.3767133333333332, -1.343484, -...</td>\n      <td>[[[-1.38662, -1.3767133333333332, -1.343484], ...</td>\n      <td>[5, 5, 5, 5, 5, 5, 5, 5, 5, 5, 5, 5, 5, 5, 5, ...</td>\n    </tr>\n    <tr>\n      <th>2</th>\n      <td>3</td>\n      <td>1</td>\n      <td>7</td>\n      <td>[[-12.26233, 81.59789, -248.86124, -2e-05, 27....</td>\n      <td>[[4.66077, 56.68494, 0.06777, 1.09106, 3.04529...</td>\n      <td>../data/SemesterProject/Segmented Movements/Ki...</td>\n      <td>../data/SemesterProject/Segmented Movements/Ki...</td>\n      <td>[[[-12.26233, -12.32828, -12.324802, -12.30633...</td>\n      <td>inline_lunge</td>\n      <td>[[[-12.26233, -12.32828, -12.324802, -12.30633...</td>\n      <td>[[[-12.26233, -12.32828, -12.324802], [-12.306...</td>\n      <td>[3, 3, 3, 3, 3, 3, 3, 3, 3, 3, 3, 3, 3, 3, 3, ...</td>\n    </tr>\n    <tr>\n      <th>3</th>\n      <td>3</td>\n      <td>2</td>\n      <td>8</td>\n      <td>[[-32.37641, 83.38937, -259.35818, 0.0, 30.475...</td>\n      <td>[[6.7506, 30.05265, -0.95628, 1.56654, 5.7209,...</td>\n      <td>../data/SemesterProject/Segmented Movements/Ki...</td>\n      <td>../data/SemesterProject/Segmented Movements/Ki...</td>\n      <td>[[[-32.37641, -32.4872, -32.529323999999995, -...</td>\n      <td>inline_lunge</td>\n      <td>[[[-32.37641, -32.37641, -32.4872, -32.4872, -...</td>\n      <td>[[[-32.37641, -32.37641, -32.4872], [-32.4872,...</td>\n      <td>[3, 3, 3, 3, 3, 3, 3, 3, 3, 3, 3, 3, 3, 3, 3, ...</td>\n    </tr>\n    <tr>\n      <th>4</th>\n      <td>1</td>\n      <td>2</td>\n      <td>4</td>\n      <td>[[-5.75375, 91.87819, -256.75516, 0.0, 31.3124...</td>\n      <td>[[18.99975, 1.46816, -1.66474, 2.46127, -1.360...</td>\n      <td>../data/SemesterProject/Segmented Movements/Ki...</td>\n      <td>../data/SemesterProject/Segmented Movements/Ki...</td>\n      <td>[[[-5.75375, -5.718733333333334, -5.70244, -5....</td>\n      <td>deep_squat</td>\n      <td>[[[-5.75375, -5.75375, -5.718733333333334, -5....</td>\n      <td>[[[-5.75375, -5.75375, -5.718733333333334], [-...</td>\n      <td>[1, 1, 1, 1, 1, 1, 1, 1, 1, 1, 1, 1, 1, 1, 1, ...</td>\n    </tr>\n    <tr>\n      <th>...</th>\n      <td>...</td>\n      <td>...</td>\n      <td>...</td>\n      <td>...</td>\n      <td>...</td>\n      <td>...</td>\n      <td>...</td>\n      <td>...</td>\n      <td>...</td>\n      <td>...</td>\n      <td>...</td>\n      <td>...</td>\n    </tr>\n    <tr>\n      <th>995</th>\n      <td>3</td>\n      <td>8</td>\n      <td>4</td>\n      <td>[[17.04467, 71.51766, -242.50504, -1e-05, 30.1...</td>\n      <td>[[2.46397, -30.05998, 0.82837, 1.3109, -6.5417...</td>\n      <td>../data/SemesterProject/Segmented Movements/Ki...</td>\n      <td>../data/SemesterProject/Segmented Movements/Ki...</td>\n      <td>[[[17.04467, 17.053053333333335, 17.0540700000...</td>\n      <td>inline_lunge</td>\n      <td>[[[17.04467, 17.04467, 17.053053333333335, 17....</td>\n      <td>[[[17.04467, 17.04467, 17.053053333333335], [1...</td>\n      <td>[3, 3, 3, 3, 3, 3, 3, 3, 3, 3, 3, 3, 3, 3, 3, ...</td>\n    </tr>\n    <tr>\n      <th>996</th>\n      <td>5</td>\n      <td>2</td>\n      <td>9</td>\n      <td>[[-8.55602, 86.74068, -246.46729, 0.0, 32.6057...</td>\n      <td>[[14.07636, 0.746, -0.30391, 2.17672, -2.15947...</td>\n      <td>../data/SemesterProject/Segmented Movements/Ki...</td>\n      <td>../data/SemesterProject/Segmented Movements/Ki...</td>\n      <td>[[[-8.55602, -8.558116666666667, -8.550202, -8...</td>\n      <td>sit_to_stand</td>\n      <td>[[[-8.55602, -8.55602, -8.558116666666667, -8....</td>\n      <td>[[[-8.55602, -8.55602, -8.558116666666667], [-...</td>\n      <td>[5, 5, 5, 5, 5, 5, 5, 5, 5, 5, 5, 5, 5, 5, 5, ...</td>\n    </tr>\n    <tr>\n      <th>997</th>\n      <td>1</td>\n      <td>6</td>\n      <td>5</td>\n      <td>[[-6.20921, 86.80801, -217.42557, 0.0, 27.6363...</td>\n      <td>[[2.47181, -3.54129, -2.92796, 2.75055, -0.980...</td>\n      <td>../data/SemesterProject/Segmented Movements/Ki...</td>\n      <td>../data/SemesterProject/Segmented Movements/Ki...</td>\n      <td>[[[-6.20921, -6.245676666666665, -6.262276, -6...</td>\n      <td>deep_squat</td>\n      <td>[[[-6.20921, -6.245676666666665, -6.262276, -6...</td>\n      <td>[[[-6.20921, -6.245676666666665, -6.262276], [...</td>\n      <td>[1, 1, 1, 1, 1, 1, 1, 1, 1, 1, 1, 1, 1, 1, 1, ...</td>\n    </tr>\n    <tr>\n      <th>998</th>\n      <td>10</td>\n      <td>4</td>\n      <td>6</td>\n      <td>[[-1.20263, 89.59221, -245.85535, -1e-05, 31.5...</td>\n      <td>[[-0.09863, -4.69102, -0.63648, 1.78622, -0.85...</td>\n      <td>../data/SemesterProject/Segmented Movements/Ki...</td>\n      <td>../data/SemesterProject/Segmented Movements/Ki...</td>\n      <td>[[[-1.20263, -1.2766499999999998, -1.333304, -...</td>\n      <td>standing_shoulder_scaption</td>\n      <td>[[[-1.20263, -1.20263, -1.2766499999999998, -1...</td>\n      <td>[[[-1.20263, -1.20263, -1.2766499999999998], [...</td>\n      <td>[10, 10, 10, 10, 10, 10, 10, 10, 10, 10, 10, 1...</td>\n    </tr>\n    <tr>\n      <th>999</th>\n      <td>2</td>\n      <td>2</td>\n      <td>5</td>\n      <td>[[-11.48286, 93.07993, -253.60973, 0.0, 32.119...</td>\n      <td>[[1.59296, 3.33095, 2.81337, 1.76453, -2.27061...</td>\n      <td>../data/SemesterProject/Segmented Movements/Ki...</td>\n      <td>../data/SemesterProject/Segmented Movements/Ki...</td>\n      <td>[[[-11.48286, -11.422663333333333, -11.378308,...</td>\n      <td>hurdle_step</td>\n      <td>[[[-11.48286, -11.48286, -11.422663333333333, ...</td>\n      <td>[[[-11.48286, -11.48286, -11.422663333333333],...</td>\n      <td>[2, 2, 2, 2, 2, 2, 2, 2, 2, 2, 2, 2, 2, 2, 2, ...</td>\n    </tr>\n  </tbody>\n</table>\n<p>1000 rows × 12 columns</p>\n</div>"
     },
     "execution_count": 2,
     "metadata": {},
     "output_type": "execute_result"
    }
   ],
   "source": [
    "with open(os.path.join('..', 'data', 'SemesterProject', 'processed_data.pkl'), 'rb') as f:\n",
    "    df: pd.DataFrame = pd.read_pickle(f)\n",
    "\n",
    "df['movements'] = df[['movement_id', 'skeleton']].apply(lambda r: np.repeat(r['movement_id'], r['skeleton'].shape[-1]), axis=1)\n",
    "\n",
    "df"
   ],
   "metadata": {
    "collapsed": false,
    "pycharm": {
     "name": "#%%\n"
    }
   }
  },
  {
   "cell_type": "code",
   "execution_count": 3,
   "outputs": [],
   "source": [
    "naive_bayes: GaussianNB = GaussianNB()"
   ],
   "metadata": {
    "collapsed": false,
    "pycharm": {
     "name": "#%%\n"
    }
   }
  },
  {
   "cell_type": "code",
   "execution_count": 4,
   "outputs": [
    {
     "data": {
      "text/plain": "((68, 66), (68,))"
     },
     "execution_count": 4,
     "metadata": {},
     "output_type": "execute_result"
    }
   ],
   "source": [
    "X: np.ndarray = df['skeleton'].iloc[0].reshape((-1, 66))\n",
    "y: np.ndarray = np.repeat(df['movement_id'].iloc[0], X.shape[0])\n",
    "X.shape, y.shape"
   ],
   "metadata": {
    "collapsed": false,
    "pycharm": {
     "name": "#%%\n"
    }
   }
  },
  {
   "cell_type": "code",
   "execution_count": 5,
   "outputs": [
    {
     "data": {
      "text/plain": "GaussianNB()",
      "text/html": "<style>#sk-container-id-1 {color: black;background-color: white;}#sk-container-id-1 pre{padding: 0;}#sk-container-id-1 div.sk-toggleable {background-color: white;}#sk-container-id-1 label.sk-toggleable__label {cursor: pointer;display: block;width: 100%;margin-bottom: 0;padding: 0.3em;box-sizing: border-box;text-align: center;}#sk-container-id-1 label.sk-toggleable__label-arrow:before {content: \"▸\";float: left;margin-right: 0.25em;color: #696969;}#sk-container-id-1 label.sk-toggleable__label-arrow:hover:before {color: black;}#sk-container-id-1 div.sk-estimator:hover label.sk-toggleable__label-arrow:before {color: black;}#sk-container-id-1 div.sk-toggleable__content {max-height: 0;max-width: 0;overflow: hidden;text-align: left;background-color: #f0f8ff;}#sk-container-id-1 div.sk-toggleable__content pre {margin: 0.2em;color: black;border-radius: 0.25em;background-color: #f0f8ff;}#sk-container-id-1 input.sk-toggleable__control:checked~div.sk-toggleable__content {max-height: 200px;max-width: 100%;overflow: auto;}#sk-container-id-1 input.sk-toggleable__control:checked~label.sk-toggleable__label-arrow:before {content: \"▾\";}#sk-container-id-1 div.sk-estimator input.sk-toggleable__control:checked~label.sk-toggleable__label {background-color: #d4ebff;}#sk-container-id-1 div.sk-label input.sk-toggleable__control:checked~label.sk-toggleable__label {background-color: #d4ebff;}#sk-container-id-1 input.sk-hidden--visually {border: 0;clip: rect(1px 1px 1px 1px);clip: rect(1px, 1px, 1px, 1px);height: 1px;margin: -1px;overflow: hidden;padding: 0;position: absolute;width: 1px;}#sk-container-id-1 div.sk-estimator {font-family: monospace;background-color: #f0f8ff;border: 1px dotted black;border-radius: 0.25em;box-sizing: border-box;margin-bottom: 0.5em;}#sk-container-id-1 div.sk-estimator:hover {background-color: #d4ebff;}#sk-container-id-1 div.sk-parallel-item::after {content: \"\";width: 100%;border-bottom: 1px solid gray;flex-grow: 1;}#sk-container-id-1 div.sk-label:hover label.sk-toggleable__label {background-color: #d4ebff;}#sk-container-id-1 div.sk-serial::before {content: \"\";position: absolute;border-left: 1px solid gray;box-sizing: border-box;top: 0;bottom: 0;left: 50%;z-index: 0;}#sk-container-id-1 div.sk-serial {display: flex;flex-direction: column;align-items: center;background-color: white;padding-right: 0.2em;padding-left: 0.2em;position: relative;}#sk-container-id-1 div.sk-item {position: relative;z-index: 1;}#sk-container-id-1 div.sk-parallel {display: flex;align-items: stretch;justify-content: center;background-color: white;position: relative;}#sk-container-id-1 div.sk-item::before, #sk-container-id-1 div.sk-parallel-item::before {content: \"\";position: absolute;border-left: 1px solid gray;box-sizing: border-box;top: 0;bottom: 0;left: 50%;z-index: -1;}#sk-container-id-1 div.sk-parallel-item {display: flex;flex-direction: column;z-index: 1;position: relative;background-color: white;}#sk-container-id-1 div.sk-parallel-item:first-child::after {align-self: flex-end;width: 50%;}#sk-container-id-1 div.sk-parallel-item:last-child::after {align-self: flex-start;width: 50%;}#sk-container-id-1 div.sk-parallel-item:only-child::after {width: 0;}#sk-container-id-1 div.sk-dashed-wrapped {border: 1px dashed gray;margin: 0 0.4em 0.5em 0.4em;box-sizing: border-box;padding-bottom: 0.4em;background-color: white;}#sk-container-id-1 div.sk-label label {font-family: monospace;font-weight: bold;display: inline-block;line-height: 1.2em;}#sk-container-id-1 div.sk-label-container {text-align: center;}#sk-container-id-1 div.sk-container {/* jupyter's `normalize.less` sets `[hidden] { display: none; }` but bootstrap.min.css set `[hidden] { display: none !important; }` so we also need the `!important` here to be able to override the default hidden behavior on the sphinx rendered scikit-learn.org. See: https://github.com/scikit-learn/scikit-learn/issues/21755 */display: inline-block !important;position: relative;}#sk-container-id-1 div.sk-text-repr-fallback {display: none;}</style><div id=\"sk-container-id-1\" class=\"sk-top-container\"><div class=\"sk-text-repr-fallback\"><pre>GaussianNB()</pre><b>In a Jupyter environment, please rerun this cell to show the HTML representation or trust the notebook. <br />On GitHub, the HTML representation is unable to render, please try loading this page with nbviewer.org.</b></div><div class=\"sk-container\" hidden><div class=\"sk-item\"><div class=\"sk-estimator sk-toggleable\"><input class=\"sk-toggleable__control sk-hidden--visually\" id=\"sk-estimator-id-1\" type=\"checkbox\" checked><label for=\"sk-estimator-id-1\" class=\"sk-toggleable__label sk-toggleable__label-arrow\">GaussianNB</label><div class=\"sk-toggleable__content\"><pre>GaussianNB()</pre></div></div></div></div></div>"
     },
     "execution_count": 5,
     "metadata": {},
     "output_type": "execute_result"
    }
   ],
   "source": [
    "naive_bayes.fit(X, y)"
   ],
   "metadata": {
    "collapsed": false,
    "pycharm": {
     "name": "#%%\n"
    }
   }
  },
  {
   "cell_type": "code",
   "execution_count": 6,
   "outputs": [
    {
     "data": {
      "text/plain": "68"
     },
     "execution_count": 6,
     "metadata": {},
     "output_type": "execute_result"
    }
   ],
   "source": [
    "y_pred: np.ndarray = naive_bayes.predict(X)\n",
    "\n",
    "(y == y_pred).sum()"
   ],
   "metadata": {
    "collapsed": false,
    "pycharm": {
     "name": "#%%\n"
    }
   }
  },
  {
   "cell_type": "code",
   "execution_count": 7,
   "outputs": [
    {
     "data": {
      "text/plain": "0"
     },
     "execution_count": 7,
     "metadata": {},
     "output_type": "execute_result"
    }
   ],
   "source": [
    "X_test: np.ndarray = df['skeleton'].iloc[5].reshape((-1, 66))\n",
    "y_test: np.ndarray = np.repeat(df['movement_id'].iloc[5], X_test.shape[0])\n",
    "\n",
    "y_pred_test: np.ndarray = naive_bayes.predict(X_test)\n",
    "\n",
    "(y_pred_test == y_test).sum()"
   ],
   "metadata": {
    "collapsed": false,
    "pycharm": {
     "name": "#%%\n"
    }
   }
  },
  {
   "cell_type": "code",
   "execution_count": 8,
   "outputs": [
    {
     "data": {
      "text/plain": "(22, 3, 68)"
     },
     "execution_count": 8,
     "metadata": {},
     "output_type": "execute_result"
    }
   ],
   "source": [
    "df['skeleton'].iloc[0].shape"
   ],
   "metadata": {
    "collapsed": false,
    "pycharm": {
     "name": "#%%\n"
    }
   }
  },
  {
   "cell_type": "code",
   "execution_count": 9,
   "outputs": [
    {
     "data": {
      "text/plain": "((74625, 66), (74625,))"
     },
     "execution_count": 9,
     "metadata": {},
     "output_type": "execute_result"
    }
   ],
   "source": [
    "X: np.ndarray = np.concatenate(df['skeleton'].values, axis=2).reshape((-1, 66))\n",
    "y: np.ndarray = np.concatenate(df['movements'])\n",
    "\n",
    "X.shape, y.shape"
   ],
   "metadata": {
    "collapsed": false,
    "pycharm": {
     "name": "#%%\n"
    }
   }
  },
  {
   "cell_type": "code",
   "execution_count": 10,
   "outputs": [],
   "source": [
    "from sklearn.model_selection import train_test_split\n",
    "from sklearn.metrics import f1_score, accuracy_score"
   ],
   "metadata": {
    "collapsed": false,
    "pycharm": {
     "name": "#%%\n"
    }
   }
  },
  {
   "cell_type": "code",
   "execution_count": 11,
   "outputs": [
    {
     "data": {
      "text/plain": "((59700, 66), (14925,), (59700,))"
     },
     "execution_count": 11,
     "metadata": {},
     "output_type": "execute_result"
    }
   ],
   "source": [
    "# I realize this is a bad way of doing it but ye.\n",
    "X_train, X_test, y_train, y_test = train_test_split(X, y, train_size=.8, shuffle=True, random_state=13)\n",
    "\n",
    "X_train.shape, y_test.shape, y_train.shape"
   ],
   "metadata": {
    "collapsed": false,
    "pycharm": {
     "name": "#%%\n"
    }
   }
  },
  {
   "cell_type": "code",
   "execution_count": 12,
   "outputs": [],
   "source": [
    "from sklearn.svm import SVC"
   ],
   "metadata": {
    "collapsed": false,
    "pycharm": {
     "name": "#%%\n"
    }
   }
  },
  {
   "cell_type": "code",
   "execution_count": 13,
   "outputs": [],
   "source": [
    "model: SVC = SVC(kernel='poly', random_state=13)\n",
    "\n",
    "model.fit(X_train, y_train)\n",
    "y_pred: np.ndarray = model.predict(X_test)\n",
    "\n"
   ],
   "metadata": {
    "collapsed": false,
    "pycharm": {
     "name": "#%%\n"
    }
   }
  },
  {
   "cell_type": "markdown",
   "source": [
    "Realistically I'm gonna have this be a Neural Network with some LSTMs and some Conv Nets but for Proof of Concept, this is what I'll be doing for now."
   ],
   "metadata": {
    "collapsed": false,
    "pycharm": {
     "name": "#%% md\n"
    }
   }
  },
  {
   "cell_type": "code",
   "execution_count": 14,
   "outputs": [
    {
     "data": {
      "text/plain": "(0.19191918710221506, 0.12241206030150754)"
     },
     "execution_count": 14,
     "metadata": {},
     "output_type": "execute_result"
    }
   ],
   "source": [
    "f1_score(y_pred, y_test, average='weighted'), accuracy_score(y_pred, y_test)"
   ],
   "metadata": {
    "collapsed": false,
    "pycharm": {
     "name": "#%%\n"
    }
   }
  },
  {
   "cell_type": "code",
   "execution_count": 15,
   "outputs": [],
   "source": [
    "import seaborn as sns"
   ],
   "metadata": {
    "collapsed": false,
    "pycharm": {
     "name": "#%%\n"
    }
   }
  },
  {
   "cell_type": "code",
   "execution_count": 16,
   "outputs": [
    {
     "data": {
      "text/plain": "<AxesSubplot:ylabel='Count'>"
     },
     "execution_count": 16,
     "metadata": {},
     "output_type": "execute_result"
    },
    {
     "data": {
      "text/plain": "<Figure size 640x480 with 1 Axes>",
      "image/png": "[encoded data removed]"
     },
     "metadata": {},
     "output_type": "display_data"
    }
   ],
   "source": [
    "num_frames: np.ndarray = df['reshaped_skeleton'].apply(lambda r: r.shape[0]).values\n",
    "\n",
    "sns.histplot(num_frames)"
   ],
   "metadata": {
    "collapsed": false,
    "pycharm": {
     "name": "#%%\n"
    }
   }
  },
  {
   "cell_type": "code",
   "execution_count": 16,
   "outputs": [],
   "source": [],
   "metadata": {
    "collapsed": false,
    "pycharm": {
     "name": "#%%\n"
    }
   }
  },
  {
   "cell_type": "code",
   "execution_count": 16,
   "outputs": [],
   "source": [],
   "metadata": {
    "collapsed": false,
    "pycharm": {
     "name": "#%%\n"
    }
   }
  }
 ],
 "metadata": {
  "kernelspec": {
   "display_name": "Python 3",
   "language": "python",
   "name": "python3"
  },
  "language_info": {
   "codemirror_mode": {
    "name": "ipython",
    "version": 2
   },
   "file_extension": ".py",
   "mimetype": "text/x-python",
   "name": "python",
   "nbconvert_exporter": "python",
   "pygments_lexer": "ipython2",
   "version": "2.7.6"
  }
 },
 "nbformat": 4,
 "nbformat_minor": 0
}
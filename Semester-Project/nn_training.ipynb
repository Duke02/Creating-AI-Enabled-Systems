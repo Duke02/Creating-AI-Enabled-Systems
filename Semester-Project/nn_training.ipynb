{
 "cells": [
  {
   "cell_type": "code",
   "execution_count": 1,
   "metadata": {
    "pycharm": {
     "name": "#%%\n"
    }
   },
   "outputs": [
    {
     "name": "stderr",
     "output_type": "stream",
     "text": [
      "2022-10-02 23:46:12.674773: I tensorflow/core/platform/cpu_feature_guard.cc:193] This TensorFlow binary is optimized with oneAPI Deep Neural Network Library (oneDNN) to use the following CPU instructions in performance-critical operations:  AVX2 FMA\n",
      "To enable them in other operations, rebuild TensorFlow with the appropriate compiler flags.\n",
      "2022-10-02 23:46:12.784253: W tensorflow/stream_executor/platform/default/dso_loader.cc:64] Could not load dynamic library 'libcudart.so.11.0'; dlerror: libcudart.so.11.0: cannot open shared object file: No such file or directory; LD_LIBRARY_PATH: /usr/lib/cuda/include:/usr/lib/cuda/lib64:\n",
      "2022-10-02 23:46:12.784269: I tensorflow/stream_executor/cuda/cudart_stub.cc:29] Ignore above cudart dlerror if you do not have a GPU set up on your machine.\n",
      "2022-10-02 23:46:12.805932: E tensorflow/stream_executor/cuda/cuda_blas.cc:2981] Unable to register cuBLAS factory: Attempting to register factory for plugin cuBLAS when one has already been registered\n",
      "2022-10-02 23:46:13.349931: W tensorflow/stream_executor/platform/default/dso_loader.cc:64] Could not load dynamic library 'libnvinfer.so.7'; dlerror: libnvinfer.so.7: cannot open shared object file: No such file or directory; LD_LIBRARY_PATH: /usr/lib/cuda/include:/usr/lib/cuda/lib64:\n",
      "2022-10-02 23:46:13.350059: W tensorflow/stream_executor/platform/default/dso_loader.cc:64] Could not load dynamic library 'libnvinfer_plugin.so.7'; dlerror: libnvinfer_plugin.so.7: cannot open shared object file: No such file or directory; LD_LIBRARY_PATH: /usr/lib/cuda/include:/usr/lib/cuda/lib64:\n",
      "2022-10-02 23:46:13.350070: W tensorflow/compiler/tf2tensorrt/utils/py_utils.cc:38] TF-TRT Warning: Cannot dlopen some TensorRT libraries. If you would like to use Nvidia GPU with TensorRT, please make sure the missing libraries mentioned above are installed properly.\n"
     ]
    }
   ],
   "source": [
    "import tensorflow as tf\n",
    "import tensorflow_addons as tfa\n",
    "import pandas as pd \n",
    "import os \n",
    "import pickle\n",
    "import typing as tp\n",
    "import matplotlib.pyplot as plt\n",
    "import seaborn as sns\n",
    "import numpy as np\n",
    "\n",
    "sns.set_theme(rc={'figure.figsize': (8.25, 5.875), 'figure.dpi': 100, 'axes.labelpad': 2, 'savefig.pad_inches': .5})"
   ]
  },
  {
   "cell_type": "code",
   "execution_count": 2,
   "metadata": {
    "pycharm": {
     "name": "#%%\n"
    }
   },
   "outputs": [
    {
     "data": {
      "text/html": [
       "<div>\n",
       "<style scoped>\n",
       "    .dataframe tbody tr th:only-of-type {\n",
       "        vertical-align: middle;\n",
       "    }\n",
       "\n",
       "    .dataframe tbody tr th {\n",
       "        vertical-align: top;\n",
       "    }\n",
       "\n",
       "    .dataframe thead th {\n",
       "        text-align: right;\n",
       "    }\n",
       "</style>\n",
       "<table border=\"1\" class=\"dataframe\">\n",
       "  <thead>\n",
       "    <tr style=\"text-align: right;\">\n",
       "      <th></th>\n",
       "      <th>movement_id</th>\n",
       "      <th>subject_id</th>\n",
       "      <th>episode_num</th>\n",
       "      <th>positions</th>\n",
       "      <th>angles</th>\n",
       "      <th>positions_path</th>\n",
       "      <th>angles_path</th>\n",
       "      <th>skeleton</th>\n",
       "      <th>is_correct_movements</th>\n",
       "      <th>movement_name</th>\n",
       "      <th>filled_skeleton</th>\n",
       "      <th>reshaped_skeleton</th>\n",
       "    </tr>\n",
       "  </thead>\n",
       "  <tbody>\n",
       "    <tr>\n",
       "      <th>0</th>\n",
       "      <td>4</td>\n",
       "      <td>6</td>\n",
       "      <td>3</td>\n",
       "      <td>[[-3.02874, 75.90507, -270.5936, 0.0, 27.79706...</td>\n",
       "      <td>[[0.14469, 0.65008, -0.55925, 2.28859, 1.14512...</td>\n",
       "      <td>../data/SemesterProject/Segmented Movements/Ki...</td>\n",
       "      <td>../data/SemesterProject/Segmented Movements/Ki...</td>\n",
       "      <td>[[[-3.02874, -3.0521766666666665, -3.233198000...</td>\n",
       "      <td>True</td>\n",
       "      <td>side_lunge</td>\n",
       "      <td>[[[-3.02874, -3.02874, -3.0521766666666665, -3...</td>\n",
       "      <td>[[[-3.02874, -3.02874, -3.0521766666666665], [...</td>\n",
       "    </tr>\n",
       "    <tr>\n",
       "      <th>1</th>\n",
       "      <td>5</td>\n",
       "      <td>7</td>\n",
       "      <td>8</td>\n",
       "      <td>[[-1.38662, 84.46687, -232.60986, 0.0, 28.7417...</td>\n",
       "      <td>[[1.29924, -0.9601, -1.45577, 1.84614, 0.07701...</td>\n",
       "      <td>../data/SemesterProject/Segmented Movements/Ki...</td>\n",
       "      <td>../data/SemesterProject/Segmented Movements/Ki...</td>\n",
       "      <td>[[[-1.38662, -1.3767133333333332, -1.343484, -...</td>\n",
       "      <td>True</td>\n",
       "      <td>sit_to_stand</td>\n",
       "      <td>[[[-1.38662, -1.3767133333333332, -1.343484, -...</td>\n",
       "      <td>[[[-1.38662, -1.3767133333333332, -1.343484], ...</td>\n",
       "    </tr>\n",
       "    <tr>\n",
       "      <th>2</th>\n",
       "      <td>3</td>\n",
       "      <td>1</td>\n",
       "      <td>7</td>\n",
       "      <td>[[-12.26233, 81.59789, -248.86124, -2e-05, 27....</td>\n",
       "      <td>[[4.66077, 56.68494, 0.06777, 1.09106, 3.04529...</td>\n",
       "      <td>../data/SemesterProject/Segmented Movements/Ki...</td>\n",
       "      <td>../data/SemesterProject/Segmented Movements/Ki...</td>\n",
       "      <td>[[[-12.26233, -12.32828, -12.324802, -12.30633...</td>\n",
       "      <td>True</td>\n",
       "      <td>inline_lunge</td>\n",
       "      <td>[[[-12.26233, -12.26233, -12.32828, -12.32828,...</td>\n",
       "      <td>[[[-12.26233, -12.26233, -12.32828], [-12.3282...</td>\n",
       "    </tr>\n",
       "    <tr>\n",
       "      <th>3</th>\n",
       "      <td>3</td>\n",
       "      <td>2</td>\n",
       "      <td>8</td>\n",
       "      <td>[[-32.37641, 83.38937, -259.35818, 0.0, 30.475...</td>\n",
       "      <td>[[6.7506, 30.05265, -0.95628, 1.56654, 5.7209,...</td>\n",
       "      <td>../data/SemesterProject/Segmented Movements/Ki...</td>\n",
       "      <td>../data/SemesterProject/Segmented Movements/Ki...</td>\n",
       "      <td>[[[-32.37641, -32.4872, -32.529323999999995, -...</td>\n",
       "      <td>True</td>\n",
       "      <td>inline_lunge</td>\n",
       "      <td>[[[-32.37641, -32.37641, -32.4872, -32.4872, -...</td>\n",
       "      <td>[[[-32.37641, -32.37641, -32.4872], [-32.4872,...</td>\n",
       "    </tr>\n",
       "    <tr>\n",
       "      <th>4</th>\n",
       "      <td>1</td>\n",
       "      <td>2</td>\n",
       "      <td>4</td>\n",
       "      <td>[[-5.75375, 91.87819, -256.75516, 0.0, 31.3124...</td>\n",
       "      <td>[[18.99975, 1.46816, -1.66474, 2.46127, -1.360...</td>\n",
       "      <td>../data/SemesterProject/Segmented Movements/Ki...</td>\n",
       "      <td>../data/SemesterProject/Segmented Movements/Ki...</td>\n",
       "      <td>[[[-5.75375, -5.718733333333334, -5.70244, -5....</td>\n",
       "      <td>True</td>\n",
       "      <td>deep_squat</td>\n",
       "      <td>[[[-5.75375, -5.75375, -5.718733333333334, -5....</td>\n",
       "      <td>[[[-5.75375, -5.75375, -5.718733333333334], [-...</td>\n",
       "    </tr>\n",
       "    <tr>\n",
       "      <th>...</th>\n",
       "      <td>...</td>\n",
       "      <td>...</td>\n",
       "      <td>...</td>\n",
       "      <td>...</td>\n",
       "      <td>...</td>\n",
       "      <td>...</td>\n",
       "      <td>...</td>\n",
       "      <td>...</td>\n",
       "      <td>...</td>\n",
       "      <td>...</td>\n",
       "      <td>...</td>\n",
       "      <td>...</td>\n",
       "    </tr>\n",
       "    <tr>\n",
       "      <th>1995</th>\n",
       "      <td>5</td>\n",
       "      <td>6</td>\n",
       "      <td>3</td>\n",
       "      <td>[[-2.63476, 83.50163, -240.37843, 0.0, 28.2200...</td>\n",
       "      <td>[[15.84974, -4.20364, -1.17937, 0.35739, 0.051...</td>\n",
       "      <td>../data/SemesterProject/Incorrect Segmented Mo...</td>\n",
       "      <td>../data/SemesterProject/Incorrect Segmented Mo...</td>\n",
       "      <td>[[[-2.63476, -2.624546666666667, -2.6119, -2.5...</td>\n",
       "      <td>False</td>\n",
       "      <td>sit_to_stand</td>\n",
       "      <td>[[[-2.63476, -2.624546666666667, -2.6119, -2.5...</td>\n",
       "      <td>[[[-2.63476, -2.624546666666667, -2.6119], [-2...</td>\n",
       "    </tr>\n",
       "    <tr>\n",
       "      <th>1996</th>\n",
       "      <td>9</td>\n",
       "      <td>2</td>\n",
       "      <td>4</td>\n",
       "      <td>[[-5.71642, 91.27028, -254.8842, 0.0, 31.52043...</td>\n",
       "      <td>[[-0.56814, -1.42729, 1.82979, 1.79609, -2.207...</td>\n",
       "      <td>../data/SemesterProject/Incorrect Segmented Mo...</td>\n",
       "      <td>../data/SemesterProject/Incorrect Segmented Mo...</td>\n",
       "      <td>[[[-5.71642, -5.722166666666666, -5.7173, -5.7...</td>\n",
       "      <td>False</td>\n",
       "      <td>standing_shoulder_internal-external_rotation</td>\n",
       "      <td>[[[-5.71642, -5.71642, -5.722166666666666, -5....</td>\n",
       "      <td>[[[-5.71642, -5.71642, -5.722166666666666], [-...</td>\n",
       "    </tr>\n",
       "    <tr>\n",
       "      <th>1997</th>\n",
       "      <td>5</td>\n",
       "      <td>2</td>\n",
       "      <td>9</td>\n",
       "      <td>[[-9.46943, 90.67174, -237.1367, 0.0, 31.4319,...</td>\n",
       "      <td>[[8.66695, -2.79748, -0.58766, 2.4597, -2.9478...</td>\n",
       "      <td>../data/SemesterProject/Incorrect Segmented Mo...</td>\n",
       "      <td>../data/SemesterProject/Incorrect Segmented Mo...</td>\n",
       "      <td>[[[-9.46943, -9.475143333333333, -9.471862, -9...</td>\n",
       "      <td>False</td>\n",
       "      <td>sit_to_stand</td>\n",
       "      <td>[[[-9.46943, -9.46943, -9.475143333333333, -9....</td>\n",
       "      <td>[[[-9.46943, -9.46943, -9.475143333333333], [-...</td>\n",
       "    </tr>\n",
       "    <tr>\n",
       "      <th>1998</th>\n",
       "      <td>10</td>\n",
       "      <td>3</td>\n",
       "      <td>5</td>\n",
       "      <td>[[-7.09957, 80.66993, -223.96956, 0.0, 31.1741...</td>\n",
       "      <td>[[1.71686, -2.48381, 0.568, 1.88909, 0.89951, ...</td>\n",
       "      <td>../data/SemesterProject/Incorrect Segmented Mo...</td>\n",
       "      <td>../data/SemesterProject/Incorrect Segmented Mo...</td>\n",
       "      <td>[[[-7.09957, -7.143396666666667, -7.1779740000...</td>\n",
       "      <td>False</td>\n",
       "      <td>standing_shoulder_scaption</td>\n",
       "      <td>[[[-7.09957, -7.09957, -7.143396666666667, -7....</td>\n",
       "      <td>[[[-7.09957, -7.09957, -7.143396666666667], [-...</td>\n",
       "    </tr>\n",
       "    <tr>\n",
       "      <th>1999</th>\n",
       "      <td>1</td>\n",
       "      <td>9</td>\n",
       "      <td>1</td>\n",
       "      <td>[[-9.7508, 80.91665, -221.64139, 0.0, 29.29456...</td>\n",
       "      <td>[[-4.81121, -2.47535, -0.75139, 1.58173, -0.47...</td>\n",
       "      <td>../data/SemesterProject/Incorrect Segmented Mo...</td>\n",
       "      <td>../data/SemesterProject/Incorrect Segmented Mo...</td>\n",
       "      <td>[[[-9.7508, -9.75956, -9.764044, -9.767934, -9...</td>\n",
       "      <td>False</td>\n",
       "      <td>deep_squat</td>\n",
       "      <td>[[[-9.7508, -9.7508, -9.75956, -9.75956, -9.76...</td>\n",
       "      <td>[[[-9.7508, -9.7508, -9.75956], [-9.75956, -9....</td>\n",
       "    </tr>\n",
       "  </tbody>\n",
       "</table>\n",
       "<p>2000 rows × 12 columns</p>\n",
       "</div>"
      ],
      "text/plain": [
       "      movement_id  subject_id  episode_num  \\\n",
       "0               4           6            3   \n",
       "1               5           7            8   \n",
       "2               3           1            7   \n",
       "3               3           2            8   \n",
       "4               1           2            4   \n",
       "...           ...         ...          ...   \n",
       "1995            5           6            3   \n",
       "1996            9           2            4   \n",
       "1997            5           2            9   \n",
       "1998           10           3            5   \n",
       "1999            1           9            1   \n",
       "\n",
       "                                              positions  \\\n",
       "0     [[-3.02874, 75.90507, -270.5936, 0.0, 27.79706...   \n",
       "1     [[-1.38662, 84.46687, -232.60986, 0.0, 28.7417...   \n",
       "2     [[-12.26233, 81.59789, -248.86124, -2e-05, 27....   \n",
       "3     [[-32.37641, 83.38937, -259.35818, 0.0, 30.475...   \n",
       "4     [[-5.75375, 91.87819, -256.75516, 0.0, 31.3124...   \n",
       "...                                                 ...   \n",
       "1995  [[-2.63476, 83.50163, -240.37843, 0.0, 28.2200...   \n",
       "1996  [[-5.71642, 91.27028, -254.8842, 0.0, 31.52043...   \n",
       "1997  [[-9.46943, 90.67174, -237.1367, 0.0, 31.4319,...   \n",
       "1998  [[-7.09957, 80.66993, -223.96956, 0.0, 31.1741...   \n",
       "1999  [[-9.7508, 80.91665, -221.64139, 0.0, 29.29456...   \n",
       "\n",
       "                                                 angles  \\\n",
       "0     [[0.14469, 0.65008, -0.55925, 2.28859, 1.14512...   \n",
       "1     [[1.29924, -0.9601, -1.45577, 1.84614, 0.07701...   \n",
       "2     [[4.66077, 56.68494, 0.06777, 1.09106, 3.04529...   \n",
       "3     [[6.7506, 30.05265, -0.95628, 1.56654, 5.7209,...   \n",
       "4     [[18.99975, 1.46816, -1.66474, 2.46127, -1.360...   \n",
       "...                                                 ...   \n",
       "1995  [[15.84974, -4.20364, -1.17937, 0.35739, 0.051...   \n",
       "1996  [[-0.56814, -1.42729, 1.82979, 1.79609, -2.207...   \n",
       "1997  [[8.66695, -2.79748, -0.58766, 2.4597, -2.9478...   \n",
       "1998  [[1.71686, -2.48381, 0.568, 1.88909, 0.89951, ...   \n",
       "1999  [[-4.81121, -2.47535, -0.75139, 1.58173, -0.47...   \n",
       "\n",
       "                                         positions_path  \\\n",
       "0     ../data/SemesterProject/Segmented Movements/Ki...   \n",
       "1     ../data/SemesterProject/Segmented Movements/Ki...   \n",
       "2     ../data/SemesterProject/Segmented Movements/Ki...   \n",
       "3     ../data/SemesterProject/Segmented Movements/Ki...   \n",
       "4     ../data/SemesterProject/Segmented Movements/Ki...   \n",
       "...                                                 ...   \n",
       "1995  ../data/SemesterProject/Incorrect Segmented Mo...   \n",
       "1996  ../data/SemesterProject/Incorrect Segmented Mo...   \n",
       "1997  ../data/SemesterProject/Incorrect Segmented Mo...   \n",
       "1998  ../data/SemesterProject/Incorrect Segmented Mo...   \n",
       "1999  ../data/SemesterProject/Incorrect Segmented Mo...   \n",
       "\n",
       "                                            angles_path  \\\n",
       "0     ../data/SemesterProject/Segmented Movements/Ki...   \n",
       "1     ../data/SemesterProject/Segmented Movements/Ki...   \n",
       "2     ../data/SemesterProject/Segmented Movements/Ki...   \n",
       "3     ../data/SemesterProject/Segmented Movements/Ki...   \n",
       "4     ../data/SemesterProject/Segmented Movements/Ki...   \n",
       "...                                                 ...   \n",
       "1995  ../data/SemesterProject/Incorrect Segmented Mo...   \n",
       "1996  ../data/SemesterProject/Incorrect Segmented Mo...   \n",
       "1997  ../data/SemesterProject/Incorrect Segmented Mo...   \n",
       "1998  ../data/SemesterProject/Incorrect Segmented Mo...   \n",
       "1999  ../data/SemesterProject/Incorrect Segmented Mo...   \n",
       "\n",
       "                                               skeleton  is_correct_movements  \\\n",
       "0     [[[-3.02874, -3.0521766666666665, -3.233198000...                  True   \n",
       "1     [[[-1.38662, -1.3767133333333332, -1.343484, -...                  True   \n",
       "2     [[[-12.26233, -12.32828, -12.324802, -12.30633...                  True   \n",
       "3     [[[-32.37641, -32.4872, -32.529323999999995, -...                  True   \n",
       "4     [[[-5.75375, -5.718733333333334, -5.70244, -5....                  True   \n",
       "...                                                 ...                   ...   \n",
       "1995  [[[-2.63476, -2.624546666666667, -2.6119, -2.5...                 False   \n",
       "1996  [[[-5.71642, -5.722166666666666, -5.7173, -5.7...                 False   \n",
       "1997  [[[-9.46943, -9.475143333333333, -9.471862, -9...                 False   \n",
       "1998  [[[-7.09957, -7.143396666666667, -7.1779740000...                 False   \n",
       "1999  [[[-9.7508, -9.75956, -9.764044, -9.767934, -9...                 False   \n",
       "\n",
       "                                     movement_name  \\\n",
       "0                                       side_lunge   \n",
       "1                                     sit_to_stand   \n",
       "2                                     inline_lunge   \n",
       "3                                     inline_lunge   \n",
       "4                                       deep_squat   \n",
       "...                                            ...   \n",
       "1995                                  sit_to_stand   \n",
       "1996  standing_shoulder_internal-external_rotation   \n",
       "1997                                  sit_to_stand   \n",
       "1998                    standing_shoulder_scaption   \n",
       "1999                                    deep_squat   \n",
       "\n",
       "                                        filled_skeleton  \\\n",
       "0     [[[-3.02874, -3.02874, -3.0521766666666665, -3...   \n",
       "1     [[[-1.38662, -1.3767133333333332, -1.343484, -...   \n",
       "2     [[[-12.26233, -12.26233, -12.32828, -12.32828,...   \n",
       "3     [[[-32.37641, -32.37641, -32.4872, -32.4872, -...   \n",
       "4     [[[-5.75375, -5.75375, -5.718733333333334, -5....   \n",
       "...                                                 ...   \n",
       "1995  [[[-2.63476, -2.624546666666667, -2.6119, -2.5...   \n",
       "1996  [[[-5.71642, -5.71642, -5.722166666666666, -5....   \n",
       "1997  [[[-9.46943, -9.46943, -9.475143333333333, -9....   \n",
       "1998  [[[-7.09957, -7.09957, -7.143396666666667, -7....   \n",
       "1999  [[[-9.7508, -9.7508, -9.75956, -9.75956, -9.76...   \n",
       "\n",
       "                                      reshaped_skeleton  \n",
       "0     [[[-3.02874, -3.02874, -3.0521766666666665], [...  \n",
       "1     [[[-1.38662, -1.3767133333333332, -1.343484], ...  \n",
       "2     [[[-12.26233, -12.26233, -12.32828], [-12.3282...  \n",
       "3     [[[-32.37641, -32.37641, -32.4872], [-32.4872,...  \n",
       "4     [[[-5.75375, -5.75375, -5.718733333333334], [-...  \n",
       "...                                                 ...  \n",
       "1995  [[[-2.63476, -2.624546666666667, -2.6119], [-2...  \n",
       "1996  [[[-5.71642, -5.71642, -5.722166666666666], [-...  \n",
       "1997  [[[-9.46943, -9.46943, -9.475143333333333], [-...  \n",
       "1998  [[[-7.09957, -7.09957, -7.143396666666667], [-...  \n",
       "1999  [[[-9.7508, -9.7508, -9.75956], [-9.75956, -9....  \n",
       "\n",
       "[2000 rows x 12 columns]"
      ]
     },
     "execution_count": 2,
     "metadata": {},
     "output_type": "execute_result"
    }
   ],
   "source": [
    "df_correct: pd.DataFrame = pd.read_pickle(os.path.join('..', 'data', 'SemesterProject', 'processed_data.pkl'))\n",
    "df_incorrect: pd.DataFrame = pd.read_pickle(os.path.join('..', 'data', 'SemesterProject', 'processed_data_incorrect.pkl'))\n",
    "df: pd.DataFrame = pd.concat([df_correct, df_incorrect], ignore_index=True)\n",
    "df"
   ]
  },
  {
   "cell_type": "code",
   "execution_count": 3,
   "metadata": {
    "pycharm": {
     "name": "#%%\n"
    }
   },
   "outputs": [],
   "source": [
    "from sklearn.model_selection import train_test_split\n",
    "from sklearn.preprocessing import StandardScaler"
   ]
  },
  {
   "cell_type": "code",
   "execution_count": 4,
   "metadata": {
    "pycharm": {
     "name": "#%%\n"
    }
   },
   "outputs": [
    {
     "data": {
      "text/plain": [
       "((2000, 180, 22, 3), (2000,))"
      ]
     },
     "execution_count": 4,
     "metadata": {},
     "output_type": "execute_result"
    }
   ],
   "source": [
    "X: np.ndarray = np.stack(df['reshaped_skeleton'].values)\n",
    "y: np.ndarray = df['movement_id'].values - 1    \n",
    "\n",
    "X.shape, y.shape"
   ]
  },
  {
   "cell_type": "code",
   "execution_count": 5,
   "metadata": {
    "pycharm": {
     "name": "#%%\n"
    }
   },
   "outputs": [
    {
     "data": {
      "text/plain": [
       "((1600, 180, 22, 3), (400, 180, 22, 3), (1600,), (400,))"
      ]
     },
     "execution_count": 5,
     "metadata": {},
     "output_type": "execute_result"
    }
   ],
   "source": [
    "X_train, X_test, y_train, y_test = train_test_split(X, y, train_size=.8, shuffle=True, random_state=13)\n",
    "X_train.shape, X_test.shape, y_train.shape, y_test.shape"
   ]
  },
  {
   "cell_type": "code",
   "execution_count": 6,
   "metadata": {
    "pycharm": {
     "name": "#%%\n"
    }
   },
   "outputs": [],
   "source": [
    "batch_size: int = 64\n",
    "n_time_frames: int = X.shape[1]\n",
    "    "
   ]
  },
  {
   "cell_type": "code",
   "execution_count": 7,
   "metadata": {
    "pycharm": {
     "name": "#%%\n"
    }
   },
   "outputs": [
    {
     "data": {
      "text/plain": [
       "(0.0, -321.9654860123444, 342.3534360020533, 664.3189220143977)"
      ]
     },
     "execution_count": 7,
     "metadata": {},
     "output_type": "execute_result"
    }
   ],
   "source": [
    "a = (X_train - X_train.min())\n",
    "a.min(), X_train.min(), X_train.max(), a.max()\n"
   ]
  },
  {
   "cell_type": "code",
   "execution_count": 8,
   "metadata": {
    "pycharm": {
     "name": "#%%\n"
    }
   },
   "outputs": [
    {
     "name": "stderr",
     "output_type": "stream",
     "text": [
      "2022-10-02 23:46:20.188357: I tensorflow/stream_executor/cuda/cuda_gpu_executor.cc:980] successful NUMA node read from SysFS had negative value (-1), but there must be at least one NUMA node, so returning NUMA node zero\n",
      "2022-10-02 23:46:20.188696: W tensorflow/stream_executor/platform/default/dso_loader.cc:64] Could not load dynamic library 'libcudart.so.11.0'; dlerror: libcudart.so.11.0: cannot open shared object file: No such file or directory; LD_LIBRARY_PATH: /usr/lib/cuda/include:/usr/lib/cuda/lib64:\n",
      "2022-10-02 23:46:20.188748: W tensorflow/stream_executor/platform/default/dso_loader.cc:64] Could not load dynamic library 'libcublas.so.11'; dlerror: libcublas.so.11: cannot open shared object file: No such file or directory; LD_LIBRARY_PATH: /usr/lib/cuda/include:/usr/lib/cuda/lib64:\n",
      "2022-10-02 23:46:20.188795: W tensorflow/stream_executor/platform/default/dso_loader.cc:64] Could not load dynamic library 'libcublasLt.so.11'; dlerror: libcublasLt.so.11: cannot open shared object file: No such file or directory; LD_LIBRARY_PATH: /usr/lib/cuda/include:/usr/lib/cuda/lib64:\n",
      "2022-10-02 23:46:20.190009: W tensorflow/stream_executor/platform/default/dso_loader.cc:64] Could not load dynamic library 'libcusolver.so.11'; dlerror: libcusolver.so.11: cannot open shared object file: No such file or directory; LD_LIBRARY_PATH: /usr/lib/cuda/include:/usr/lib/cuda/lib64:\n",
      "2022-10-02 23:46:20.190056: W tensorflow/stream_executor/platform/default/dso_loader.cc:64] Could not load dynamic library 'libcusparse.so.11'; dlerror: libcusparse.so.11: cannot open shared object file: No such file or directory; LD_LIBRARY_PATH: /usr/lib/cuda/include:/usr/lib/cuda/lib64:\n",
      "2022-10-02 23:46:20.190155: W tensorflow/core/common_runtime/gpu/gpu_device.cc:1934] Cannot dlopen some GPU libraries. Please make sure the missing libraries mentioned above are installed properly if you would like to use GPU. Follow the guide at https://www.tensorflow.org/install/gpu for how to download and setup the required libraries for your platform.\n",
      "Skipping registering GPU devices...\n",
      "2022-10-02 23:46:20.190400: I tensorflow/core/platform/cpu_feature_guard.cc:193] This TensorFlow binary is optimized with oneAPI Deep Neural Network Library (oneDNN) to use the following CPU instructions in performance-critical operations:  AVX2 FMA\n",
      "To enable them in other operations, rebuild TensorFlow with the appropriate compiler flags.\n"
     ]
    },
    {
     "name": "stdout",
     "output_type": "stream",
     "text": [
      "Min 0.0 / Max 1.0\n",
      "Mean -2.1985885112485448e-08 / Std 1.0000004768371582\n",
      "Model: \"sequential_1\"\n",
      "_________________________________________________________________\n",
      " Layer (type)                Output Shape              Param #   \n",
      "=================================================================\n",
      " normalization (Normalizatio  (None, 180, 22, 3)       3         \n",
      " n)                                                              \n",
      "                                                                 \n",
      " reshape (Reshape)           (None, 180, 66)           0         \n",
      "                                                                 \n",
      " lstm (LSTM)                 (None, 180, 64)           33536     \n",
      "                                                                 \n",
      " lstm_1 (LSTM)               (None, 32)                12416     \n",
      "                                                                 \n",
      " dense (Dense)               (None, 10)                330       \n",
      "                                                                 \n",
      "=================================================================\n",
      "Total params: 46,285\n",
      "Trainable params: 46,282\n",
      "Non-trainable params: 3\n",
      "_________________________________________________________________\n"
     ]
    }
   ],
   "source": [
    "# Clear the session\n",
    "tf.keras.backend.clear_session()\n",
    "\n",
    "norm_layer = tf.keras.layers.Normalization(axis=None)\n",
    "norm_layer.adapt(X_train)\n",
    "\n",
    "a: np.ndarray = X_train - X_train.min()\n",
    "\n",
    "scale_inv: float = a.max()\n",
    "offset: float = X_train.min()\n",
    "\n",
    "rescale_layer = tf.keras.Sequential([\n",
    "    tf.keras.layers.Rescaling(scale=1, offset=-offset),\n",
    "    tf.keras.layers.Rescaling(scale=1.0/scale_inv)])\n",
    "\n",
    "scaled_data = rescale_layer(X_train)\n",
    "print(f'Min {scaled_data.numpy().min()} / Max {scaled_data.numpy().max()}')\n",
    "\n",
    "normed_data = norm_layer(X_train)\n",
    "print(f'Mean {normed_data.numpy().mean()} / Std {normed_data.numpy().std()}')\n",
    "\n",
    "model = tf.keras.Sequential([\n",
    "    tf.keras.layers.InputLayer(input_shape=(n_time_frames, 22, 3)),\n",
    "    norm_layer,\n",
    "    tf.keras.layers.Reshape((n_time_frames, -1)),\n",
    "    tf.keras.layers.LSTM(units=64, return_sequences=True),\n",
    "    tf.keras.layers.LSTM(units=32, return_sequences=False),\n",
    "    tf.keras.layers.Dense(units=10, activation='softmax')\n",
    "])\n",
    "\n",
    "model.summary()"
   ]
  },
  {
   "cell_type": "code",
   "execution_count": 9,
   "metadata": {
    "pycharm": {
     "name": "#%%\n"
    }
   },
   "outputs": [
    {
     "name": "stdout",
     "output_type": "stream",
     "text": [
      "Epoch 1/60\n"
     ]
    },
    {
     "name": "stderr",
     "output_type": "stream",
     "text": [
      "/home/duke_trystan/miniconda3/envs/tf-physical-therapy/lib/python3.10/site-packages/keras/backend.py:5582: UserWarning: \"`sparse_categorical_crossentropy` received `from_logits=True`, but the `output` argument was produced by a Softmax activation and thus does not represent logits. Was this intended?\n",
      "  output, from_logits = _get_logits(\n"
     ]
    },
    {
     "name": "stdout",
     "output_type": "stream",
     "text": [
      "50/50 [==============================] - 5s 73ms/step - loss: 2.2961 - accuracy: 0.1106 - val_loss: 2.2196 - val_accuracy: 0.1775\n",
      "Epoch 2/60\n",
      "50/50 [==============================] - 3s 61ms/step - loss: 2.0727 - accuracy: 0.2062 - val_loss: 1.8558 - val_accuracy: 0.3400\n",
      "Epoch 3/60\n",
      "50/50 [==============================] - 3s 63ms/step - loss: 1.7243 - accuracy: 0.3212 - val_loss: 1.5555 - val_accuracy: 0.4325\n",
      "Epoch 4/60\n",
      "50/50 [==============================] - 3s 61ms/step - loss: 1.5605 - accuracy: 0.3706 - val_loss: 1.5134 - val_accuracy: 0.3850\n",
      "Epoch 5/60\n",
      "50/50 [==============================] - 3s 61ms/step - loss: 1.4298 - accuracy: 0.4244 - val_loss: 1.3948 - val_accuracy: 0.4600\n",
      "Epoch 6/60\n",
      "50/50 [==============================] - 3s 62ms/step - loss: 1.3066 - accuracy: 0.4737 - val_loss: 1.4798 - val_accuracy: 0.3850\n",
      "Epoch 7/60\n",
      "50/50 [==============================] - 3s 61ms/step - loss: 1.2482 - accuracy: 0.4963 - val_loss: 1.2091 - val_accuracy: 0.4775\n",
      "Epoch 8/60\n",
      "50/50 [==============================] - 3s 60ms/step - loss: 1.1364 - accuracy: 0.5381 - val_loss: 1.0727 - val_accuracy: 0.5450\n",
      "Epoch 9/60\n",
      "50/50 [==============================] - 3s 61ms/step - loss: 1.0137 - accuracy: 0.5956 - val_loss: 1.0010 - val_accuracy: 0.5850\n",
      "Epoch 10/60\n",
      "50/50 [==============================] - 3s 61ms/step - loss: 0.9562 - accuracy: 0.6000 - val_loss: 0.8835 - val_accuracy: 0.6925\n",
      "Epoch 11/60\n",
      "50/50 [==============================] - 3s 60ms/step - loss: 0.8600 - accuracy: 0.6600 - val_loss: 1.0003 - val_accuracy: 0.5925\n",
      "Epoch 12/60\n",
      "50/50 [==============================] - 3s 61ms/step - loss: 0.8718 - accuracy: 0.6225 - val_loss: 0.8121 - val_accuracy: 0.6700\n",
      "Epoch 13/60\n",
      "50/50 [==============================] - 3s 61ms/step - loss: 0.7417 - accuracy: 0.7106 - val_loss: 0.8481 - val_accuracy: 0.6800\n",
      "Epoch 14/60\n",
      "50/50 [==============================] - 3s 61ms/step - loss: 0.8443 - accuracy: 0.6669 - val_loss: 0.8229 - val_accuracy: 0.6775\n",
      "Epoch 15/60\n",
      "50/50 [==============================] - 3s 60ms/step - loss: 0.7270 - accuracy: 0.7094 - val_loss: 0.6887 - val_accuracy: 0.6900\n",
      "Epoch 16/60\n",
      "50/50 [==============================] - 3s 63ms/step - loss: 0.6665 - accuracy: 0.7394 - val_loss: 0.6177 - val_accuracy: 0.7525\n",
      "Epoch 17/60\n",
      "50/50 [==============================] - 3s 62ms/step - loss: 0.5505 - accuracy: 0.7937 - val_loss: 0.6100 - val_accuracy: 0.7650\n",
      "Epoch 18/60\n",
      "50/50 [==============================] - 3s 62ms/step - loss: 0.5568 - accuracy: 0.7837 - val_loss: 0.5626 - val_accuracy: 0.8000\n",
      "Epoch 19/60\n",
      "50/50 [==============================] - 3s 61ms/step - loss: 0.5368 - accuracy: 0.7937 - val_loss: 0.6399 - val_accuracy: 0.7650\n",
      "Epoch 20/60\n",
      "50/50 [==============================] - 3s 61ms/step - loss: 0.5078 - accuracy: 0.7931 - val_loss: 0.5170 - val_accuracy: 0.8050\n",
      "Epoch 21/60\n",
      "50/50 [==============================] - 3s 61ms/step - loss: 0.4805 - accuracy: 0.8031 - val_loss: 0.5666 - val_accuracy: 0.7675\n",
      "Epoch 22/60\n",
      "50/50 [==============================] - 3s 61ms/step - loss: 0.4254 - accuracy: 0.8306 - val_loss: 0.5031 - val_accuracy: 0.8025\n",
      "Epoch 23/60\n",
      "50/50 [==============================] - 3s 61ms/step - loss: 0.4168 - accuracy: 0.8200 - val_loss: 0.4498 - val_accuracy: 0.8425\n",
      "Epoch 24/60\n",
      "50/50 [==============================] - 3s 60ms/step - loss: 0.3663 - accuracy: 0.8425 - val_loss: 0.5433 - val_accuracy: 0.7600\n",
      "Epoch 25/60\n",
      "50/50 [==============================] - 3s 61ms/step - loss: 0.4136 - accuracy: 0.8169 - val_loss: 0.4266 - val_accuracy: 0.8225\n",
      "Epoch 26/60\n",
      "50/50 [==============================] - 3s 61ms/step - loss: 0.3674 - accuracy: 0.8369 - val_loss: 0.4512 - val_accuracy: 0.8075\n",
      "Epoch 27/60\n",
      "50/50 [==============================] - 3s 61ms/step - loss: 0.4218 - accuracy: 0.8219 - val_loss: 0.5583 - val_accuracy: 0.7750\n",
      "Epoch 28/60\n",
      "50/50 [==============================] - 3s 62ms/step - loss: 0.3560 - accuracy: 0.8456 - val_loss: 0.3851 - val_accuracy: 0.8675\n",
      "Epoch 29/60\n",
      "50/50 [==============================] - 3s 65ms/step - loss: 0.3593 - accuracy: 0.8394 - val_loss: 0.4411 - val_accuracy: 0.7925\n",
      "Epoch 30/60\n",
      "50/50 [==============================] - 3s 62ms/step - loss: 0.3653 - accuracy: 0.8419 - val_loss: 0.6797 - val_accuracy: 0.7650\n",
      "Epoch 31/60\n",
      "50/50 [==============================] - 3s 61ms/step - loss: 0.3781 - accuracy: 0.8450 - val_loss: 0.4065 - val_accuracy: 0.8100\n",
      "Epoch 32/60\n",
      "50/50 [==============================] - 3s 60ms/step - loss: 0.2920 - accuracy: 0.8669 - val_loss: 0.4027 - val_accuracy: 0.8175\n",
      "Epoch 33/60\n",
      "50/50 [==============================] - 3s 62ms/step - loss: 0.2721 - accuracy: 0.8831 - val_loss: 0.4967 - val_accuracy: 0.7900\n",
      "Epoch 34/60\n",
      "50/50 [==============================] - 3s 63ms/step - loss: 0.2880 - accuracy: 0.8863 - val_loss: 0.3748 - val_accuracy: 0.8650\n",
      "Epoch 35/60\n",
      "50/50 [==============================] - 3s 65ms/step - loss: 0.2674 - accuracy: 0.8781 - val_loss: 0.3786 - val_accuracy: 0.8325\n",
      "Epoch 36/60\n",
      "50/50 [==============================] - 3s 64ms/step - loss: 0.4541 - accuracy: 0.8269 - val_loss: 0.7030 - val_accuracy: 0.7025\n",
      "Epoch 37/60\n",
      "50/50 [==============================] - 3s 64ms/step - loss: 0.4090 - accuracy: 0.8475 - val_loss: 0.4336 - val_accuracy: 0.8050\n",
      "Epoch 38/60\n",
      "50/50 [==============================] - 3s 64ms/step - loss: 0.2907 - accuracy: 0.8806 - val_loss: 0.3759 - val_accuracy: 0.8425\n",
      "Epoch 39/60\n",
      "50/50 [==============================] - 3s 64ms/step - loss: 0.3045 - accuracy: 0.8737 - val_loss: 0.4359 - val_accuracy: 0.8450\n",
      "Epoch 40/60\n",
      "50/50 [==============================] - 3s 63ms/step - loss: 0.2912 - accuracy: 0.8769 - val_loss: 0.3294 - val_accuracy: 0.8925\n",
      "Epoch 41/60\n",
      "50/50 [==============================] - 3s 62ms/step - loss: 0.2323 - accuracy: 0.9025 - val_loss: 0.3087 - val_accuracy: 0.8700\n",
      "Epoch 42/60\n",
      "50/50 [==============================] - 3s 62ms/step - loss: 0.2359 - accuracy: 0.8950 - val_loss: 0.3876 - val_accuracy: 0.8625\n",
      "Epoch 43/60\n",
      "50/50 [==============================] - 3s 61ms/step - loss: 0.2221 - accuracy: 0.9075 - val_loss: 0.3199 - val_accuracy: 0.8775\n",
      "Epoch 44/60\n",
      "50/50 [==============================] - 3s 61ms/step - loss: 0.2417 - accuracy: 0.8981 - val_loss: 0.3882 - val_accuracy: 0.8250\n",
      "Epoch 45/60\n",
      "50/50 [==============================] - 3s 61ms/step - loss: 0.2285 - accuracy: 0.9006 - val_loss: 0.3116 - val_accuracy: 0.8725\n",
      "Epoch 46/60\n",
      "50/50 [==============================] - 3s 65ms/step - loss: 0.2064 - accuracy: 0.9081 - val_loss: 0.3804 - val_accuracy: 0.8275\n",
      "Epoch 47/60\n",
      "50/50 [==============================] - 3s 63ms/step - loss: 0.2090 - accuracy: 0.9056 - val_loss: 0.3824 - val_accuracy: 0.8475\n",
      "Epoch 48/60\n",
      "50/50 [==============================] - 3s 64ms/step - loss: 0.2406 - accuracy: 0.9044 - val_loss: 0.3903 - val_accuracy: 0.8425\n",
      "Epoch 49/60\n",
      "50/50 [==============================] - 3s 63ms/step - loss: 0.2453 - accuracy: 0.8919 - val_loss: 0.4062 - val_accuracy: 0.8125\n",
      "Epoch 50/60\n",
      "50/50 [==============================] - 3s 64ms/step - loss: 0.2496 - accuracy: 0.8950 - val_loss: 0.3396 - val_accuracy: 0.8650\n",
      "Epoch 51/60\n",
      "50/50 [==============================] - 3s 63ms/step - loss: 0.2526 - accuracy: 0.8900 - val_loss: 0.3216 - val_accuracy: 0.8775\n",
      "Epoch 52/60\n",
      "50/50 [==============================] - 3s 66ms/step - loss: 0.2286 - accuracy: 0.9056 - val_loss: 0.4305 - val_accuracy: 0.8475\n",
      "Epoch 53/60\n",
      "50/50 [==============================] - 3s 62ms/step - loss: 0.2214 - accuracy: 0.9038 - val_loss: 0.3673 - val_accuracy: 0.8575\n",
      "Epoch 54/60\n",
      "50/50 [==============================] - 3s 63ms/step - loss: 0.1734 - accuracy: 0.9275 - val_loss: 0.3540 - val_accuracy: 0.8475\n",
      "Epoch 55/60\n",
      "50/50 [==============================] - 3s 62ms/step - loss: 0.1700 - accuracy: 0.9356 - val_loss: 0.3244 - val_accuracy: 0.8775\n",
      "Epoch 56/60\n",
      "50/50 [==============================] - 3s 62ms/step - loss: 0.1588 - accuracy: 0.9413 - val_loss: 0.2689 - val_accuracy: 0.9000\n",
      "Epoch 57/60\n",
      "50/50 [==============================] - 3s 68ms/step - loss: 0.2062 - accuracy: 0.9112 - val_loss: 0.4197 - val_accuracy: 0.8425\n",
      "Epoch 58/60\n",
      "50/50 [==============================] - 4s 82ms/step - loss: 0.3176 - accuracy: 0.8875 - val_loss: 0.7969 - val_accuracy: 0.7625\n"
     ]
    },
    {
     "name": "stdout",
     "output_type": "stream",
     "text": [
      "Epoch 59/60\n",
      "50/50 [==============================] - 4s 79ms/step - loss: 0.3481 - accuracy: 0.8719 - val_loss: 0.5039 - val_accuracy: 0.8325\n",
      "Epoch 60/60\n",
      "50/50 [==============================] - 4s 83ms/step - loss: 0.3206 - accuracy: 0.8813 - val_loss: 0.3450 - val_accuracy: 0.8550\n"
     ]
    }
   ],
   "source": [
    "n_epochs: int = 60\n",
    "\n",
    "best_model_checkpoint_path: str = os.path.join('..', 'models', 'pt-exercise-detector-best.mdl')\n",
    "    \n",
    "checkpoint_callback = tf.keras.callbacks.ModelCheckpoint(filepath=best_model_checkpoint_path, save_best_only=True, save_weights_only=True, initial_value_threshold=.9, verbose=0, monitor='val_accuracy')\n",
    "\n",
    "fbeta_metric = tfa.metrics.FBetaScore(num_classes=np.unique(y_train).size, name='f_beta', average='macro')\n",
    "\n",
    "model.compile(optimizer='adam', loss=tf.keras.losses.SparseCategoricalCrossentropy(from_logits=True), metrics=['accuracy'])\n",
    "history = model.fit(X_train, y_train, epochs=n_epochs, validation_data=(X_test, y_test), callbacks=[checkpoint_callback])"
   ]
  },
  {
   "cell_type": "code",
   "execution_count": 10,
   "metadata": {
    "pycharm": {
     "name": "#%%\n"
    }
   },
   "outputs": [
    {
     "data": {
      "text/html": [
       "<div>\n",
       "<style scoped>\n",
       "    .dataframe tbody tr th:only-of-type {\n",
       "        vertical-align: middle;\n",
       "    }\n",
       "\n",
       "    .dataframe tbody tr th {\n",
       "        vertical-align: top;\n",
       "    }\n",
       "\n",
       "    .dataframe thead th {\n",
       "        text-align: right;\n",
       "    }\n",
       "</style>\n",
       "<table border=\"1\" class=\"dataframe\">\n",
       "  <thead>\n",
       "    <tr style=\"text-align: right;\">\n",
       "      <th></th>\n",
       "      <th>loss</th>\n",
       "      <th>accuracy</th>\n",
       "      <th>val_loss</th>\n",
       "      <th>val_accuracy</th>\n",
       "      <th>epoch</th>\n",
       "    </tr>\n",
       "  </thead>\n",
       "  <tbody>\n",
       "    <tr>\n",
       "      <th>count</th>\n",
       "      <td>60.000000</td>\n",
       "      <td>60.000000</td>\n",
       "      <td>60.000000</td>\n",
       "      <td>60.000000</td>\n",
       "      <td>60.000000</td>\n",
       "    </tr>\n",
       "    <tr>\n",
       "      <th>mean</th>\n",
       "      <td>0.558931</td>\n",
       "      <td>0.773969</td>\n",
       "      <td>0.639890</td>\n",
       "      <td>0.748083</td>\n",
       "      <td>29.500000</td>\n",
       "    </tr>\n",
       "    <tr>\n",
       "      <th>std</th>\n",
       "      <td>0.478481</td>\n",
       "      <td>0.186713</td>\n",
       "      <td>0.413846</td>\n",
       "      <td>0.157938</td>\n",
       "      <td>17.464249</td>\n",
       "    </tr>\n",
       "    <tr>\n",
       "      <th>min</th>\n",
       "      <td>0.158765</td>\n",
       "      <td>0.110625</td>\n",
       "      <td>0.268916</td>\n",
       "      <td>0.177500</td>\n",
       "      <td>0.000000</td>\n",
       "    </tr>\n",
       "    <tr>\n",
       "      <th>25%</th>\n",
       "      <td>0.248520</td>\n",
       "      <td>0.732187</td>\n",
       "      <td>0.381896</td>\n",
       "      <td>0.700000</td>\n",
       "      <td>14.750000</td>\n",
       "    </tr>\n",
       "    <tr>\n",
       "      <th>50%</th>\n",
       "      <td>0.365810</td>\n",
       "      <td>0.843750</td>\n",
       "      <td>0.450492</td>\n",
       "      <td>0.806250</td>\n",
       "      <td>29.500000</td>\n",
       "    </tr>\n",
       "    <tr>\n",
       "      <th>75%</th>\n",
       "      <td>0.681623</td>\n",
       "      <td>0.892656</td>\n",
       "      <td>0.726496</td>\n",
       "      <td>0.847500</td>\n",
       "      <td>44.250000</td>\n",
       "    </tr>\n",
       "    <tr>\n",
       "      <th>max</th>\n",
       "      <td>2.296070</td>\n",
       "      <td>0.941250</td>\n",
       "      <td>2.219559</td>\n",
       "      <td>0.900000</td>\n",
       "      <td>59.000000</td>\n",
       "    </tr>\n",
       "  </tbody>\n",
       "</table>\n",
       "</div>"
      ],
      "text/plain": [
       "            loss   accuracy   val_loss  val_accuracy      epoch\n",
       "count  60.000000  60.000000  60.000000     60.000000  60.000000\n",
       "mean    0.558931   0.773969   0.639890      0.748083  29.500000\n",
       "std     0.478481   0.186713   0.413846      0.157938  17.464249\n",
       "min     0.158765   0.110625   0.268916      0.177500   0.000000\n",
       "25%     0.248520   0.732187   0.381896      0.700000  14.750000\n",
       "50%     0.365810   0.843750   0.450492      0.806250  29.500000\n",
       "75%     0.681623   0.892656   0.726496      0.847500  44.250000\n",
       "max     2.296070   0.941250   2.219559      0.900000  59.000000"
      ]
     },
     "execution_count": 10,
     "metadata": {},
     "output_type": "execute_result"
    }
   ],
   "source": [
    "history_df: pd.DataFrame = pd.DataFrame.from_dict(history.history)\n",
    "history_df['epoch'] = history_df.index.values\n",
    "\n",
    "total_num_epochs: int = history_df.shape[0]\n",
    "\n",
    "history_df.describe()"
   ]
  },
  {
   "cell_type": "code",
   "execution_count": 11,
   "metadata": {
    "pycharm": {
     "name": "#%%\n"
    }
   },
   "outputs": [
    {
     "data": {
      "text/html": [
       "<div>\n",
       "<style scoped>\n",
       "    .dataframe tbody tr th:only-of-type {\n",
       "        vertical-align: middle;\n",
       "    }\n",
       "\n",
       "    .dataframe tbody tr th {\n",
       "        vertical-align: top;\n",
       "    }\n",
       "\n",
       "    .dataframe thead th {\n",
       "        text-align: right;\n",
       "    }\n",
       "</style>\n",
       "<table border=\"1\" class=\"dataframe\">\n",
       "  <thead>\n",
       "    <tr style=\"text-align: right;\">\n",
       "      <th></th>\n",
       "      <th>epoch</th>\n",
       "      <th>accuracy</th>\n",
       "      <th>loss</th>\n",
       "      <th>stage</th>\n",
       "    </tr>\n",
       "  </thead>\n",
       "  <tbody>\n",
       "    <tr>\n",
       "      <th>0</th>\n",
       "      <td>0</td>\n",
       "      <td>0.1775</td>\n",
       "      <td>2.219559</td>\n",
       "      <td>validation</td>\n",
       "    </tr>\n",
       "    <tr>\n",
       "      <th>1</th>\n",
       "      <td>1</td>\n",
       "      <td>0.3400</td>\n",
       "      <td>1.855775</td>\n",
       "      <td>validation</td>\n",
       "    </tr>\n",
       "    <tr>\n",
       "      <th>2</th>\n",
       "      <td>2</td>\n",
       "      <td>0.4325</td>\n",
       "      <td>1.555534</td>\n",
       "      <td>validation</td>\n",
       "    </tr>\n",
       "    <tr>\n",
       "      <th>3</th>\n",
       "      <td>3</td>\n",
       "      <td>0.3850</td>\n",
       "      <td>1.513442</td>\n",
       "      <td>validation</td>\n",
       "    </tr>\n",
       "    <tr>\n",
       "      <th>4</th>\n",
       "      <td>4</td>\n",
       "      <td>0.4600</td>\n",
       "      <td>1.394797</td>\n",
       "      <td>validation</td>\n",
       "    </tr>\n",
       "  </tbody>\n",
       "</table>\n",
       "</div>"
      ],
      "text/plain": [
       "   epoch  accuracy      loss       stage\n",
       "0      0    0.1775  2.219559  validation\n",
       "1      1    0.3400  1.855775  validation\n",
       "2      2    0.4325  1.555534  validation\n",
       "3      3    0.3850  1.513442  validation\n",
       "4      4    0.4600  1.394797  validation"
      ]
     },
     "execution_count": 11,
     "metadata": {},
     "output_type": "execute_result"
    }
   ],
   "source": [
    "val_df: pd.DataFrame = history_df[['epoch', 'val_accuracy', 'val_loss']].copy().rename({'val_accuracy': 'accuracy', 'val_loss': 'loss'}, axis=1)\n",
    "val_df['stage'] = 'validation'\n",
    "train_df: pd.DataFrame = history_df[['epoch', 'accuracy', 'loss']].copy()\n",
    "train_df['stage'] = 'training'\n",
    "\n",
    "results_df: pd.DataFrame = pd.concat([val_df, train_df], ignore_index=True)\n",
    "results_df.head()"
   ]
  },
  {
   "cell_type": "code",
   "execution_count": 12,
   "metadata": {
    "pycharm": {
     "name": "#%%\n"
    }
   },
   "outputs": [
    {
     "data": {
      "text/plain": [
       "<Figure size 825x587.5 with 0 Axes>"
      ]
     },
     "metadata": {},
     "output_type": "display_data"
    },
    {
     "data": {
      "image/png": "[encoded data removed]",
      "text/plain": [
       "<Figure size 630.625x500 with 1 Axes>"
      ]
     },
     "metadata": {},
     "output_type": "display_data"
    }
   ],
   "source": [
    "plt.clf()\n",
    "ax = sns.relplot(data=results_df, x='epoch', y='accuracy', hue='stage', kind='line')\n",
    "plt.show()"
   ]
  },
  {
   "cell_type": "code",
   "execution_count": 13,
   "metadata": {
    "pycharm": {
     "name": "#%%\n"
    }
   },
   "outputs": [
    {
     "data": {
      "text/plain": [
       "<Figure size 825x587.5 with 0 Axes>"
      ]
     },
     "metadata": {},
     "output_type": "display_data"
    },
    {
     "data": {
      "image/png": "[encoded data removed]",
      "text/plain": [
       "<Figure size 630.625x500 with 1 Axes>"
      ]
     },
     "metadata": {},
     "output_type": "display_data"
    }
   ],
   "source": [
    "plt.clf()\n",
    "ax = sns.relplot(data=results_df, x='epoch', y='loss', hue='stage', kind='line')\n",
    "plt.show()"
   ]
  },
  {
   "cell_type": "markdown",
   "metadata": {
    "pycharm": {
     "name": "#%% md\n"
    }
   },
   "source": [
    "Seems like an epoch of 40 is good enough."
   ]
  },
  {
   "cell_type": "code",
   "execution_count": 14,
   "metadata": {
    "pycharm": {
     "name": "#%%\n"
    }
   },
   "outputs": [
    {
     "data": {
      "text/plain": [
       "((1000, 180, 22, 3), (1000,))"
      ]
     },
     "execution_count": 14,
     "metadata": {},
     "output_type": "execute_result"
    }
   ],
   "source": [
    "incorrect_X: np.ndarray = np.stack(df_incorrect['reshaped_skeleton'].values)\n",
    "incorrect_y: np.ndarray = df_incorrect['movement_id'].values\n",
    "\n",
    "incorrect_X.shape, incorrect_y.shape"
   ]
  },
  {
   "cell_type": "code",
   "execution_count": 15,
   "metadata": {
    "pycharm": {
     "name": "#%%\n"
    }
   },
   "outputs": [
    {
     "name": "stdout",
     "output_type": "stream",
     "text": [
      "Model: \"sequential_1\"\n",
      "_________________________________________________________________\n",
      " Layer (type)                Output Shape              Param #   \n",
      "=================================================================\n",
      " normalization (Normalizatio  (None, 180, 22, 3)       3         \n",
      " n)                                                              \n",
      "                                                                 \n",
      " reshape (Reshape)           (None, 180, 66)           0         \n",
      "                                                                 \n",
      " lstm (LSTM)                 (None, 180, 64)           33536     \n",
      "                                                                 \n",
      " lstm_1 (LSTM)               (None, 32)                12416     \n",
      "                                                                 \n",
      " dense (Dense)               (None, 10)                330       \n",
      "                                                                 \n",
      "=================================================================\n",
      "Total params: 46,285\n",
      "Trainable params: 46,282\n",
      "Non-trainable params: 3\n",
      "_________________________________________________________________\n"
     ]
    }
   ],
   "source": [
    "best_model = model\n",
    "best_model.load_weights(best_model_checkpoint_path)\n",
    "best_model.summary()"
   ]
  },
  {
   "cell_type": "code",
   "execution_count": 16,
   "metadata": {
    "pycharm": {
     "name": "#%%\n"
    }
   },
   "outputs": [
    {
     "data": {
      "text/plain": [
       "(1000,)"
      ]
     },
     "execution_count": 16,
     "metadata": {},
     "output_type": "execute_result"
    }
   ],
   "source": [
    "incorrect_y_pred: np.ndarray = np.argmax(best_model(incorrect_X).numpy(), axis=1)\n",
    "incorrect_y_pred.shape"
   ]
  },
  {
   "cell_type": "code",
   "execution_count": 17,
   "metadata": {
    "pycharm": {
     "name": "#%%\n"
    }
   },
   "outputs": [],
   "source": [
    "from sklearn.metrics import accuracy_score, f1_score"
   ]
  },
  {
   "cell_type": "code",
   "execution_count": 18,
   "metadata": {
    "pycharm": {
     "name": "#%%\n"
    }
   },
   "outputs": [
    {
     "data": {
      "text/plain": [
       "(0.005, 0.004478280340349306)"
      ]
     },
     "execution_count": 18,
     "metadata": {},
     "output_type": "execute_result"
    }
   ],
   "source": [
    "accuracy_score(incorrect_y, incorrect_y_pred), f1_score(incorrect_y, incorrect_y_pred, average='macro')"
   ]
  },
  {
   "cell_type": "code",
   "execution_count": 19,
   "metadata": {
    "pycharm": {
     "name": "#%%\n"
    }
   },
   "outputs": [
    {
     "data": {
      "text/plain": [
       "((1000, 180, 22, 3), (1000,))"
      ]
     },
     "execution_count": 19,
     "metadata": {},
     "output_type": "execute_result"
    }
   ],
   "source": [
    "correct_X: np.ndarray = np.stack(df_correct['reshaped_skeleton'].values)\n",
    "correct_y: np.ndarray = df_correct['movement_id'].values\n",
    "    \n",
    "correct_X.shape, correct_y.shape"
   ]
  },
  {
   "cell_type": "code",
   "execution_count": 20,
   "metadata": {
    "pycharm": {
     "name": "#%%\n"
    }
   },
   "outputs": [
    {
     "data": {
      "text/plain": [
       "(1000,)"
      ]
     },
     "execution_count": 20,
     "metadata": {},
     "output_type": "execute_result"
    }
   ],
   "source": [
    "correct_y_pred: np.ndarray = np.argmax(best_model(correct_X).numpy(), axis=1)\n",
    "correct_y_pred.shape"
   ]
  },
  {
   "cell_type": "code",
   "execution_count": 21,
   "metadata": {
    "pycharm": {
     "name": "#%%\n"
    }
   },
   "outputs": [
    {
     "data": {
      "text/plain": [
       "(0.002, 0.0018091361374943465)"
      ]
     },
     "execution_count": 21,
     "metadata": {},
     "output_type": "execute_result"
    }
   ],
   "source": [
    "accuracy_score(correct_y, correct_y_pred), f1_score(correct_y, correct_y_pred, average='macro')"
   ]
  },
  {
   "cell_type": "code",
   "execution_count": null,
   "metadata": {
    "pycharm": {
     "name": "#%%\n"
    }
   },
   "outputs": [],
   "source": []
  },
  {
   "cell_type": "code",
   "execution_count": null,
   "metadata": {
    "pycharm": {
     "name": "#%%\n"
    }
   },
   "outputs": [],
   "source": []
  }
 ],
 "metadata": {
  "kernelspec": {
   "display_name": "Python 3 (ipykernel)",
   "language": "python",
   "name": "python3"
  },
  "language_info": {
   "codemirror_mode": {
    "name": "ipython",
    "version": 3
   },
   "file_extension": ".py",
   "mimetype": "text/x-python",
   "name": "python",
   "nbconvert_exporter": "python",
   "pygments_lexer": "ipython3",
   "version": "3.10.4"
  }
 },
 "nbformat": 4,
 "nbformat_minor": 1
}
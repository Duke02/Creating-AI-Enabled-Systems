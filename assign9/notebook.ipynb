{
 "cells": [
  {
   "cell_type": "code",
   "execution_count": 1,
   "outputs": [],
   "source": [
    "import pandas as pd\n",
    "import numpy as np\n",
    "import os\n",
    "import typing as tp\n",
    "import matplotlib.pyplot as plt\n",
    "import seaborn as sns\n",
    "sns.set_theme(rc={'figure.figsize': (8.25, 5.875), 'figure.dpi': 100, 'axes.labelpad': 2, 'savefig.pad_inches': .5})"
   ],
   "metadata": {
    "collapsed": false,
    "pycharm": {
     "name": "#%%\n"
    }
   }
  },
  {
   "cell_type": "code",
   "execution_count": 2,
   "outputs": [
    {
     "data": {
      "text/plain": "      manufacturer_name  model_name transmission   color  odometer_value  \\\n0                Subaru     Outback    automatic  silver          190000   \n1                Subaru     Outback    automatic    blue          290000   \n2                Subaru    Forester    automatic     red          402000   \n3                Subaru     Impreza   mechanical    blue           10000   \n4                Subaru      Legacy    automatic   black          280000   \n...                 ...         ...          ...     ...             ...   \n38526          Chrysler         300    automatic  silver          290000   \n38527          Chrysler  PT Cruiser   mechanical    blue          321000   \n38528          Chrysler         300    automatic    blue          777957   \n38529          Chrysler  PT Cruiser   mechanical   black           20000   \n38530          Chrysler     Voyager    automatic  silver          297729   \n\n       year_produced engine_fuel  engine_has_gas engine_type  engine_capacity  \\\n0               2010    gasoline           False    gasoline              2.5   \n1               2002    gasoline           False    gasoline              3.0   \n2               2001    gasoline           False    gasoline              2.5   \n3               1999    gasoline           False    gasoline              3.0   \n4               2001    gasoline           False    gasoline              2.5   \n...              ...         ...             ...         ...              ...   \n38526           2000    gasoline           False    gasoline              3.5   \n38527           2004      diesel           False      diesel              2.2   \n38528           2000    gasoline           False    gasoline              3.5   \n38529           2001    gasoline           False    gasoline              2.0   \n38530           2000    gasoline           False    gasoline              2.4   \n\n       ... feature_1  feature_2 feature_3 feature_4  feature_5  feature_6  \\\n0      ...      True       True      True     False       True      False   \n1      ...      True      False     False      True       True      False   \n2      ...      True      False     False     False      False      False   \n3      ...     False      False     False     False      False      False   \n4      ...      True      False      True      True      False      False   \n...    ...       ...        ...       ...       ...        ...        ...   \n38526  ...      True      False     False      True       True      False   \n38527  ...      True      False     False      True       True      False   \n38528  ...      True      False     False      True       True      False   \n38529  ...      True      False     False     False      False      False   \n38530  ...     False      False     False     False      False      False   \n\n      feature_7  feature_8  feature_9  duration_listed  \n0          True       True       True               16  \n1         False      False       True               83  \n2         False       True       True              151  \n3         False      False      False               86  \n4         False      False       True                7  \n...         ...        ...        ...              ...  \n38526     False       True       True              301  \n38527     False       True       True              317  \n38528     False       True       True              369  \n38529     False      False       True              490  \n38530     False      False       True              632  \n\n[38531 rows x 30 columns]",
      "text/html": "<div>\n<style scoped>\n    .dataframe tbody tr th:only-of-type {\n        vertical-align: middle;\n    }\n\n    .dataframe tbody tr th {\n        vertical-align: top;\n    }\n\n    .dataframe thead th {\n        text-align: right;\n    }\n</style>\n<table border=\"1\" class=\"dataframe\">\n  <thead>\n    <tr style=\"text-align: right;\">\n      <th></th>\n      <th>manufacturer_name</th>\n      <th>model_name</th>\n      <th>transmission</th>\n      <th>color</th>\n      <th>odometer_value</th>\n      <th>year_produced</th>\n      <th>engine_fuel</th>\n      <th>engine_has_gas</th>\n      <th>engine_type</th>\n      <th>engine_capacity</th>\n      <th>...</th>\n      <th>feature_1</th>\n      <th>feature_2</th>\n      <th>feature_3</th>\n      <th>feature_4</th>\n      <th>feature_5</th>\n      <th>feature_6</th>\n      <th>feature_7</th>\n      <th>feature_8</th>\n      <th>feature_9</th>\n      <th>duration_listed</th>\n    </tr>\n  </thead>\n  <tbody>\n    <tr>\n      <th>0</th>\n      <td>Subaru</td>\n      <td>Outback</td>\n      <td>automatic</td>\n      <td>silver</td>\n      <td>190000</td>\n      <td>2010</td>\n      <td>gasoline</td>\n      <td>False</td>\n      <td>gasoline</td>\n      <td>2.5</td>\n      <td>...</td>\n      <td>True</td>\n      <td>True</td>\n      <td>True</td>\n      <td>False</td>\n      <td>True</td>\n      <td>False</td>\n      <td>True</td>\n      <td>True</td>\n      <td>True</td>\n      <td>16</td>\n    </tr>\n    <tr>\n      <th>1</th>\n      <td>Subaru</td>\n      <td>Outback</td>\n      <td>automatic</td>\n      <td>blue</td>\n      <td>290000</td>\n      <td>2002</td>\n      <td>gasoline</td>\n      <td>False</td>\n      <td>gasoline</td>\n      <td>3.0</td>\n      <td>...</td>\n      <td>True</td>\n      <td>False</td>\n      <td>False</td>\n      <td>True</td>\n      <td>True</td>\n      <td>False</td>\n      <td>False</td>\n      <td>False</td>\n      <td>True</td>\n      <td>83</td>\n    </tr>\n    <tr>\n      <th>2</th>\n      <td>Subaru</td>\n      <td>Forester</td>\n      <td>automatic</td>\n      <td>red</td>\n      <td>402000</td>\n      <td>2001</td>\n      <td>gasoline</td>\n      <td>False</td>\n      <td>gasoline</td>\n      <td>2.5</td>\n      <td>...</td>\n      <td>True</td>\n      <td>False</td>\n      <td>False</td>\n      <td>False</td>\n      <td>False</td>\n      <td>False</td>\n      <td>False</td>\n      <td>True</td>\n      <td>True</td>\n      <td>151</td>\n    </tr>\n    <tr>\n      <th>3</th>\n      <td>Subaru</td>\n      <td>Impreza</td>\n      <td>mechanical</td>\n      <td>blue</td>\n      <td>10000</td>\n      <td>1999</td>\n      <td>gasoline</td>\n      <td>False</td>\n      <td>gasoline</td>\n      <td>3.0</td>\n      <td>...</td>\n      <td>False</td>\n      <td>False</td>\n      <td>False</td>\n      <td>False</td>\n      <td>False</td>\n      <td>False</td>\n      <td>False</td>\n      <td>False</td>\n      <td>False</td>\n      <td>86</td>\n    </tr>\n    <tr>\n      <th>4</th>\n      <td>Subaru</td>\n      <td>Legacy</td>\n      <td>automatic</td>\n      <td>black</td>\n      <td>280000</td>\n      <td>2001</td>\n      <td>gasoline</td>\n      <td>False</td>\n      <td>gasoline</td>\n      <td>2.5</td>\n      <td>...</td>\n      <td>True</td>\n      <td>False</td>\n      <td>True</td>\n      <td>True</td>\n      <td>False</td>\n      <td>False</td>\n      <td>False</td>\n      <td>False</td>\n      <td>True</td>\n      <td>7</td>\n    </tr>\n    <tr>\n      <th>...</th>\n      <td>...</td>\n      <td>...</td>\n      <td>...</td>\n      <td>...</td>\n      <td>...</td>\n      <td>...</td>\n      <td>...</td>\n      <td>...</td>\n      <td>...</td>\n      <td>...</td>\n      <td>...</td>\n      <td>...</td>\n      <td>...</td>\n      <td>...</td>\n      <td>...</td>\n      <td>...</td>\n      <td>...</td>\n      <td>...</td>\n      <td>...</td>\n      <td>...</td>\n      <td>...</td>\n    </tr>\n    <tr>\n      <th>38526</th>\n      <td>Chrysler</td>\n      <td>300</td>\n      <td>automatic</td>\n      <td>silver</td>\n      <td>290000</td>\n      <td>2000</td>\n      <td>gasoline</td>\n      <td>False</td>\n      <td>gasoline</td>\n      <td>3.5</td>\n      <td>...</td>\n      <td>True</td>\n      <td>False</td>\n      <td>False</td>\n      <td>True</td>\n      <td>True</td>\n      <td>False</td>\n      <td>False</td>\n      <td>True</td>\n      <td>True</td>\n      <td>301</td>\n    </tr>\n    <tr>\n      <th>38527</th>\n      <td>Chrysler</td>\n      <td>PT Cruiser</td>\n      <td>mechanical</td>\n      <td>blue</td>\n      <td>321000</td>\n      <td>2004</td>\n      <td>diesel</td>\n      <td>False</td>\n      <td>diesel</td>\n      <td>2.2</td>\n      <td>...</td>\n      <td>True</td>\n      <td>False</td>\n      <td>False</td>\n      <td>True</td>\n      <td>True</td>\n      <td>False</td>\n      <td>False</td>\n      <td>True</td>\n      <td>True</td>\n      <td>317</td>\n    </tr>\n    <tr>\n      <th>38528</th>\n      <td>Chrysler</td>\n      <td>300</td>\n      <td>automatic</td>\n      <td>blue</td>\n      <td>777957</td>\n      <td>2000</td>\n      <td>gasoline</td>\n      <td>False</td>\n      <td>gasoline</td>\n      <td>3.5</td>\n      <td>...</td>\n      <td>True</td>\n      <td>False</td>\n      <td>False</td>\n      <td>True</td>\n      <td>True</td>\n      <td>False</td>\n      <td>False</td>\n      <td>True</td>\n      <td>True</td>\n      <td>369</td>\n    </tr>\n    <tr>\n      <th>38529</th>\n      <td>Chrysler</td>\n      <td>PT Cruiser</td>\n      <td>mechanical</td>\n      <td>black</td>\n      <td>20000</td>\n      <td>2001</td>\n      <td>gasoline</td>\n      <td>False</td>\n      <td>gasoline</td>\n      <td>2.0</td>\n      <td>...</td>\n      <td>True</td>\n      <td>False</td>\n      <td>False</td>\n      <td>False</td>\n      <td>False</td>\n      <td>False</td>\n      <td>False</td>\n      <td>False</td>\n      <td>True</td>\n      <td>490</td>\n    </tr>\n    <tr>\n      <th>38530</th>\n      <td>Chrysler</td>\n      <td>Voyager</td>\n      <td>automatic</td>\n      <td>silver</td>\n      <td>297729</td>\n      <td>2000</td>\n      <td>gasoline</td>\n      <td>False</td>\n      <td>gasoline</td>\n      <td>2.4</td>\n      <td>...</td>\n      <td>False</td>\n      <td>False</td>\n      <td>False</td>\n      <td>False</td>\n      <td>False</td>\n      <td>False</td>\n      <td>False</td>\n      <td>False</td>\n      <td>True</td>\n      <td>632</td>\n    </tr>\n  </tbody>\n</table>\n<p>38531 rows × 30 columns</p>\n</div>"
     },
     "execution_count": 2,
     "metadata": {},
     "output_type": "execute_result"
    }
   ],
   "source": [
    "cars_path: str = os.path.join('..', 'data', 'Assign4', 'cars.csv')\n",
    "df: pd.DataFrame = pd.read_csv(cars_path)\n",
    "df"
   ],
   "metadata": {
    "collapsed": false,
    "pycharm": {
     "name": "#%%\n"
    }
   }
  },
  {
   "cell_type": "code",
   "execution_count": 27,
   "outputs": [],
   "source": [
    "from sklearn.cluster import KMeans\n",
    "from sklearn.metrics import silhouette_score"
   ],
   "metadata": {
    "collapsed": false,
    "pycharm": {
     "name": "#%%\n"
    }
   }
  },
  {
   "cell_type": "code",
   "execution_count": 4,
   "outputs": [],
   "source": [
    "# I basically took what I had in Module 5 and copied/pasted it here\n",
    "# Yes I know doing a binary encoding would be better, but eh\n",
    "\n",
    "def translate_to_english(belarus_phrase: str) -> str:\n",
    "    if belarus_phrase == 'Минская обл.':\n",
    "        return 'Minsk region'\n",
    "    elif belarus_phrase == 'Гомельская обл.':\n",
    "        return 'Gomel region'\n",
    "    elif belarus_phrase == 'Брестская обл.':\n",
    "        return 'Brest region'\n",
    "    elif belarus_phrase == 'Могилевская обл.':\n",
    "        return 'Mogilev region'\n",
    "    elif belarus_phrase == 'Витебская обл.':\n",
    "        return 'Vitebsk region'\n",
    "    elif belarus_phrase == 'Гродненская обл.':\n",
    "        return 'Grodno region'\n",
    "    else:\n",
    "        return 'ERROR'\n",
    "\n",
    "def onehot_encode_column(df: pd.DataFrame, cols: tp.List[str], prefixes: tp.List[str]) -> tp.Tuple[pd.DataFrame, tp.List[str]]:\n",
    "    df: pd.DataFrame = df.copy()\n",
    "    new_columns: tp.List[str] = []\n",
    "    for column, prefix in zip(cols, prefixes):\n",
    "        dummies: pd.DataFrame = pd.get_dummies(df[column], prefix=prefix)\n",
    "        new_columns.extend(dummies.columns)\n",
    "        df: pd.DataFrame = pd.concat([df, dummies], axis=1)\n",
    "        df: pd.DataFrame = df.drop(column, axis=1)\n",
    "    return df, new_columns\n",
    "\n",
    "def process_columns(df: pd.DataFrame) -> pd.DataFrame:\n",
    "    # Translate region.\n",
    "    df['region_english'] = (df['location_region'].map(translate_to_english)\n",
    "                                        .str.slice(stop=-7))\n",
    "    onehot_encoded_columns: tp.List[str] = ['manufacturer_name', 'region_english', 'engine_type', 'body_type', 'state']\n",
    "    onehot_encoded_prefixes: tp.List[str] = ['make', 'region', 'engine type', 'body', 'state']\n",
    "    df, onehot_new_cols = onehot_encode_column(df, onehot_encoded_columns, onehot_encoded_prefixes)\n",
    "    df['is_automatic'] = df['transmission'] == 'automatic'\n",
    "    scraped_year: int = 2019\n",
    "    df['age_years'] = scraped_year - df['year_produced']\n",
    "    df['is_all_wheel_drive'] = df['drivetrain'] == 'all'\n",
    "    df['is_gas'] = df['engine_fuel'].str.startswith('gas')\n",
    "    boolean_columns: tp.List[str] = ['engine_has_gas', 'has_warranty', 'is_exchangeable', 'is_all_wheel_drive', 'is_automatic', 'is_gas']\n",
    "    df[boolean_columns] = df[boolean_columns].astype(np.int8)\n",
    "    return df\n",
    "\n",
    "def drop_columns(df: pd.DataFrame) -> pd.DataFrame:\n",
    "    bad_feature_names: tp.List[str] = [f'feature_{i}' for i in range(10)]\n",
    "    irrelevant_columns: tp.List[str] = ['number_of_photos', 'up_counter', 'duration_listed', 'model_name', 'color']\n",
    "    processed_columns: tp.List[str] = ['location_region', 'drivetrain', 'transmission', 'year_produced', 'engine_fuel']\n",
    "    columns_to_drop: tp.List[str] = bad_feature_names + irrelevant_columns + processed_columns\n",
    "    df = df.drop(columns_to_drop, axis=1)\n",
    "    return df"
   ],
   "metadata": {
    "collapsed": false,
    "pycharm": {
     "name": "#%%\n"
    }
   }
  },
  {
   "cell_type": "code",
   "execution_count": 5,
   "outputs": [],
   "source": [
    "def process_all_things(df: pd.DataFrame) -> pd.DataFrame:\n",
    "    df: pd.DataFrame = process_columns(df)\n",
    "    df: pd.DataFrame = drop_columns(df)\n",
    "    return df.dropna()"
   ],
   "metadata": {
    "collapsed": false,
    "pycharm": {
     "name": "#%%\n"
    }
   }
  },
  {
   "cell_type": "code",
   "execution_count": 6,
   "outputs": [
    {
     "data": {
      "text/plain": "       odometer_value  engine_has_gas  engine_capacity  has_warranty  \\\n0              190000               0              2.5             0   \n1              290000               0              3.0             0   \n2              402000               0              2.5             0   \n3               10000               0              3.0             0   \n4              280000               0              2.5             0   \n...               ...             ...              ...           ...   \n38526          290000               0              3.5             0   \n38527          321000               0              2.2             0   \n38528          777957               0              3.5             0   \n38529           20000               0              2.0             0   \n38530          297729               0              2.4             0   \n\n       price_usd  is_exchangeable  make_Acura  make_Alfa Romeo  make_Audi  \\\n0       10900.00                0           0                0          0   \n1        5000.00                1           0                0          0   \n2        2800.00                1           0                0          0   \n3        9999.00                1           0                0          0   \n4        2134.11                1           0                0          0   \n...          ...              ...         ...              ...        ...   \n38526    2750.00                1           0                0          0   \n38527    4800.00                1           0                0          0   \n38528    4300.00                0           0                0          0   \n38529    4000.00                1           0                0          0   \n38530    3200.00                1           0                0          0   \n\n       make_BMW  ...  body_suv  body_universal  body_van  state_emergency  \\\n0             0  ...         0               1         0                0   \n1             0  ...         0               1         0                0   \n2             0  ...         1               0         0                0   \n3             0  ...         0               0         0                0   \n4             0  ...         0               1         0                0   \n...         ...  ...       ...             ...       ...              ...   \n38526         0  ...         0               0         0                0   \n38527         0  ...         0               0         0                0   \n38528         0  ...         0               0         0                0   \n38529         0  ...         0               0         0                0   \n38530         0  ...         0               0         0                0   \n\n       state_new  state_owned  is_automatic  age_years  is_all_wheel_drive  \\\n0              0            1             1          9                   1   \n1              0            1             1         17                   1   \n2              0            1             1         18                   1   \n3              0            1             0         20                   1   \n4              0            1             1         18                   1   \n...          ...          ...           ...        ...                 ...   \n38526          0            1             1         19                   0   \n38527          0            1             0         15                   0   \n38528          0            1             1         19                   0   \n38529          0            1             0         18                   0   \n38530          0            1             1         19                   0   \n\n       is_gas  \n0           1  \n1           1  \n2           1  \n3           1  \n4           1  \n...       ...  \n38526       1  \n38527       0  \n38528       1  \n38529       1  \n38530       1  \n\n[38521 rows x 89 columns]",
      "text/html": "<div>\n<style scoped>\n    .dataframe tbody tr th:only-of-type {\n        vertical-align: middle;\n    }\n\n    .dataframe tbody tr th {\n        vertical-align: top;\n    }\n\n    .dataframe thead th {\n        text-align: right;\n    }\n</style>\n<table border=\"1\" class=\"dataframe\">\n  <thead>\n    <tr style=\"text-align: right;\">\n      <th></th>\n      <th>odometer_value</th>\n      <th>engine_has_gas</th>\n      <th>engine_capacity</th>\n      <th>has_warranty</th>\n      <th>price_usd</th>\n      <th>is_exchangeable</th>\n      <th>make_Acura</th>\n      <th>make_Alfa Romeo</th>\n      <th>make_Audi</th>\n      <th>make_BMW</th>\n      <th>...</th>\n      <th>body_suv</th>\n      <th>body_universal</th>\n      <th>body_van</th>\n      <th>state_emergency</th>\n      <th>state_new</th>\n      <th>state_owned</th>\n      <th>is_automatic</th>\n      <th>age_years</th>\n      <th>is_all_wheel_drive</th>\n      <th>is_gas</th>\n    </tr>\n  </thead>\n  <tbody>\n    <tr>\n      <th>0</th>\n      <td>190000</td>\n      <td>0</td>\n      <td>2.5</td>\n      <td>0</td>\n      <td>10900.00</td>\n      <td>0</td>\n      <td>0</td>\n      <td>0</td>\n      <td>0</td>\n      <td>0</td>\n      <td>...</td>\n      <td>0</td>\n      <td>1</td>\n      <td>0</td>\n      <td>0</td>\n      <td>0</td>\n      <td>1</td>\n      <td>1</td>\n      <td>9</td>\n      <td>1</td>\n      <td>1</td>\n    </tr>\n    <tr>\n      <th>1</th>\n      <td>290000</td>\n      <td>0</td>\n      <td>3.0</td>\n      <td>0</td>\n      <td>5000.00</td>\n      <td>1</td>\n      <td>0</td>\n      <td>0</td>\n      <td>0</td>\n      <td>0</td>\n      <td>...</td>\n      <td>0</td>\n      <td>1</td>\n      <td>0</td>\n      <td>0</td>\n      <td>0</td>\n      <td>1</td>\n      <td>1</td>\n      <td>17</td>\n      <td>1</td>\n      <td>1</td>\n    </tr>\n    <tr>\n      <th>2</th>\n      <td>402000</td>\n      <td>0</td>\n      <td>2.5</td>\n      <td>0</td>\n      <td>2800.00</td>\n      <td>1</td>\n      <td>0</td>\n      <td>0</td>\n      <td>0</td>\n      <td>0</td>\n      <td>...</td>\n      <td>1</td>\n      <td>0</td>\n      <td>0</td>\n      <td>0</td>\n      <td>0</td>\n      <td>1</td>\n      <td>1</td>\n      <td>18</td>\n      <td>1</td>\n      <td>1</td>\n    </tr>\n    <tr>\n      <th>3</th>\n      <td>10000</td>\n      <td>0</td>\n      <td>3.0</td>\n      <td>0</td>\n      <td>9999.00</td>\n      <td>1</td>\n      <td>0</td>\n      <td>0</td>\n      <td>0</td>\n      <td>0</td>\n      <td>...</td>\n      <td>0</td>\n      <td>0</td>\n      <td>0</td>\n      <td>0</td>\n      <td>0</td>\n      <td>1</td>\n      <td>0</td>\n      <td>20</td>\n      <td>1</td>\n      <td>1</td>\n    </tr>\n    <tr>\n      <th>4</th>\n      <td>280000</td>\n      <td>0</td>\n      <td>2.5</td>\n      <td>0</td>\n      <td>2134.11</td>\n      <td>1</td>\n      <td>0</td>\n      <td>0</td>\n      <td>0</td>\n      <td>0</td>\n      <td>...</td>\n      <td>0</td>\n      <td>1</td>\n      <td>0</td>\n      <td>0</td>\n      <td>0</td>\n      <td>1</td>\n      <td>1</td>\n      <td>18</td>\n      <td>1</td>\n      <td>1</td>\n    </tr>\n    <tr>\n      <th>...</th>\n      <td>...</td>\n      <td>...</td>\n      <td>...</td>\n      <td>...</td>\n      <td>...</td>\n      <td>...</td>\n      <td>...</td>\n      <td>...</td>\n      <td>...</td>\n      <td>...</td>\n      <td>...</td>\n      <td>...</td>\n      <td>...</td>\n      <td>...</td>\n      <td>...</td>\n      <td>...</td>\n      <td>...</td>\n      <td>...</td>\n      <td>...</td>\n      <td>...</td>\n      <td>...</td>\n    </tr>\n    <tr>\n      <th>38526</th>\n      <td>290000</td>\n      <td>0</td>\n      <td>3.5</td>\n      <td>0</td>\n      <td>2750.00</td>\n      <td>1</td>\n      <td>0</td>\n      <td>0</td>\n      <td>0</td>\n      <td>0</td>\n      <td>...</td>\n      <td>0</td>\n      <td>0</td>\n      <td>0</td>\n      <td>0</td>\n      <td>0</td>\n      <td>1</td>\n      <td>1</td>\n      <td>19</td>\n      <td>0</td>\n      <td>1</td>\n    </tr>\n    <tr>\n      <th>38527</th>\n      <td>321000</td>\n      <td>0</td>\n      <td>2.2</td>\n      <td>0</td>\n      <td>4800.00</td>\n      <td>1</td>\n      <td>0</td>\n      <td>0</td>\n      <td>0</td>\n      <td>0</td>\n      <td>...</td>\n      <td>0</td>\n      <td>0</td>\n      <td>0</td>\n      <td>0</td>\n      <td>0</td>\n      <td>1</td>\n      <td>0</td>\n      <td>15</td>\n      <td>0</td>\n      <td>0</td>\n    </tr>\n    <tr>\n      <th>38528</th>\n      <td>777957</td>\n      <td>0</td>\n      <td>3.5</td>\n      <td>0</td>\n      <td>4300.00</td>\n      <td>0</td>\n      <td>0</td>\n      <td>0</td>\n      <td>0</td>\n      <td>0</td>\n      <td>...</td>\n      <td>0</td>\n      <td>0</td>\n      <td>0</td>\n      <td>0</td>\n      <td>0</td>\n      <td>1</td>\n      <td>1</td>\n      <td>19</td>\n      <td>0</td>\n      <td>1</td>\n    </tr>\n    <tr>\n      <th>38529</th>\n      <td>20000</td>\n      <td>0</td>\n      <td>2.0</td>\n      <td>0</td>\n      <td>4000.00</td>\n      <td>1</td>\n      <td>0</td>\n      <td>0</td>\n      <td>0</td>\n      <td>0</td>\n      <td>...</td>\n      <td>0</td>\n      <td>0</td>\n      <td>0</td>\n      <td>0</td>\n      <td>0</td>\n      <td>1</td>\n      <td>0</td>\n      <td>18</td>\n      <td>0</td>\n      <td>1</td>\n    </tr>\n    <tr>\n      <th>38530</th>\n      <td>297729</td>\n      <td>0</td>\n      <td>2.4</td>\n      <td>0</td>\n      <td>3200.00</td>\n      <td>1</td>\n      <td>0</td>\n      <td>0</td>\n      <td>0</td>\n      <td>0</td>\n      <td>...</td>\n      <td>0</td>\n      <td>0</td>\n      <td>0</td>\n      <td>0</td>\n      <td>0</td>\n      <td>1</td>\n      <td>1</td>\n      <td>19</td>\n      <td>0</td>\n      <td>1</td>\n    </tr>\n  </tbody>\n</table>\n<p>38521 rows × 89 columns</p>\n</div>"
     },
     "execution_count": 6,
     "metadata": {},
     "output_type": "execute_result"
    }
   ],
   "source": [
    "processed_df: pd.DataFrame = process_all_things(df)\n",
    "processed_df"
   ],
   "metadata": {
    "collapsed": false,
    "pycharm": {
     "name": "#%%\n"
    }
   }
  },
  {
   "cell_type": "code",
   "execution_count": 7,
   "outputs": [],
   "source": [
    "X: np.ndarray = processed_df.values"
   ],
   "metadata": {
    "collapsed": false,
    "pycharm": {
     "name": "#%%\n"
    }
   }
  },
  {
   "cell_type": "code",
   "execution_count": 33,
   "outputs": [
    {
     "name": "stdout",
     "output_type": "stream",
     "text": [
      "Going to 196 number of clusters...\n",
      "Doing k=2...\n",
      "Doing k=3...\n",
      "Doing k=4...\n",
      "Doing k=5...\n",
      "Doing k=6...\n",
      "Doing k=7...\n",
      "Doing k=8...\n",
      "Doing k=9...\n",
      "Doing k=10...\n",
      "Doing k=11...\n",
      "Doing k=12...\n",
      "Doing k=13...\n",
      "Doing k=14...\n",
      "Doing k=15...\n",
      "Doing k=16...\n",
      "Doing k=17...\n",
      "Doing k=18...\n",
      "Doing k=19...\n",
      "Doing k=20...\n",
      "Doing k=21...\n",
      "Doing k=22...\n",
      "Doing k=23...\n",
      "Doing k=24...\n",
      "Doing k=25...\n",
      "Doing k=26...\n",
      "Doing k=27...\n",
      "Doing k=28...\n",
      "Doing k=29...\n",
      "Doing k=30...\n",
      "Doing k=31...\n",
      "Doing k=32...\n",
      "Doing k=33...\n",
      "Doing k=34...\n",
      "Doing k=35...\n",
      "Doing k=36...\n",
      "Doing k=37...\n",
      "Doing k=38...\n",
      "Doing k=39...\n",
      "Doing k=40...\n",
      "Doing k=41...\n",
      "Doing k=42...\n",
      "Doing k=43...\n",
      "Doing k=44...\n",
      "Doing k=45...\n",
      "Doing k=46...\n",
      "Doing k=47...\n",
      "Doing k=48...\n",
      "Doing k=49...\n",
      "Doing k=50...\n",
      "Doing k=51...\n",
      "Doing k=52...\n",
      "Doing k=53...\n",
      "Doing k=54...\n",
      "Doing k=55...\n",
      "Doing k=56...\n",
      "Doing k=57...\n",
      "Doing k=58...\n",
      "Doing k=59...\n",
      "Doing k=60...\n",
      "Doing k=61...\n",
      "Doing k=62...\n",
      "Doing k=63...\n",
      "Doing k=64...\n",
      "Doing k=65...\n",
      "Doing k=66...\n",
      "Doing k=67...\n",
      "Doing k=68...\n",
      "Doing k=69...\n",
      "Doing k=70...\n",
      "Doing k=71...\n",
      "Doing k=72...\n",
      "Doing k=73...\n",
      "Doing k=74...\n",
      "Doing k=75...\n",
      "Doing k=76...\n",
      "Doing k=77...\n",
      "Doing k=78...\n",
      "Doing k=79...\n",
      "Doing k=80...\n",
      "Doing k=81...\n",
      "Doing k=82...\n",
      "Doing k=83...\n",
      "Doing k=84...\n",
      "Doing k=85...\n",
      "Doing k=86...\n",
      "Doing k=87...\n",
      "Doing k=88...\n",
      "Doing k=89...\n",
      "Doing k=90...\n",
      "Doing k=91...\n",
      "Doing k=92...\n",
      "Doing k=93...\n",
      "Doing k=94...\n",
      "Doing k=95...\n",
      "Doing k=96...\n",
      "Doing k=97...\n",
      "Doing k=98...\n",
      "Doing k=99...\n",
      "Doing k=100...\n",
      "Doing k=101...\n",
      "Doing k=102...\n",
      "Doing k=103...\n",
      "Doing k=104...\n",
      "Doing k=105...\n",
      "Doing k=106...\n",
      "Doing k=107...\n",
      "Doing k=108...\n",
      "Doing k=109...\n",
      "Doing k=110...\n",
      "Doing k=111...\n",
      "Doing k=112...\n",
      "Doing k=113...\n",
      "Doing k=114...\n",
      "Doing k=115...\n",
      "Doing k=116...\n",
      "Doing k=117...\n",
      "Doing k=118...\n",
      "Doing k=119...\n",
      "Doing k=120...\n",
      "Doing k=121...\n",
      "Doing k=122...\n",
      "Doing k=123...\n",
      "Doing k=124...\n",
      "Doing k=125...\n",
      "Doing k=126...\n",
      "Doing k=127...\n",
      "Doing k=128...\n",
      "Doing k=129...\n",
      "Doing k=130...\n",
      "Doing k=131...\n",
      "Doing k=132...\n",
      "Doing k=133...\n",
      "Doing k=134...\n",
      "Doing k=135...\n",
      "Doing k=136...\n",
      "Doing k=137...\n",
      "Doing k=138...\n",
      "Doing k=139...\n",
      "Doing k=140...\n",
      "Doing k=141...\n",
      "Doing k=142...\n",
      "Doing k=143...\n",
      "Doing k=144...\n",
      "Doing k=145...\n",
      "Doing k=146...\n",
      "Doing k=147...\n",
      "Doing k=148...\n",
      "Doing k=149...\n",
      "Doing k=150...\n",
      "Doing k=151...\n",
      "Doing k=152...\n",
      "Doing k=153...\n",
      "Doing k=154...\n",
      "Doing k=155...\n",
      "Doing k=156...\n",
      "Doing k=157...\n",
      "Doing k=158...\n",
      "Doing k=159...\n",
      "Doing k=160...\n",
      "Doing k=161...\n",
      "Doing k=162...\n",
      "Doing k=163...\n",
      "Doing k=164...\n",
      "Doing k=165...\n",
      "Doing k=166...\n",
      "Doing k=167...\n",
      "Doing k=168...\n",
      "Doing k=169...\n",
      "Doing k=170...\n",
      "Doing k=171...\n",
      "Doing k=172...\n",
      "Doing k=173...\n",
      "Doing k=174...\n",
      "Doing k=175...\n",
      "Doing k=176...\n",
      "Doing k=177...\n",
      "Doing k=178...\n",
      "Doing k=179...\n",
      "Doing k=180...\n",
      "Doing k=181...\n",
      "Doing k=182...\n",
      "Doing k=183...\n",
      "Doing k=184...\n",
      "Doing k=185...\n",
      "Doing k=186...\n",
      "Doing k=187...\n",
      "Doing k=188...\n",
      "Doing k=189...\n",
      "Doing k=190...\n",
      "Doing k=191...\n",
      "Doing k=192...\n",
      "Doing k=193...\n",
      "Doing k=194...\n",
      "Doing k=195...\n"
     ]
    },
    {
     "data": {
      "text/plain": "       k       inertia                                    cluster_centers  \\\n0      2  3.131843e+14  [[153218.51043902442, 0.025121951219511954, 2....   \n1      3  1.864318e+14  [[306021.6330774958, 0.04387224560534779, 2.10...   \n2      4  1.078316e+14  [[871026.4166666671, 0.04523809523809523, 2.09...   \n3      5  6.716216e+13  [[313857.04215116403, 0.04444614443084455, 2.0...   \n4      6  4.587655e+13  [[270437.8490255522, 0.03993070593330447, 2.08...   \n..   ...           ...                                                ...   \n189  191  3.124230e+11  [[100492.89705882352, 0.014705882352941176, 2....   \n190  192  3.114008e+11  [[98892.37142857144, 0.01428571428571428, 2.86...   \n191  193  3.094492e+11  [[98892.37142857144, 0.014285714285714287, 2.8...   \n192  194  3.076566e+11  [[98892.37142857144, 0.01428571428571428, 2.86...   \n193  195  3.050984e+11  [[175498.81578947365, 0.030701754385964897, 1....   \n\n     silhouette  \n0      0.542363  \n1      0.554462  \n2      0.526540  \n3      0.526947  \n4      0.522342  \n..          ...  \n189    0.431675  \n190    0.431260  \n191    0.431557  \n192    0.431660  \n193    0.428604  \n\n[194 rows x 4 columns]",
      "text/html": "<div>\n<style scoped>\n    .dataframe tbody tr th:only-of-type {\n        vertical-align: middle;\n    }\n\n    .dataframe tbody tr th {\n        vertical-align: top;\n    }\n\n    .dataframe thead th {\n        text-align: right;\n    }\n</style>\n<table border=\"1\" class=\"dataframe\">\n  <thead>\n    <tr style=\"text-align: right;\">\n      <th></th>\n      <th>k</th>\n      <th>inertia</th>\n      <th>cluster_centers</th>\n      <th>silhouette</th>\n    </tr>\n  </thead>\n  <tbody>\n    <tr>\n      <th>0</th>\n      <td>2</td>\n      <td>3.131843e+14</td>\n      <td>[[153218.51043902442, 0.025121951219511954, 2....</td>\n      <td>0.542363</td>\n    </tr>\n    <tr>\n      <th>1</th>\n      <td>3</td>\n      <td>1.864318e+14</td>\n      <td>[[306021.6330774958, 0.04387224560534779, 2.10...</td>\n      <td>0.554462</td>\n    </tr>\n    <tr>\n      <th>2</th>\n      <td>4</td>\n      <td>1.078316e+14</td>\n      <td>[[871026.4166666671, 0.04523809523809523, 2.09...</td>\n      <td>0.526540</td>\n    </tr>\n    <tr>\n      <th>3</th>\n      <td>5</td>\n      <td>6.716216e+13</td>\n      <td>[[313857.04215116403, 0.04444614443084455, 2.0...</td>\n      <td>0.526947</td>\n    </tr>\n    <tr>\n      <th>4</th>\n      <td>6</td>\n      <td>4.587655e+13</td>\n      <td>[[270437.8490255522, 0.03993070593330447, 2.08...</td>\n      <td>0.522342</td>\n    </tr>\n    <tr>\n      <th>...</th>\n      <td>...</td>\n      <td>...</td>\n      <td>...</td>\n      <td>...</td>\n    </tr>\n    <tr>\n      <th>189</th>\n      <td>191</td>\n      <td>3.124230e+11</td>\n      <td>[[100492.89705882352, 0.014705882352941176, 2....</td>\n      <td>0.431675</td>\n    </tr>\n    <tr>\n      <th>190</th>\n      <td>192</td>\n      <td>3.114008e+11</td>\n      <td>[[98892.37142857144, 0.01428571428571428, 2.86...</td>\n      <td>0.431260</td>\n    </tr>\n    <tr>\n      <th>191</th>\n      <td>193</td>\n      <td>3.094492e+11</td>\n      <td>[[98892.37142857144, 0.014285714285714287, 2.8...</td>\n      <td>0.431557</td>\n    </tr>\n    <tr>\n      <th>192</th>\n      <td>194</td>\n      <td>3.076566e+11</td>\n      <td>[[98892.37142857144, 0.01428571428571428, 2.86...</td>\n      <td>0.431660</td>\n    </tr>\n    <tr>\n      <th>193</th>\n      <td>195</td>\n      <td>3.050984e+11</td>\n      <td>[[175498.81578947365, 0.030701754385964897, 1....</td>\n      <td>0.428604</td>\n    </tr>\n  </tbody>\n</table>\n<p>194 rows × 4 columns</p>\n</div>"
     },
     "execution_count": 33,
     "metadata": {},
     "output_type": "execute_result"
    }
   ],
   "source": [
    "results: tp.List[tp.Dict[str, tp.Union[str, int, float]]] = []\n",
    "\n",
    "max_k: int = int(max([np.log2(X.shape[0]), X.shape[0] ** .5, 75]))\n",
    "\n",
    "print(f'Going to {max_k} number of clusters...')\n",
    "\n",
    "for k in range(2, max_k):\n",
    "    print(f'Doing k={k}...')\n",
    "    model = KMeans(n_clusters=k, random_state=13)\n",
    "\n",
    "    model.fit(X)\n",
    "\n",
    "    silhouette: float = silhouette_score(X, model.labels_, random_state=13)\n",
    "\n",
    "    results.append({'k': k, 'inertia': model.inertia_, 'cluster_centers': model.cluster_centers_, 'silhouette': silhouette})\n",
    "\n",
    "results_df: pd.DataFrame = pd.DataFrame.from_records(results)\n",
    "results_df"
   ],
   "metadata": {
    "collapsed": false,
    "pycharm": {
     "name": "#%%\n"
    }
   }
  },
  {
   "cell_type": "code",
   "execution_count": 34,
   "outputs": [
    {
     "data": {
      "text/plain": "<Figure size 825x587.5 with 0 Axes>"
     },
     "metadata": {},
     "output_type": "display_data"
    },
    {
     "data": {
      "text/plain": "<Figure size 500x500 with 1 Axes>",
      "image/png": "[encoded data removed]"
     },
     "metadata": {},
     "output_type": "display_data"
    }
   ],
   "source": [
    "plt.clf()\n",
    "sns.relplot(data=results_df, x='k', y='inertia', kind='line')\n",
    "plt.show()"
   ],
   "metadata": {
    "collapsed": false,
    "pycharm": {
     "name": "#%%\n"
    }
   }
  },
  {
   "cell_type": "code",
   "execution_count": 37,
   "outputs": [
    {
     "data": {
      "text/plain": "<Figure size 825x587.5 with 0 Axes>"
     },
     "metadata": {},
     "output_type": "display_data"
    },
    {
     "data": {
      "text/plain": "<Figure size 500x500 with 1 Axes>",
      "image/png": "[encoded data removed]"
     },
     "metadata": {},
     "output_type": "display_data"
    }
   ],
   "source": [
    "plt.clf()\n",
    "sns.relplot(data=results_df.query('inertia < 1e12').copy(), x='k', y='inertia', kind='line')\n",
    "plt.show()"
   ],
   "metadata": {
    "collapsed": false,
    "pycharm": {
     "name": "#%%\n"
    }
   }
  },
  {
   "cell_type": "code",
   "execution_count": 36,
   "outputs": [
    {
     "data": {
      "text/plain": "                k       inertia  silhouette\ncount  194.000000  1.940000e+02  194.000000\nmean    98.500000  5.396950e+12    0.445974\nstd     56.147128  2.776179e+13    0.028017\nmin      2.000000  3.050984e+11    0.420256\n25%     50.250000  4.188010e+11    0.428555\n50%     98.500000  6.498578e+11    0.437108\n75%    146.750000  1.388429e+12    0.445786\nmax    195.000000  3.131843e+14    0.554462",
      "text/html": "<div>\n<style scoped>\n    .dataframe tbody tr th:only-of-type {\n        vertical-align: middle;\n    }\n\n    .dataframe tbody tr th {\n        vertical-align: top;\n    }\n\n    .dataframe thead th {\n        text-align: right;\n    }\n</style>\n<table border=\"1\" class=\"dataframe\">\n  <thead>\n    <tr style=\"text-align: right;\">\n      <th></th>\n      <th>k</th>\n      <th>inertia</th>\n      <th>silhouette</th>\n    </tr>\n  </thead>\n  <tbody>\n    <tr>\n      <th>count</th>\n      <td>194.000000</td>\n      <td>1.940000e+02</td>\n      <td>194.000000</td>\n    </tr>\n    <tr>\n      <th>mean</th>\n      <td>98.500000</td>\n      <td>5.396950e+12</td>\n      <td>0.445974</td>\n    </tr>\n    <tr>\n      <th>std</th>\n      <td>56.147128</td>\n      <td>2.776179e+13</td>\n      <td>0.028017</td>\n    </tr>\n    <tr>\n      <th>min</th>\n      <td>2.000000</td>\n      <td>3.050984e+11</td>\n      <td>0.420256</td>\n    </tr>\n    <tr>\n      <th>25%</th>\n      <td>50.250000</td>\n      <td>4.188010e+11</td>\n      <td>0.428555</td>\n    </tr>\n    <tr>\n      <th>50%</th>\n      <td>98.500000</td>\n      <td>6.498578e+11</td>\n      <td>0.437108</td>\n    </tr>\n    <tr>\n      <th>75%</th>\n      <td>146.750000</td>\n      <td>1.388429e+12</td>\n      <td>0.445786</td>\n    </tr>\n    <tr>\n      <th>max</th>\n      <td>195.000000</td>\n      <td>3.131843e+14</td>\n      <td>0.554462</td>\n    </tr>\n  </tbody>\n</table>\n</div>"
     },
     "execution_count": 36,
     "metadata": {},
     "output_type": "execute_result"
    }
   ],
   "source": [
    "results_df.describe()"
   ],
   "metadata": {
    "collapsed": false,
    "pycharm": {
     "name": "#%%\n"
    }
   }
  },
  {
   "cell_type": "markdown",
   "source": [
    "I'd say that if there *were* going to be classifications, there could be like 20-50ish possible before there's a loss of information."
   ],
   "metadata": {
    "collapsed": false,
    "pycharm": {
     "name": "#%% md\n"
    }
   }
  },
  {
   "cell_type": "code",
   "execution_count": null,
   "outputs": [],
   "source": [],
   "metadata": {
    "collapsed": false,
    "pycharm": {
     "name": "#%%\n"
    }
   }
  }
 ],
 "metadata": {
  "kernelspec": {
   "display_name": "Python 3",
   "language": "python",
   "name": "python3"
  },
  "language_info": {
   "codemirror_mode": {
    "name": "ipython",
    "version": 2
   },
   "file_extension": ".py",
   "mimetype": "text/x-python",
   "name": "python",
   "nbconvert_exporter": "python",
   "pygments_lexer": "ipython2",
   "version": "2.7.6"
  }
 },
 "nbformat": 4,
 "nbformat_minor": 0
}